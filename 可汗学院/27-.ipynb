{
 "cells": [
  {
   "cell_type": "code",
   "execution_count": 5,
   "id": "governing-vitamin",
   "metadata": {
    "collapsed": true
   },
   "outputs": [],
   "source": [
    "import matplotlib.pyplot as plt\n",
    "%matplotlib inline"
   ]
  },
  {
   "cell_type": "code",
   "execution_count": null,
   "id": "agricultural-scene",
   "metadata": {
    "collapsed": true
   },
   "outputs": [],
   "source": []
  },
  {
   "cell_type": "markdown",
   "id": "younger-basement",
   "metadata": {},
   "source": [
    "## 行简化阶梯形\n",
    "1.首非零元所在列的其余元素是0\n",
    "\n",
    "2.非零行最左边的首个非零元素，严格地比上面行的首个非零元素更靠右\n",
    "\n",
    "3.全零行都在矩阵的底部\n",
    "\n",
    "例如：\n",
    "$$\\left[\\begin{array}{dd}\n",
    "1&2&3\\\\\n",
    "0&1&2\\\\\n",
    "0&0&1\\\\\n",
    "\\end{array}\n",
    "\\right] ,\n",
    "\\left[\\begin{array}{dd}\n",
    "1&2&3&4\\\\\n",
    "0&3&2&2\\\\\n",
    "0&0&2&5\\\\\n",
    "\\end{array}\n",
    "\\right],\n",
    "\\left[\\begin{array}{dd}\n",
    "1&1&0&7&2\\\\\n",
    "0&0&1&-2&2\\\\\n",
    "\\end{array}\n",
    "\\right] $$\n",
    "\n",
    "以下的就不是了：\n",
    "\n",
    "$$\\left[\\begin{array}{dd}\n",
    "1&2&3\\\\\n",
    "0&1&2\\\\\n",
    "0&1&1\\\\\n",
    "\\end{array}\n",
    "\\right],\n",
    "\\left[\\begin{array}{dd}\n",
    "1&2&3&4\\\\\n",
    "0&3&2&2\\\\\n",
    "0&0&0&0\\\\\n",
    "0&0&2&5\\\\\n",
    "\\end{array}\n",
    "\\right]$$\n",
    "第一个是因为第三列的首个非0元素，没有在第二列首个非0元素的右边\n",
    "\n",
    "第二个是因为全0列应该在矩阵底部"
   ]
  },
  {
   "cell_type": "markdown",
   "id": "corporate-carrier",
   "metadata": {},
   "source": [
    "行简化矩阵的主元列，**主元是在主元位置上的非零元素**，上述矩阵的主元列依次是前三列，前三列，第一列和第三列，其他变量就是自由变量"
   ]
  },
  {
   "cell_type": "markdown",
   "id": "narrow-label",
   "metadata": {
    "collapsed": true
   },
   "source": [
    "## 矩阵的线性组合\n",
    "$$a=\\begin{bmatrix}3\\\\2\\\\-1\\\\\\end{bmatrix},\n",
    "b=\\begin{bmatrix}2\\\\-1\\\\-3\\\\\\end{bmatrix},\n",
    "c=\\begin{bmatrix}-1\\\\5\\\\3\\\\\\end{bmatrix}\\\\\n",
    "A=\\begin{bmatrix}a\\\\b\\\\c\\\\\\end{bmatrix},\n",
    "X=\\begin{bmatrix}x_1\\\\x_2\\\\x_3\\\\\\end{bmatrix}$$"
   ]
  },
  {
   "cell_type": "markdown",
   "id": "developing-excellence",
   "metadata": {},
   "source": [
    "$$AX=ax_1+bx_2+cx_3$$"
   ]
  },
  {
   "cell_type": "markdown",
   "id": "practical-approval",
   "metadata": {},
   "source": [
    "## 零空间和齐次线性方程组\n",
    "零空间也称为线性映射的核，不同于行、列空间关注的Ax=b,零空间$N(A)$关注的是x的空间，即改空间中的任何向量都是齐次线性方程组$Ax=0$的解。\n",
    "\n",
    "举例：\n",
    "\n",
    "$$\\begin{bmatrix}1,1,2\\\\1,2,3\\\\1,3,4\\\\1,4,5\\\\\\end{bmatrix} \\begin{bmatrix}x_1\\\\x_2\\\\x_3\\\\\\end{bmatrix}=\\begin{bmatrix}0\\\\0\\\\0\\\\0\\\\\\end{bmatrix}$$\n",
    "\n",
    "可以看到左边向量的第三列=第一列+第二列，所以很容易得到一个解$\\begin{bmatrix}1\\\\1\\\\-1\\\\\\end{bmatrix}$，所以任意的$C\\begin{bmatrix}1\\\\1\\\\-1\\\\\\end{bmatrix}$，$C$是常数，都是上述的解。\n",
    "\n",
    "因此$C\\begin{bmatrix}1\\\\1\\\\-1\\\\\\end{bmatrix}$便是A的零空间，记为$N(A),N(A)\\in R^n$"
   ]
  },
  {
   "cell_type": "markdown",
   "id": "absolute-example",
   "metadata": {},
   "source": [
    "## 非齐次线性方程组\n",
    "零空间在求解非齐次线性方程组（Non-homogeneous systems of linear equations）$Ax=b$中起到重要作用\n",
    "\n",
    "设：$u,v$是非齐次线性方程组$Ax=b$的两个解，那么$A(u-v)=Au-Av=b-b=0$,所以$u-v$位于A的零空间中，则$Ax=b$的完整解可以表述为$(v+z)$,$z$是$Ax=0$的零空间$N(A)$。\n",
    "\n",
    "用几何语言来描述就是：\n",
    "$Ax=b的解是在v的基础上平移A的零空间$"
   ]
  },
  {
   "cell_type": "markdown",
   "id": "administrative-pakistan",
   "metadata": {},
   "source": [
    "## 汇总"
   ]
  },
  {
   "cell_type": "markdown",
   "id": "american-monthly",
   "metadata": {},
   "source": [
    "所有的一切从一个向量A开始说起：\n",
    "$$A=\\begin{bmatrix}1,1,1,1\\\\2,1,4,3\\\\3,4,1,2\\\\\\end{bmatrix}$$"
   ]
  },
  {
   "cell_type": "markdown",
   "id": "neutral-thanks",
   "metadata": {},
   "source": [
    "Q:A的列空间是？\n",
    "$$C(A)=span\\left(\\begin{bmatrix}1\\\\2\\\\3\\\\\\end{bmatrix},\\begin{bmatrix}1\\\\1\\\\4\\\\\\end{bmatrix},\\begin{bmatrix}1\\\\4\\\\1\\\\\\end{bmatrix},\\begin{bmatrix}1\\\\3\\\\2\\\\\\end{bmatrix}\\right) $$"
   ]
  },
  {
   "cell_type": "markdown",
   "id": "green-reservation",
   "metadata": {},
   "source": [
    "Q:A的零空间是？\n",
    "\n",
    "A的零空间=A的行简化阶梯型的零空间：$N(A)=N(rref(A))=\\begin{bmatrix}x_1\\\\x_2\\\\x_3\\\\x_4\\\\\\end{bmatrix}$\n",
    "\n",
    "A的行简化阶梯型：\n",
    "$$\\hat{A}=\\begin{bmatrix}1&0&3&2\\\\0&1&-2&-1\\\\0&0&0&0\\\\\\end{bmatrix}$$\n",
    "\n",
    "所以$$\\left(\\hat{A}*\\begin{bmatrix}x_1\\\\x_2\\\\x_3\\\\x_4\\\\\\end{bmatrix}=\\begin{bmatrix}0\\\\0\\\\0\\\\\\end{bmatrix}\\right)$$\n",
    "$$\\Downarrow$$\n",
    "$$x_1=-3x_3-2x_4$$\n",
    "$$x_2=2x_3+x_4$$\n",
    "$$\\Downarrow$$\n",
    "$$N(A)=\\begin{bmatrix}x_1\\\\x_2\\\\x_3\\\\x_4\\\\\\end{bmatrix}=x_3\\begin{bmatrix}a_1\\\\a_2\\\\a_3\\\\a_4\\\\\\end{bmatrix}+x_4\\begin{bmatrix}b_1\\\\b_2\\\\b_3\\\\b_4\\\\\\end{bmatrix}$$"
   ]
  },
  {
   "cell_type": "markdown",
   "id": "elementary-flesh",
   "metadata": {},
   "source": [
    "由上面的$x_1,x_2$的线性公式变换成矩阵可以知道，$a_1=-3,b_1=-2,a_2=2,b_2=1$，在A的行简化阶梯型矩阵中，第一列和第二列的1为主元，第三列和第四列没有主元，所以$x_3,x_4$是自由变量，则$a_3=1,a_4=0，b_3=0,b_4=1$\n",
    "\n",
    "最后得出：\n",
    "$$N(A)=\\begin{bmatrix}x_1\\\\x_2\\\\x_3\\\\x_4\\\\\\end{bmatrix}=x_3\\begin{bmatrix}-3\\\\2\\\\1\\\\0\\\\\\end{bmatrix}+x_4\\begin{bmatrix}-2\\\\1\\\\0\\\\1\\\\\\end{bmatrix}=span\\left(\\begin{bmatrix}-3\\\\2\\\\1\\\\0\\\\\\end{bmatrix},\\begin{bmatrix}-2\\\\1\\\\0\\\\1\\\\\\end{bmatrix}\\right)$$"
   ]
  },
  {
   "cell_type": "markdown",
   "id": "saving-prayer",
   "metadata": {},
   "source": [
    "Q:A是线性无关的吗？\n"
   ]
  },
  {
   "cell_type": "markdown",
   "id": "mediterranean-blackberry",
   "metadata": {},
   "source": [
    "当向量线性无关的时候$N(A)=\\{\\vec{0}\\}$，但是由上面可知$N(A)$是有其他的解，所以$N(A)$不是线性相关的"
   ]
  },
  {
   "cell_type": "markdown",
   "id": "light-australia",
   "metadata": {},
   "source": [
    "Q:A是否是A的列空间的一组基？"
   ]
  },
  {
   "cell_type": "markdown",
   "id": "smart-tattoo",
   "metadata": {},
   "source": [
    "既然是线性相关的，那就不是A的基，表示A内有多余的向量，是可以由其他的向量生成的。所以两个自由向量是可以由两个主元向量生成的。\n",
    "$$x_1\\begin{bmatrix}1\\\\2\\\\3\\\\\\end{bmatrix}+x_2\\begin{bmatrix}1\\\\1\\\\4\\\\\\end{bmatrix}+x_3\\begin{bmatrix}1\\\\4\\\\1\\\\\\end{bmatrix}+x_4\\begin{bmatrix}1\\\\3\\\\2\\\\\\end{bmatrix}=0$$\n",
    "证明：令$x_3=0,x_4=-1$解出$x_1,x_2$则说明第四列是可以由前两列线性组合生成的，再令$x_3=-1,x_4=0$解出$x_1,x_2$，则说明第三列是可以由前两列线性组合生成的。\n",
    "\n",
    "所以最后只剩下第一列和第二列，这就是A的列空间的基"
   ]
  },
  {
   "cell_type": "markdown",
   "id": "spiritual-diamond",
   "metadata": {},
   "source": [
    "## 任意子空间的基底数目相同"
   ]
  },
  {
   "cell_type": "markdown",
   "id": "consistent-cooling",
   "metadata": {},
   "source": [
    "## 任意一个矩阵的零度=行简化阶梯型矩阵的自由变量的数目\n",
    "## 矩阵的秩(Rank)=行简化阶梯型矩阵的主元的数目"
   ]
  },
  {
   "cell_type": "markdown",
   "id": "optical-still",
   "metadata": {},
   "source": [
    "## 线性变换"
   ]
  },
  {
   "cell_type": "markdown",
   "id": "quick-electric",
   "metadata": {},
   "source": [
    "Q:满足什么条件可以叫做线性变换：\n",
    "$$T(\\vec{a}+\\vec{b})=T(\\vec{a})+T(\\vec{b})$$\n",
    "\n",
    "$$T(c\\vec{a})=cT(\\vec{a})$$\n",
    "\n",
    "所有线性变换都可以携程矩阵与向量的乘积。"
   ]
  },
  {
   "cell_type": "markdown",
   "id": "complimentary-waterproof",
   "metadata": {},
   "source": [
    "### 变换的像空间\n",
    "$$\\vec{v}是R^n的子空间，\\vec{a},\\vec{b}\\in \\vec{v}$$\n",
    "\n",
    "$$T(v)=im(v)是v在T变换下的像,那么im(v)包含V下所有子集的T变换的像。\n",
    "那么意味着：$$\n",
    "\n",
    "$$T(\\vec{a}),T(\\vec{b})\\in T(v)$$\n",
    "$$T(\\vec{a}+\\vec{b})=T(\\vec{a}+\\vec{b})\\in T(\\vec{v})$$\n",
    "\n",
    "反过来，如果知道线性转换T(x)->Y和已知Y下的像S，那么对应的在X下形成S的子集，称为原像,记作：$T^{-1}(s)$"
   ]
  },
  {
   "cell_type": "markdown",
   "id": "working-mining",
   "metadata": {},
   "source": [
    "## 线性变换的加法和数乘运算\n",
    "\n",
    "$$S:R^n\\rightarrow R^m，T:R^n\\rightarrow R^m$$\n",
    "$$\\Downarrow$$\n",
    "$$(S+T)\\vec{x}=S(\\vec{x})+T(\\vec{x})，（S+T):R^n\\rightarrow R^m$$\n",
    "$$\\Downarrow$$\n",
    "$$(cS)\\vec{x}=c(S(\\vec{x}))，cS:R^n\\rightarrow R^m$$"
   ]
  },
  {
   "cell_type": "markdown",
   "id": "entire-column",
   "metadata": {},
   "source": [
    "### 线性变换：放缩和映射"
   ]
  },
  {
   "cell_type": "markdown",
   "id": "friendly-mustang",
   "metadata": {},
   "source": [
    "假设：\n",
    "$$\\vec{a}=\\begin{bmatrix}3\\\\2\\\\\\end{bmatrix},\\vec{b}=\\begin{bmatrix}-3\\\\2\\\\\\end{bmatrix},\\vec{c}=\\begin{bmatrix}3\\\\-2\\\\\\end{bmatrix}$$"
   ]
  },
  {
   "cell_type": "code",
   "execution_count": 44,
   "id": "progressive-return",
   "metadata": {
    "collapsed": true
   },
   "outputs": [],
   "source": [
    "a=[2,2,-2,2]\n",
    "b=[3,-3,3,3]"
   ]
  },
  {
   "cell_type": "code",
   "execution_count": 45,
   "id": "outdoor-brighton",
   "metadata": {},
   "outputs": [
    {
     "data": {
      "text/plain": [
       "(-7, 7)"
      ]
     },
     "execution_count": 45,
     "metadata": {},
     "output_type": "execute_result"
    },
    {
     "data": {
      "image/png": "[encoded data removed]",
      "text/plain": [
       "<matplotlib.figure.Figure at 0x7f9e3687a860>"
      ]
     },
     "metadata": {},
     "output_type": "display_data"
    }
   ],
   "source": [
    "fig,ax = plt.subplots(figsize=(5, 5))\n",
    "ax.plot(b,a)\n",
    "ax.axhline(y=0,ls=\":\",c='k')\n",
    "ax.axvline(x=0,ls=\":\",c=\"k\")\n",
    "plt.xlim((-7, 7))\n",
    "plt.ylim((-7, 7))"
   ]
  },
  {
   "cell_type": "markdown",
   "id": "headed-commercial",
   "metadata": {},
   "source": [
    "如果想通过转换图像变成下图所示，那么转换函数怎么求呢？"
   ]
  },
  {
   "cell_type": "code",
   "execution_count": 47,
   "id": "russian-airfare",
   "metadata": {},
   "outputs": [
    {
     "data": {
      "text/plain": [
       "(-7, 7)"
      ]
     },
     "execution_count": 47,
     "metadata": {},
     "output_type": "execute_result"
    },
    {
     "data": {
      "image/png": "[encoded data removed]",
      "text/plain": [
       "<matplotlib.figure.Figure at 0x7f9e3689ce48>"
      ]
     },
     "metadata": {},
     "output_type": "display_data"
    }
   ],
   "source": [
    "a=[-4,-4,4,-4]\n",
    "b=[3,-3,3,3]\n",
    "fig,ax = plt.subplots(figsize=(5, 5))\n",
    "ax.plot(b,a)\n",
    "ax.axhline(y=0,ls=\":\",c='k')\n",
    "ax.axvline(x=0,ls=\":\",c=\"k\")\n",
    "plt.xlim((-7, 7))\n",
    "plt.ylim((-7, 7))"
   ]
  },
  {
   "cell_type": "markdown",
   "id": "rubber-carol",
   "metadata": {},
   "source": [
    "对比原图形，可以看出x轴进行了反转，y轴扩大了2倍。转换成函数表示即：\n",
    "$$x_1=-1x，y_1=2y$$\n",
    "$$\\Downarrow$$\n",
    "$$T(\\begin{bmatrix}x\\\\y\\\\\\end{bmatrix})=\\begin{bmatrix}-x\\\\2y\\\\\\end{bmatrix}$$、\n",
    "\n",
    "从R2的单位矩阵出发，进行变换。对单位矩阵的每一列进行变换\n",
    "$$A=\\left[T(\\begin{bmatrix}1\\\\0\\\\\\end{bmatrix})T(\\begin{bmatrix}0\\\\1\\\\\\end{bmatrix})\\right]=\\begin{bmatrix}-1,0\\\\0,2\\\\\\end{bmatrix}$$\n",
    "那么$\\vec{a}$经过变换之后就等于\n",
    "$$\\begin{bmatrix}-1,0\\\\0,2\\\\\\end{bmatrix}\\begin{bmatrix}-3\\\\2\\\\\\end{bmatrix}=\\begin{bmatrix}3\\\\4\\\\\\end{bmatrix}$$\n",
    "依次变换之后得到的坐标，就是目标点的坐标了"
   ]
  },
  {
   "cell_type": "markdown",
   "id": "average-scottish",
   "metadata": {},
   "source": [
    "## 单位向量\n",
    "$$\\hat{i}=\\begin{bmatrix}1,0,0\\\\0,1,0\\\\0,0,1\\\\\\end{bmatrix}$$\n",
    "已知一个向量求这个向量的单位向量：\n",
    "$$A=\\begin{bmatrix}2\\\\1\\\\\\end{bmatrix}$$\n",
    "$$\\hat{u}=\\sqrt{2^2+1^2}\\begin{bmatrix}2\\\\1\\\\\\end{bmatrix}$$\n",
    "$$\\hat{u}=\\begin{bmatrix}\\frac{2}{\\sqrt{5}}\\\\\\frac{1}{\\sqrt{5}}\\\\\\end{bmatrix}$$"
   ]
  },
  {
   "cell_type": "markdown",
   "id": "literary-singer",
   "metadata": {},
   "source": [
    "## 投影\n",
    "已知向量x和方向L，x减去x在L上的投影将与L正交。即：\n",
    "$$(\\vec{x}-c\\vec{v})\\cdot \\vec{v}=0$$ v是方向L上的向量，所以$L=c\\vec{v}$，最后得到：\n",
    "$$c=\\frac{\\vec{x}\\cdot \\vec{v}}{\\vec{v}\\cdot \\vec{v}}$$\n",
    "\n",
    "那么$$Proj_l(\\vec{x})=\\left(\\frac{\\vec{x}\\cdot \\vec{v}}{\\vec{v}\\cdot \\vec{v}}\\right)\\vec{v}$$\n",
    "\n",
    "定义$\\hat{u}$是$\\vec{v}$上的单位向量，那么上面的公式可以表示为：\n",
    "$$Proj_l(\\vec{x})=\\left(\\frac{\\vec{x}\\cdot \\hat{u}}{\\hat{u}\\cdot \\hat{u}}\\right)\\hat{u}$$\n",
    "$$\\downarrow$$\n",
    "$$Proj_l(\\vec{x})=(\\vec{x}\\cdot \\vec{u}) \\vec{u}=A\\vec{x}$$\n",
    "从R2->R2中。\n",
    "$$A=\\begin{bmatrix}1,0\\\\0,1\\\\\\end{bmatrix}\\begin{bmatrix}u_1\\\\u_2\\\\\\end{bmatrix}=\\begin{bmatrix}u_1^2,u_2u_1\\\\u_1u_2,u_2^2\\\\\\end{bmatrix}$$\n",
    "\n",
    "示例：\n",
    "设：$$L=\\begin{bmatrix}2\\\\1\\\\\\end{bmatrix}$$\n",
    "那么$\\vec{x}$在L上的投影就等于：\n",
    "$$Proj_l(\\vec{x})=\\begin{bmatrix}\\frac{4}{5},\\frac{2}{5}\\\\\\frac{2}{5},\\frac{1}{5}\\\\\\end{bmatrix}\\vec{x}$$"
   ]
  },
  {
   "cell_type": "markdown",
   "id": "dying-newark",
   "metadata": {},
   "source": [
    "当矩阵$\\vec{x}$经过S变换得到$\\vec{y}$再经过T变换得到$\\vec{L}$,\n",
    "$$\\vec{y}=A\\vec{x}$$\n",
    "$$\\vec{L}=B\\vec{y}$$\n",
    "那么最终的复合变换矩阵就变成了：\n",
    "$$\\vec{L}=AB\\vec{x}$$\n",
    "所以，复合矩阵的变换变成了两个矩阵的乘积。"
   ]
  },
  {
   "cell_type": "markdown",
   "id": "considerable-dayton",
   "metadata": {},
   "source": [
    "## 逆函数\n",
    "首先恒等函数表述,总是返回值自身\n",
    "$$I(x)=x$$\n",
    "\n",
    "假设有函数$f(x)=y$，并且其可逆,那么函数$f$的逆函数表示为$f^-1$，并且$f。f^-1=I$\n",
    "\n",
    "$f(x)$的解是唯一的，并且是可逆的那么：\n",
    "（1）$f^{-1}是唯一的$（2）$f(x)=y的解是唯一的$"
   ]
  },
  {
   "cell_type": "markdown",
   "id": "powerful-wagon",
   "metadata": {},
   "source": [
    "## 满射函数和单射函数"
   ]
  },
  {
   "cell_type": "markdown",
   "id": "therapeutic-nepal",
   "metadata": {},
   "source": [
    "$f(x)=Y$在Y中每一个y至少都有一个对应的x，使得$f(x)=y$那么就是满射函数，\n",
    "上域是可以映射到的集合，不一定每个都要映射到。值域是你必须要映射到的集合（im，range)。\n",
    "在Y中每一个y只有一个对应的x，使得$f(x)=y$那么就是单射函数\n",
    "### 满射函数和单射函数并不是互斥的，当一个函数即是满射函数，又是单射函数，那么这个函数是可逆的。因为$f(x)$的解是唯一的。"
   ]
  },
  {
   "cell_type": "markdown",
   "id": "steady-tragedy",
   "metadata": {},
   "source": [
    "## 变换是否映上的判别方法：\n",
    "$$Rank(A)=dim(C(A))$$\n",
    "示例：\n",
    "$$S:R^2\\rightarrow R^3$$\n",
    "$$S(\\vec{x})=\\begin{bmatrix}1\\quad2\\\\3\\quad4\\\\5\\quad6\\\\\\end{bmatrix}\\vec{x}$$\n",
    "$s$是映上的吗？\n",
    "对S进行行简化阶梯形得到：\n",
    "$$\\begin{bmatrix}1\\quad0\\\\0\\quad1\\\\0\\quad0\\\\\\end{bmatrix}$$\n",
    "可以看到矩阵中只有两个主元。那么\n",
    "$$Rank(\\begin{bmatrix}1\\quad2\\\\3\\quad4\\\\5\\quad6\\\\\\end{bmatrix})=2\\quad!=R^3$$\n",
    "所以没有映上。\n"
   ]
  },
  {
   "cell_type": "markdown",
   "id": "terminal-piece",
   "metadata": {},
   "source": [
    "## 可逆性的简化条件及求逆\n",
    "$$T:R^n-R^n \\quad T(x)=A_(n*n)\\vec{x}$$\n",
    "只有当$T$的行简化阶梯矩形等于$I_n$的单位矩阵，那么T是可逆的\n",
    "那么如果一个矩阵是可逆的，如何求得其逆矩阵呢？（高斯-若尔丹消元法）\n",
    "$$A=\\begin{bmatrix}1&-1&-1\\\\-1&2&3\\\\1&1&4\\\\\\end{bmatrix}$$\n",
    "首先写上对应的n*n的单位矩阵：\n",
    "$$\\left[\\begin{array}{ccc|ccc}1&-1&-1&1&0&0\\\\-1& 2&3&0&1&0\\\\1&1&4&0&0&1\\\\\\end{array}\\right]$$\n",
    "直到把左边消成单位矩阵，那么右边的矩阵就变成了A的逆矩阵了。\n",
    "$$\\left[\\begin{array}{ccc|ccc}1&0&0&5&3&-1\\\\0&1&0&7&5&-2\\\\0&0&1&-3&-2&1\\\\\\end{array}\\right]$$\n",
    "$$\\Downarrow$$\n",
    "$$A^{-1}=\\left[\\begin{array}{ccc|ccc}5&3&-1\\\\7&5&-2\\\\-3&-2&1\\\\\\end{array}\\right]$$"
   ]
  },
  {
   "cell_type": "markdown",
   "id": "utility-wisdom",
   "metadata": {},
   "source": [
    "## 2x2矩阵的逆矩阵的一般形式\n",
    "$$A=\\begin{bmatrix}a & b\\\\c & d\\\\\\end{bmatrix},A^{-1}=\\frac{1}{ad-bc}\\begin{bmatrix}d & -b\\\\-c & a\\\\\\end{bmatrix}$$"
   ]
  },
  {
   "cell_type": "markdown",
   "id": "liquid-consideration",
   "metadata": {},
   "source": [
    "## 萨吕法则求行列式\n",
    "$$A=\\begin{bmatrix}a&b&c\\\\d&e&f\\\\g&h&i\\\\\\end{bmatrix}$$\n",
    "首先复制前两列进行增广：\n",
    "$$\\left[\\begin{array}{ccc|cc}a&b&c&a&b\\\\d&e&f&d&e\\\\g&h&i&g&h\\\\\\end{array}\\right]$$\n",
    "$$|A|=aei+bfg+cdh-ceg-afh-bdi$$\n",
    "** 当矩阵中某一行乘以$K,K\\in R$时，$det(A^{'})=k*det(A)$，如果矩阵整体乘以K，则$det(A^{'})=k^2*det(A)$**\n",
    "\n",
    "** 三个矩阵A,B,C当C中某一行$Row(c)=Row(A)+Row(B)$，并且其他行全部相等时，$det(C)=det(A)+det(B)$**\n",
    "\n",
    "$$ A=\\begin{bmatrix}r_1\\\\r_2\\\\r_i\\\\r_j\\\\\\vdots\\\\r_n\\\\\\end{bmatrix}$$当交换$r_i,r_j$的位置时得到$S$，那么：\n",
    "$det(S)=-det(A)$,**当$r_i,r_j$相同时，则表示$det(S)=-det(A)=det(A)$,说明行列式=0，则矩阵不可逆。**\n",
    "\n",
    "上三角矩阵$A=\\begin{bmatrix}1,2,3\\\\0,2,1\\\\0,0,4\\\\\\end{bmatrix}$的行列式即对角线的乘积：$det(A)=1*2*4$"
   ]
  },
  {
   "cell_type": "markdown",
   "id": "remarkable-placement",
   "metadata": {},
   "source": [
    "现有向量$\\vec{a}=[0,3],\\vec{b}=[4,0]$可以看成两个向量,形成了矩形的面积$S=3*4$"
   ]
  },
  {
   "cell_type": "code",
   "execution_count": 65,
   "id": "coastal-collector",
   "metadata": {
    "scrolled": true
   },
   "outputs": [
    {
     "data": {
      "text/plain": [
       "<matplotlib.patches.FancyArrow at 0x7f9e3689a198>"
      ]
     },
     "execution_count": 65,
     "metadata": {},
     "output_type": "execute_result"
    },
    {
     "data": {
      "image/png": "[encoded data removed]",
      "text/plain": [
       "<matplotlib.figure.Figure at 0x7f9e36725470>"
      ]
     },
     "metadata": {},
     "output_type": "display_data"
    }
   ],
   "source": [
    "a=[0,3,3,0,0]\n",
    "b=[0,0,4,4,0]\n",
    "fig,ax = plt.subplots(figsize=(5, 5))\n",
    "ax.plot(a,b)\n",
    "ax.arrow(0,0,3,0,fc='r',\n",
    "             ec='r',\n",
    "         length_includes_head=True, # 增加的长度包含箭头部分\n",
    "              head_width=0.2,\n",
    "              head_length=0.1,)\n",
    "ax.arrow(0,0,0,4,fc='r',\n",
    "             ec='r',\n",
    "         length_includes_head=True, # 增加的长度包含箭头部分\n",
    "              head_width=0.2,\n",
    "              head_length=0.1,)\n",
    "# ax.axhline(y=0,ls=\":\",c='k')\n",
    "# ax.axvline(x=0,ls=\":\",c=\"k\")\n",
    "# plt.xlim((-7, 7))\n",
    "# plt.ylim((-7, 7))"
   ]
  },
  {
   "cell_type": "markdown",
   "id": "textile-bracket",
   "metadata": {},
   "source": [
    "对两个向量进行T变换，$T(\\vec{x})=\\begin{bmatrix}a&b\\\\c&d\\\\\\end{bmatrix}\\vec{x}$,对上述四个点进行变换，得到新的点形成的四边形B，形成的面积是？"
   ]
  },
  {
   "cell_type": "markdown",
   "id": "national-replacement",
   "metadata": {},
   "source": [
    "$T([0,0])=[0,0],T([3,0])=[3a,3c],T([3,4])=[3a+4b,3c+4d],T([0,4])=[4b,4d]$\n",
    "a=2,c=1,b=1,d=1"
   ]
  },
  {
   "cell_type": "code",
   "execution_count": 68,
   "id": "cleared-intermediate",
   "metadata": {
    "scrolled": false
   },
   "outputs": [
    {
     "data": {
      "text/plain": [
       "<matplotlib.patches.FancyArrow at 0x7f9e361b89b0>"
      ]
     },
     "execution_count": 68,
     "metadata": {},
     "output_type": "execute_result"
    },
    {
     "data": {
      "image/png": "[encoded data removed]",
      "text/plain": [
       "<matplotlib.figure.Figure at 0x7f9e361d4128>"
      ]
     },
     "metadata": {},
     "output_type": "display_data"
    }
   ],
   "source": [
    "a=[0,6,10,4,0]\n",
    "b=[0,3,7,4,0]\n",
    "fig,ax = plt.subplots(figsize=(5, 5))\n",
    "ax.plot(a,b)\n",
    "ax.annotate('3a+4b,3c+4d',[10,7])\n",
    "ax.arrow(0,0,6,3,fc='r',\n",
    "             ec='r',\n",
    "         length_includes_head=True, # 增加的长度包含箭头部分\n",
    "              head_width=0.2,\n",
    "              head_length=0.1,)\n",
    "ax.arrow(0,0,4,4,fc='r',\n",
    "             ec='r',\n",
    "         length_includes_head=True, # 增加的长度包含箭头部分\n",
    "              head_width=0.2,\n",
    "              head_length=0.1,)\n",
    "# ax.axhline(y=0,ls=\":\",c='k')\n",
    "# ax.axvline(x=0,ls=\":\",c=\"k\")\n",
    "# plt.xlim((-10, 10))\n",
    "# plt.ylim((-10, 10))"
   ]
  },
  {
   "cell_type": "markdown",
   "id": "liquid-details",
   "metadata": {},
   "source": [
    "**四边形的面积=abs(矩阵的行列式)**\n",
    "\n",
    "$S(B)=\\left|\\begin{bmatrix}3a&4b\\\\3c&4d\\\\\\end{bmatrix}\\right|=abs(12ad-12bc)=abs(12(det(A)))$"
   ]
  },
  {
   "cell_type": "markdown",
   "id": "inappropriate-cologne",
   "metadata": {},
   "source": [
    "**所以原始向量形成的面积A，在$T:R^2->R^2$变换后，形成的面积B=abs(A*det(B))**"
   ]
  },
  {
   "cell_type": "markdown",
   "id": "furnished-surprise",
   "metadata": {},
   "source": []
  },
  {
   "cell_type": "markdown",
   "id": "posted-thirty",
   "metadata": {},
   "source": [
    "$0.\\overline{3} =\n",
    "\\underline{\\underline{1/3}}$\n",
    "\n",
    "$\\hat{XY} \\qquad \\widehat{XY}$\n",
    "\n",
    "$\\vec{AB} \\qquad\n",
    "\\overrightarrow{AB}$"
   ]
  },
  {
   "cell_type": "markdown",
   "id": "friendly-syndication",
   "metadata": {},
   "source": [
    "$$\\underbrace{\\overbrace{a+b+c}^6\n",
    "\\cdot \\overbrace{d+e+f}^7}\n",
    "_\\text{meaning of life} = 42$$"
   ]
  },
  {
   "cell_type": "markdown",
   "id": "extreme-leone",
   "metadata": {},
   "source": [
    "$$\n",
    "\\mathbf{X} = \\left(\n",
    "\\begin{array}{cccc}\n",
    "x_{11} & x_{12} & \\ldots & x_{1n}\\\\\n",
    "x_{21} & x_{22} & \\ldots & x_{2n}\\\\\n",
    "\\vdots & \\vdots & \\ddots & \\vdots\\\\\n",
    "x_{n1} & x_{n2} & \\ldots & x_{nn}\\\\\n",
    "\\end{array}\n",
    "\\right) \n",
    "$$"
   ]
  },
  {
   "cell_type": "code",
   "execution_count": null,
   "id": "pointed-trademark",
   "metadata": {
    "collapsed": true
   },
   "outputs": [],
   "source": []
  }
 ],
 "metadata": {
  "kernelspec": {
   "display_name": "Python 3",
   "language": "python",
   "name": "python3"
  },
  "language_info": {
   "codemirror_mode": {
    "name": "ipython",
    "version": 3
   },
   "file_extension": ".py",
   "mimetype": "text/x-python",
   "name": "python",
   "nbconvert_exporter": "python",
   "pygments_lexer": "ipython3",
   "version": "3.6.2"
  }
 },
 "nbformat": 4,
 "nbformat_minor": 5
}
