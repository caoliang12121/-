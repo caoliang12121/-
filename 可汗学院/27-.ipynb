{
 "cells": [
  {
   "cell_type": "markdown",
   "id": "white-queen",
   "metadata": {
    "collapsed": true
   },
   "source": [
    "## 外积\n",
    "在R3中向量A，B的外积\n",
    "$$AxB=C\\\\\n",
    "得到的C向量与A和B正交$$"
   ]
  },
  {
   "cell_type": "markdown",
   "id": "cleared-organ",
   "metadata": {},
   "source": [
    "在前面介绍了：\n",
    "a与b的点积\n",
    "$$a\\cdot b=\\|a\\|\\|b\\|cos(\\theta)$$\n",
    "那么在R3中a与b的外积：\n",
    "$$a*b=\\|a\\|\\|b\\|sin(\\theta)$$"
   ]
  },
  {
   "cell_type": "markdown",
   "id": "unsigned-gnome",
   "metadata": {},
   "source": []
  },
  {
   "cell_type": "markdown",
   "id": "charming-software",
   "metadata": {},
   "source": []
  },
  {
   "cell_type": "markdown",
   "id": "functional-growth",
   "metadata": {},
   "source": []
  },
  {
   "cell_type": "markdown",
   "id": "interstate-examination",
   "metadata": {},
   "source": []
  },
  {
   "cell_type": "markdown",
   "id": "interpreted-carbon",
   "metadata": {},
   "source": []
  },
  {
   "cell_type": "markdown",
   "id": "bronze-luxury",
   "metadata": {},
   "source": []
  }
 ],
 "metadata": {
  "kernelspec": {
   "display_name": "Python 3",
   "language": "python",
   "name": "python3"
  },
  "language_info": {
   "codemirror_mode": {
    "name": "ipython",
    "version": 3
   },
   "file_extension": ".py",
   "mimetype": "text/x-python",
   "name": "python",
   "nbconvert_exporter": "python",
   "pygments_lexer": "ipython3",
   "version": "3.6.2"
  }
 },
 "nbformat": 4,
 "nbformat_minor": 5
}
