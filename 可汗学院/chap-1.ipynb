{
 "cells": [
  {
   "cell_type": "code",
   "execution_count": 68,
   "metadata": {},
   "outputs": [],
   "source": [
    "import numpy as np\n",
    "import matplotlib.pyplot as plt"
   ]
  },
  {
   "cell_type": "code",
   "execution_count": 20,
   "metadata": {},
   "outputs": [
    {
     "data": {
      "text/plain": [
       "matrix([[ 3, -1],\n",
       "        [ 1,  0]])"
      ]
     },
     "execution_count": 20,
     "metadata": {},
     "output_type": "execute_result"
    }
   ],
   "source": [
    "A=np.mat([[3,-1],\n",
    "            [1,0]])\n",
    "A"
   ]
  },
  {
   "cell_type": "code",
   "execution_count": 21,
   "metadata": {},
   "outputs": [
    {
     "data": {
      "text/plain": [
       "matrix([[-7,  2],\n",
       "        [ 3,  5]])"
      ]
     },
     "execution_count": 21,
     "metadata": {},
     "output_type": "execute_result"
    }
   ],
   "source": [
    "B=np.mat([[-7,2],\n",
    "            [3,5]])\n",
    "B"
   ]
  },
  {
   "cell_type": "markdown",
   "metadata": {},
   "source": [
    "# 矩阵的加和减"
   ]
  },
  {
   "cell_type": "code",
   "execution_count": 22,
   "metadata": {
    "scrolled": true
   },
   "outputs": [
    {
     "data": {
      "text/plain": [
       "matrix([[-4,  1],\n",
       "        [ 4,  5]])"
      ]
     },
     "execution_count": 22,
     "metadata": {},
     "output_type": "execute_result"
    }
   ],
   "source": [
    "A+B"
   ]
  },
  {
   "cell_type": "code",
   "execution_count": 23,
   "metadata": {},
   "outputs": [
    {
     "data": {
      "text/plain": [
       "array([[-4,  1],\n",
       "       [ 4,  5]])"
      ]
     },
     "execution_count": 23,
     "metadata": {},
     "output_type": "execute_result"
    }
   ],
   "source": [
    "np.mat([[3+-7,-1+2],\n",
    "          [1+3,0+5]])"
   ]
  },
  {
   "cell_type": "code",
   "execution_count": 24,
   "metadata": {},
   "outputs": [
    {
     "data": {
      "text/plain": [
       "matrix([[10, -3],\n",
       "        [-2, -5]])"
      ]
     },
     "execution_count": 24,
     "metadata": {},
     "output_type": "execute_result"
    }
   ],
   "source": [
    "A-B"
   ]
  },
  {
   "cell_type": "markdown",
   "metadata": {},
   "source": [
    "# 矩阵的乘和除"
   ]
  },
  {
   "cell_type": "code",
   "execution_count": 32,
   "metadata": {},
   "outputs": [],
   "source": [
    "A=np.mat([[2,-3],\n",
    "           [7,5]])\n",
    "B=np.mat([[10,-8],\n",
    "           [12,-2]])"
   ]
  },
  {
   "cell_type": "code",
   "execution_count": 33,
   "metadata": {},
   "outputs": [
    {
     "data": {
      "text/plain": [
       "matrix([[-16, -10],\n",
       "        [130, -66]])"
      ]
     },
     "execution_count": 33,
     "metadata": {},
     "output_type": "execute_result"
    }
   ],
   "source": [
    "# A*B\n",
    "np.matrix([\n",
    "    [2*10+-3*12,2*-8+-3*-2],\n",
    "    [7*10+5*12,7*-8+5*-2]])"
   ]
  },
  {
   "cell_type": "code",
   "execution_count": 34,
   "metadata": {},
   "outputs": [
    {
     "data": {
      "text/plain": [
       "matrix([[-16, -10],\n",
       "        [130, -66]])"
      ]
     },
     "execution_count": 34,
     "metadata": {},
     "output_type": "execute_result"
    }
   ],
   "source": [
    "A*B"
   ]
  },
  {
   "cell_type": "code",
   "execution_count": 35,
   "metadata": {},
   "outputs": [
    {
     "data": {
      "text/plain": [
       "matrix([[-36, -70],\n",
       "        [ 10, -46]])"
      ]
     },
     "execution_count": 35,
     "metadata": {},
     "output_type": "execute_result"
    }
   ],
   "source": [
    "# B*A\n",
    "np.mat([[10*2+-8*7,10*-3+-8*5],\n",
    "          [12*2+-2*7,12*-3+-2*5]])"
   ]
  },
  {
   "cell_type": "code",
   "execution_count": 36,
   "metadata": {},
   "outputs": [
    {
     "data": {
      "text/plain": [
       "matrix([[-36, -70],\n",
       "        [ 10, -46]])"
      ]
     },
     "execution_count": 36,
     "metadata": {},
     "output_type": "execute_result"
    }
   ],
   "source": [
    "B*A"
   ]
  },
  {
   "cell_type": "code",
   "execution_count": 40,
   "metadata": {},
   "outputs": [],
   "source": [
    "A=np.mat('3 1 2;-2 0 5')\n",
    "B=np.mat('-1 3;0 5;2 5')"
   ]
  },
  {
   "cell_type": "code",
   "execution_count": 44,
   "metadata": {},
   "outputs": [
    {
     "data": {
      "text/plain": [
       "matrix([[ 3,  1,  2],\n",
       "        [-2,  0,  5]])"
      ]
     },
     "execution_count": 44,
     "metadata": {},
     "output_type": "execute_result"
    }
   ],
   "source": [
    "A"
   ]
  },
  {
   "cell_type": "code",
   "execution_count": 45,
   "metadata": {},
   "outputs": [
    {
     "data": {
      "text/plain": [
       "matrix([[-1,  3],\n",
       "        [ 0,  5],\n",
       "        [ 2,  5]])"
      ]
     },
     "execution_count": 45,
     "metadata": {},
     "output_type": "execute_result"
    }
   ],
   "source": [
    "B"
   ]
  },
  {
   "cell_type": "code",
   "execution_count": 48,
   "metadata": {},
   "outputs": [
    {
     "data": {
      "text/plain": [
       "matrix([[ 1, 24],\n",
       "        [12, 19]])"
      ]
     },
     "execution_count": 48,
     "metadata": {},
     "output_type": "execute_result"
    }
   ],
   "source": [
    "# A*B\n",
    "np.mat([[3*-1+1*0+2*2,3*3+1*5+2*5],\n",
    "[-2*-1+0*0+5*2,-2*3+0*5+5*5]])"
   ]
  },
  {
   "cell_type": "code",
   "execution_count": 49,
   "metadata": {},
   "outputs": [
    {
     "data": {
      "text/plain": [
       "matrix([[ 1, 24],\n",
       "        [12, 19]])"
      ]
     },
     "execution_count": 49,
     "metadata": {},
     "output_type": "execute_result"
    }
   ],
   "source": [
    "A*B"
   ]
  },
  {
   "cell_type": "code",
   "execution_count": 51,
   "metadata": {},
   "outputs": [
    {
     "data": {
      "text/plain": [
       "matrix([[ -9,  -1,  13],\n",
       "        [-10,   0,  25],\n",
       "        [ -4,   2,  29]])"
      ]
     },
     "execution_count": 51,
     "metadata": {},
     "output_type": "execute_result"
    }
   ],
   "source": [
    "# B*A\n",
    "np.mat([[-1*3+3*-2,-1*1+3*0,-1*2+3*5],\n",
    "[0*3+5*-2,0*1+5*0,0*2+5*5],\n",
    "[2*3+5*-2,2*1+5*0,2*2+5*5]])"
   ]
  },
  {
   "cell_type": "code",
   "execution_count": 52,
   "metadata": {},
   "outputs": [
    {
     "data": {
      "text/plain": [
       "matrix([[ -9,  -1,  13],\n",
       "        [-10,   0,  25],\n",
       "        [ -4,   2,  29]])"
      ]
     },
     "execution_count": 52,
     "metadata": {},
     "output_type": "execute_result"
    }
   ],
   "source": [
    "B*A"
   ]
  },
  {
   "cell_type": "markdown",
   "metadata": {},
   "source": [
    "# 矩阵的逆"
   ]
  },
  {
   "cell_type": "code",
   "execution_count": 55,
   "metadata": {},
   "outputs": [],
   "source": [
    "A=np.mat([['a','b'],\n",
    "         ['c','d']])"
   ]
  },
  {
   "cell_type": "code",
   "execution_count": 56,
   "metadata": {},
   "outputs": [
    {
     "data": {
      "text/plain": [
       "matrix([['a', 'b'],\n",
       "        ['c', 'd']], dtype='<U1')"
      ]
     },
     "execution_count": 56,
     "metadata": {},
     "output_type": "execute_result"
    }
   ],
   "source": [
    "A"
   ]
  },
  {
   "cell_type": "markdown",
   "metadata": {},
   "source": [
    "## A的逆矩阵计算："
   ]
  },
  {
   "cell_type": "markdown",
   "metadata": {},
   "source": [
    "$$A^{-1}=\\frac{1}{ad-bc}\\begin{bmatrix}d,-b\\\\-c,a\\\\\\end{bmatrix}$$"
   ]
  },
  {
   "cell_type": "markdown",
   "metadata": {},
   "source": [
    "# A的行列式：\n",
    "$$|A|=ad-bc$$"
   ]
  },
  {
   "cell_type": "code",
   "execution_count": 62,
   "metadata": {},
   "outputs": [
    {
     "data": {
      "text/plain": [
       "matrix([[ 3, -4],\n",
       "        [ 2, -5]])"
      ]
     },
     "execution_count": 62,
     "metadata": {},
     "output_type": "execute_result"
    }
   ],
   "source": [
    "B=np.mat([[3,-4],[2,-5]])\n",
    "B"
   ]
  },
  {
   "cell_type": "code",
   "execution_count": 67,
   "metadata": {},
   "outputs": [
    {
     "data": {
      "text/plain": [
       "matrix([[ 0.71428571, -0.57142857],\n",
       "        [ 0.28571429, -0.42857143]])"
      ]
     },
     "execution_count": 67,
     "metadata": {},
     "output_type": "execute_result"
    }
   ],
   "source": [
    "BB=(1/((3*-5)-(2*-4)))*np.mat([[-5,4],[-2,3]])\n",
    "BB"
   ]
  },
  {
   "cell_type": "code",
   "execution_count": 65,
   "metadata": {},
   "outputs": [
    {
     "data": {
      "text/plain": [
       "matrix([[1.00000000e+00, 2.22044605e-16],\n",
       "        [0.00000000e+00, 1.00000000e+00]])"
      ]
     },
     "execution_count": 65,
     "metadata": {},
     "output_type": "execute_result"
    }
   ],
   "source": [
    "BB*B"
   ]
  },
  {
   "cell_type": "code",
   "execution_count": 66,
   "metadata": {},
   "outputs": [
    {
     "data": {
      "text/plain": [
       "matrix([[ 0.71428571, -0.57142857],\n",
       "        [ 0.28571429, -0.42857143]])"
      ]
     },
     "execution_count": 66,
     "metadata": {},
     "output_type": "execute_result"
    }
   ],
   "source": [
    "np.linalg.inv(B)"
   ]
  },
  {
   "cell_type": "markdown",
   "metadata": {},
   "source": [
    "# 高斯消去法"
   ]
  },
  {
   "cell_type": "markdown",
   "metadata": {},
   "source": [
    "原始矩阵\n",
    "$$\\begin{bmatrix}1,0,1\\\\0,2,1\\\\1,1,1\\\\\\end{bmatrix}$$"
   ]
  },
  {
   "cell_type": "markdown",
   "metadata": {},
   "source": [
    "画出单位矩阵：\n",
    "$$\\begin{bmatrix}1,0,1\\\\0,2,1\\\\1,1,1\\\\\\end{bmatrix}|\\begin{bmatrix}1,0,0\\\\0,1,0\\\\0,0,1\\\\\\end{bmatrix}$$"
   ]
  },
  {
   "cell_type": "markdown",
   "metadata": {},
   "source": [
    "对同行进行加减，或者替换、交换、以及两行之间相加减得到的结果替换某一行。"
   ]
  },
  {
   "cell_type": "markdown",
   "metadata": {},
   "source": [
    "1.第三行减去第一行：\n",
    "$$\\begin{bmatrix}1,0,1\\\\0,2,1\\\\0,1,0\\\\\\end{bmatrix}|\\begin{bmatrix}1,0,0\\\\0,1,0\\\\-1,0,1\\\\\\end{bmatrix}$$"
   ]
  },
  {
   "cell_type": "markdown",
   "metadata": {},
   "source": [
    "2.第三行和第二行交换位置\n",
    "$$\\begin{bmatrix}1,0,1\\\\0,1,0\\\\0,2,1\\\\\\end{bmatrix}|\\begin{bmatrix}1,0,0\\\\-1,0,1\\\\0,1,0\\\\\\end{bmatrix}$$"
   ]
  },
  {
   "cell_type": "markdown",
   "metadata": {},
   "source": [
    "3.第三行减去第二行得到的结果替换第三行：\n",
    "$$\\begin{bmatrix}1,0,1\\\\0,1,0\\\\0,0,1\\\\\\end{bmatrix}|\\begin{bmatrix}1,0,0\\\\-1,0,1\\\\2,1,-2\\\\\\end{bmatrix}$$"
   ]
  },
  {
   "cell_type": "markdown",
   "metadata": {},
   "source": [
    "4.第一行减去第三行得到的结果替换第一行：\n",
    "$$\\begin{bmatrix}1,0,0\\\\0,1,0\\\\0,0,1\\\\\\end{bmatrix}|\\begin{bmatrix}-1,-1,2\\\\-1,0,1\\\\2,1,-2\\\\\\end{bmatrix}$$"
   ]
  },
  {
   "cell_type": "markdown",
   "metadata": {},
   "source": [
    "### 最终得到的右边的矩阵即为原始矩阵的逆"
   ]
  },
  {
   "cell_type": "markdown",
   "metadata": {},
   "source": [
    " "
   ]
  },
  {
   "cell_type": "markdown",
   "metadata": {},
   "source": [
    "## 矩阵法求解方程组"
   ]
  },
  {
   "cell_type": "markdown",
   "metadata": {},
   "source": [
    "$$3x+2y=7$$\n",
    "$$-6x+6y=6$$"
   ]
  },
  {
   "cell_type": "markdown",
   "metadata": {},
   "source": [
    "转换成矩阵就是：\n",
    "$$\\underbrace{\\begin{bmatrix}3,2\\\\-6,6\\\\\\end{bmatrix}}_{A}\\underbrace{\\begin{bmatrix}x\\\\y\\\\\\end{bmatrix}}_{B}=\\underbrace{\\begin{bmatrix}7\\\\6\\\\\\end{bmatrix}}_{C}$$"
   ]
  },
  {
   "cell_type": "markdown",
   "metadata": {},
   "source": [
    "两边同时乘以矩阵A的逆：\n",
    "$$A^{-1}AB=A^{-1}C$$\n",
    "$$\\Downarrow$$\n",
    "$$IB=A^{-1}C$$\n",
    "$$\\Downarrow$$\n",
    "$$B=A^{-1}C$$"
   ]
  },
  {
   "cell_type": "code",
   "execution_count": 69,
   "metadata": {},
   "outputs": [],
   "source": [
    "B=np.linalg.inv(np.mat([[3,2],[-6,6]]))*np.mat(\"7;6\")"
   ]
  },
  {
   "cell_type": "code",
   "execution_count": 70,
   "metadata": {},
   "outputs": [
    {
     "data": {
      "text/plain": [
       "matrix([[1.],\n",
       "        [2.]])"
      ]
     },
     "execution_count": 70,
     "metadata": {},
     "output_type": "execute_result"
    }
   ],
   "source": [
    "B"
   ]
  },
  {
   "cell_type": "code",
   "execution_count": null,
   "metadata": {},
   "outputs": [],
   "source": []
  },
  {
   "cell_type": "markdown",
   "metadata": {},
   "source": [
    "## 奇异矩阵"
   ]
  },
  {
   "cell_type": "markdown",
   "metadata": {},
   "source": [
    "首先，如果一个矩阵A存在另外一个矩阵B使得：\n",
    "$$AB=BA=I$$\n",
    "那么矩阵A是可逆的，称为非奇异矩阵。\n",
    "\n",
    "那么找不到上述的矩阵B，则A称为奇异矩阵。也就是A不可逆"
   ]
  },
  {
   "cell_type": "markdown",
   "metadata": {},
   "source": [
    "依据上述求逆方法，当矩阵A的项列式：\n",
    "$$|A|=ad-bc=0$$\n",
    "则矩阵A不可逆"
   ]
  },
  {
   "cell_type": "markdown",
   "metadata": {},
   "source": [
    "# 三元线性方程"
   ]
  },
  {
   "cell_type": "markdown",
   "metadata": {},
   "source": [
    "求解方法，初中数学即可。"
   ]
  },
  {
   "cell_type": "markdown",
   "metadata": {},
   "source": []
  },
  {
   "cell_type": "markdown",
   "metadata": {},
   "source": []
  },
  {
   "cell_type": "markdown",
   "metadata": {},
   "source": []
  },
  {
   "cell_type": "markdown",
   "metadata": {},
   "source": []
  }
 ],
 "metadata": {
  "kernelspec": {
   "display_name": "Python 3",
   "language": "python",
   "name": "python3"
  },
  "language_info": {
   "codemirror_mode": {
    "name": "ipython",
    "version": 3
   },
   "file_extension": ".py",
   "mimetype": "text/x-python",
   "name": "python",
   "nbconvert_exporter": "python",
   "pygments_lexer": "ipython3",
   "version": "3.7.4"
  }
 },
 "nbformat": 4,
 "nbformat_minor": 2
}
