{
 "cells": [
  {
   "cell_type": "markdown",
   "metadata": {},
   "source": [
    "### 三角函数\n",
    "<img src='https://cdn.jsdelivr.net/gh/caoliang12121/pic@master/uPic/yIMWHB.jpg' alt='yIMWHB' width=\"70%\"/>\n",
    "<img src='https://cdn.jsdelivr.net/gh/caoliang12121/pic@master/uPic/iNddAX.jpg' alt='iNddAX' width=\"70%\"/>\n",
    "<img src='https://cdn.jsdelivr.net/gh/caoliang12121/pic@master/uPic/bf43ts.jpg' alt='bf43ts' width=\"70%\"/>\n",
    "<img src='https://cdn.jsdelivr.net/gh/caoliang12121/pic@master/uPic/WqdjZD.jpg' alt='WqdjZD' width=\"70%\"/>\n",
    "<img src='https://cdn.jsdelivr.net/gh/caoliang12121/pic@master/uPic/xE0M4w.jpg' alt='xE0M4w' width=\"70%\"/>"
   ]
  },
  {
   "cell_type": "markdown",
   "metadata": {},
   "source": [
    "### 函数的极限\n",
    "<img src='https://cdn.jsdelivr.net/gh/caoliang12121/pic@master/uPic/vkTX6u.png' alt='vkTX6u'/>\n",
    "<img src='https://cdn.jsdelivr.net/gh/caoliang12121/pic@master/uPic/WLQ6lU.png' alt='WLQ6lU'/>\n",
    "\n",
    "### 函数的连续性：\n",
    "函数 f(x) 在具体的取值点C点是否连续，我们针对性地来看下面三幅图中的具体情形：  \n",
    "A:<img src='https://cdn.jsdelivr.net/gh/caoliang12121/pic@master/uPic/o5ZZNz.jpg' alt='o5ZZNz'/>\n",
    "B:<img src='https://cdn.jsdelivr.net/gh/caoliang12121/pic@master/uPic/fSoCHy.jpg' alt='fSoCHy'/>\n",
    "C:<img src='https://cdn.jsdelivr.net/gh/caoliang12121/pic@master/uPic/doAx9j.jpg' alt='doAx9j'/>\n",
    "\n",
    "在A图中,c点的函数左极限和右极限不相等即：\n",
    "$$\\lim_{x\\rightarrow c}-f(x)\\neq \\lim_{x\\rightarrow c}+f(x)$$\n",
    "因此，$\\lim_{x\\rightarrow c}f(x)$不存在，c点的函数极限不存在，因此f(x)在c点不连续。\n",
    "\n",
    "在B图中，\n",
    "$$\\lim_{x\\rightarrow c}-f(x)\\neq \\lim_{x\\rightarrow c}+f(x)$$\n",
    "因此c点的极限是存在的，但是在c点极限值和c点处函数的实际取值不相等$\\lim_{x\\rightarrow c}f(x)\\neq f(c)$,所以依然不连续。\n",
    "\n",
    "在c图中，\n",
    "极限存在，极限值又和实际值相等，那么在c点处是连续的。\n",
    "\n",
    "**如果函数$f(x)$在开区间中的任意一点上连续，那么函数在整个开区间都是连续的。**\n",
    "\n",
    "如果谈到闭区间[a,b]上的连续性问题，那么就需要着重单独讨论区间的左右两个端点：我们首先从右侧逼近左侧端点a，如果$\\lim_{x\\rightarrow a}+f(x)=f(a)$成立，则称函数 f(x) 在端点 a 上右连续，我们再从左侧逼近右侧端点 b，即$\\lim_{x\\rightarrow b}-f(x)=f(b)$成立，则称函数 f(x) 在端点 b 上右连续。\n",
    "\n",
    "### 切线\n",
    "<img src='https://cdn.jsdelivr.net/gh/caoliang12121/pic@master/uPic/hDaZnG.jpg' alt='hDaZnG'/>\n",
    "已知的任意一条曲线 y=f(x) 在点 P(c,f(c)) 处的切线就是穿过该点 P 的一条直线，且这条直线的斜率为：\n",
    "$$ \\lim_{h\\rightarrow 0}\\frac{f(c+h)-f(c)}{h}$$\n",
    "当然，这里有个前提条件，那就是表示斜率的这个极限存在且不为$\\infty 或者-\\infty$\n",
    "\n",
    "### 导数\n",
    "函数 f 的导数我们将其记作 f'，其实它是另外一个函数，导数对定义域内任意自变量 x 的函数值为\n",
    "$$f'(x)=\\lim_{h\\rightarrow 0}\\frac{f(x+h)-f(x)}{h}$$\n",
    "如果这个极限存在，那么就是函数f在x点处可微，这个求导的过程就叫做微分。\n",
    "另一种表现形式是：\n",
    "$$f'(x)=\\lim_{x\\rightarrow c}\\frac{f(x)-f(c)}{x-c}$$\n",
    "\n",
    "特性：\n",
    "1. 可微一定连续，即函数的导数f'(c)存在，则函数在c点一定连续。\n",
    "2. 连续不一定可微。例如：y=|x|在0点处是连续的，根据导数的定义\n",
    "$$f'(0)=\\lim_{h\\rightarrow 0}\\frac{|0+h|-|0|}{h}=\\frac{|h|}{h}$$\n",
    "当从h右侧逼近0时，$\\lim_{h\\rightarrow 0}=\\frac{h}{h}=1$，从h左侧逼向0时，$\\lim_{h\\rightarrow 0}=\\frac{-h}{h}=-1$，左右两侧极限不相等，所以极限不存在。即在0处的导数f'(0)不存在。\n",
    "\n",
    "例2:函数$y=x^{1/3}$,<img src='https://cdn.jsdelivr.net/gh/caoliang12121/pic@master/uPic/iaZzqu.png' alt='iaZzqu'/>\n",
    "在0处是光滑且连续的。它的导函数根据法则：\n",
    "<img src='https://cdn.jsdelivr.net/gh/caoliang12121/pic@master/uPic/A3I0oU.jpg' alt='A3I0oU'/>\n",
    "$$y'(x)=\\frac{1}{3}x^{-2/3}=\\frac{1}{3x^{2/3}}$$\n",
    "当$x\\rightarrow 0$时，$y'(0)=\\infty$。所以在0处不可导。\n",
    "\n",
    "### 基本符号\n",
    "首先如果自变量 x 的值从$x_1$改变到$x_2$，那么$x_2-x_1=\\Delta x$就叫作 x 的增量，我们把它记作是 相应的，函数的取值 y 也从 \n",
    "f(x1) 变到了 f(x2)，那么相应 y 的增量为：Δy=y2−y1=f(x2)−f(x1)。  \n",
    "当$\\Delta x\\rightarrow 0$时，$\\frac{dy}{dx}=\\lim_{\\Delta x\\rightarrow 0}\\frac{\\Delta y}{\\Delta x}$\n",
    "\n",
    "#### python求微分。\n",
    "```\n",
    "def function(x):\n",
    "    return x*x\n",
    "\n",
    "def numerical_diff(f, x):\n",
    "    h = 1e-4\n",
    "    return (f(x+h) - f(x))/h\n",
    "\n",
    "def numerical_diff_1(f, x):\n",
    "    h = 1e-4\n",
    "    return (f(x+h/2) - f(x-h/2))/h\n",
    "\n",
    "print('theoretical value={}'.format(2*4))\n",
    "print('value={},error={}'.format(numerical_diff(function, 4),abs(numerical_diff(function, 4)-8)))\n",
    "print('value={},error={}'.format(numerical_diff_1(function, 4),abs(numerical_diff_1(function, 4)-8)))\n",
    "```\n",
    "\n",
    "#### 常见函数的导数\n",
    "<img src='https://cdn.jsdelivr.net/gh/caoliang12121/pic@master/uPic/Cg5KsM.png' alt='Cg5KsM' width =\"50%\" height=\"50%\"/>\n",
    "\n",
    "#### 导数的运算法则\n",
    "<img src='https://cdn.jsdelivr.net/gh/caoliang12121/pic@master/uPic/z2ptFT.png' alt='z2ptFT' width =\"50%\" height=\"50%\"/>"
   ]
  },
  {
   "cell_type": "markdown",
   "metadata": {},
   "source": [
    "### 极限的$\\epsilon-\\delta$定义\n",
    "<img src='https://cdn.jsdelivr.net/gh/caoliang12121/pic@master/uPic/GFXrbM.png' alt='GFXrbM' width=\"50%\" height=\"50%\"/>"
   ]
  },
  {
   "cell_type": "markdown",
   "metadata": {},
   "source": [
    "### 链式法则\n",
    "$$\\begin{split}\n",
    "f(x) &= (x^3+2x^2-x^{-2})^{-7}\\\\\n",
    " f'(x) &= (3x^2+4x+2x^{-3})*-7*(x^3+2x^2-x^{-2})^{-8}\n",
    "\\end{split}\\tag{1.3} \n",
    "$$\n",
    "\n",
    "$$\\begin{split}\n",
    "f(x) &= (3x^{-2}+(5x^3-7x)^{5})^3\\\\\n",
    " f'(x) &=((15x^2-7)\\times(5(5x^3-7x)^4)+(-6x^{-3}))\\times 3(3x^{-2}+(5x^3-7x)^{5})^2\n",
    "\\end{split}\\tag{1.4} \n",
    "$$\n",
    "\n",
    "所以链式法则的通用表述：\n",
    "$$\\begin{split}\n",
    "f(x) &=h(g(x))\\\\\n",
    "f'(x) &= g'(x)\\times h'(g(x))\n",
    "\\end{split}\\tag{1.5}\\text{一步步的从内而外的求导出来相乘}$$"
   ]
  },
  {
   "cell_type": "markdown",
   "metadata": {},
   "source": [
    "#### 乘积法则\n",
    "$$f(x)\\times g(x) \\rightarrow f'(x)g(x)+g'(x)f(x)$$\n",
    "\n",
    "$$\n",
    "\\begin{split}\n",
    "f(x)\\times g(x) &=(5x^5-x^7)(20x^2+3x^{-7})\\\\\n",
    "f'(x)g(x)+g'(x)f(x)&=(25x^4-7x^6)(20x^2+3x^{-7})+(5x^5-x^7)(40x-21x^{-8})\n",
    "\\end{split}\\text{求导}$$"
   ]
  },
  {
   "cell_type": "markdown",
   "metadata": {},
   "source": [
    "### 商法则\n",
    "求导\n",
    "$$\\frac{f(x)}{g(x)}=f(x)\\times g(x)^{-1}$$\n",
    "或者\n",
    "$$\\frac{f(x)}{g(x)}=\\frac{f'(x)g(x)-g'(x)f(x)}{g(x)^2}$$"
   ]
  },
  {
   "cell_type": "markdown",
   "metadata": {},
   "source": [
    "<img src='https://cdn.jsdelivr.net/gh/caoliang12121/pic@master/uPic/Xnip2021-04-23_14-42-44.jpg' alt='Xnip2021-04-23_14-42-44'/>"
   ]
  },
  {
   "cell_type": "markdown",
   "metadata": {},
   "source": [
    "**几个特殊函数的导数：**\n",
    "$$\\frac{d}{dx}e^x=e^x$$\n",
    "\n",
    "$$\\frac{d}{dx}ln^x=\\frac{1}{x}$$\n",
    "\n",
    "$$\\frac{d}{dx}x^0=0$$\n",
    "\n",
    "$$y=e^xcos^5(x)$$\n",
    "$$\\frac{dy}{dx}=e^xcos^5(x)+(-sin(x))*5*cos^4(x)e^x$$"
   ]
  },
  {
   "cell_type": "markdown",
   "metadata": {},
   "source": [
    "<img src='https://cdn.jsdelivr.net/gh/caoliang12121/pic@master/uPic/MykUD8.png' alt='MykUD8' width=\"50%\"/>"
   ]
  },
  {
   "cell_type": "markdown",
   "metadata": {},
   "source": [
    "## 积分学"
   ]
  },
  {
   "cell_type": "markdown",
   "metadata": {},
   "source": [
    "### 不定积分\n",
    "定义：设函数F(x)与f(x)在区间I上有定义.若在I上\n",
    "$$F'(x)=f(x)$$\n",
    "则称函数F(x)为f(x)在区间I上的一个原函数.  \n",
    "例:  \n",
    "$$(x^3)'=3x^2$$\n",
    "那么$x^3$是原函数，$3x^2$就是导函数。\n",
    "<img src='https://cdn.jsdelivr.net/gh/caoliang12121/pic@master/uPic/EZF8je.png' alt='EZF8je' width=\"50%\"/>"
   ]
  },
  {
   "cell_type": "markdown",
   "metadata": {},
   "source": [
    "#### 常用的不定积分\n",
    "$$\\begin{split}\n",
    "\\int0dx &=C\\\\\n",
    "\\int 1dx &=x+c\\\\\n",
    "\\int x^n dx &=\\frac{1}{n+1}x^{n+1}+C(a\\neq-1,x>0)\\\\\n",
    "\\int \\frac{1}{x}dx &=ln|x|+C(x\\neq0)\\\\\n",
    "\\int e^x dx&=e^x+C\\\\\n",
    "\\int a^xdx&=\\frac{a^x}{\\ln a}+C\\\\\n",
    "\\int cosx dx&=sinx +C\\\\\n",
    "\\int sinx dx&=-cosx+C\\\\\n",
    "\\int sec^2xdx&=tanx+C\\\\\n",
    "\\int csc^2xdx&=-cotx+c\n",
    "\\int secx tanx dx&=secx+c\\\\\n",
    "\\int cscx cotx dx&=-cscx +C\\\\\n",
    "\\int \\frac{1}{\\sqrt{1-x^2}}dx &= arcsinx+C\\\\\n",
    "&=-arccosx+C\\\\\n",
    "\\int \\frac{1}{\\sqrt{1+x^2}}dx &= arctanx+C\\\\\n",
    "&=-arccotx+C\\\\\n",
    "\\end{split}\n",
    "$$ "
   ]
  },
  {
   "cell_type": "markdown",
   "metadata": {},
   "source": [
    "#### 不定积分的运算性质\n",
    "$$\\int(f(x)\\pm g(x))dx=\\int f(x)dx\\pm \\int g(x)dx$$\n",
    "$$\\int kf(x)dx=k\\int f(x)dx$$ "
   ]
  },
  {
   "cell_type": "markdown",
   "metadata": {},
   "source": [
    "#### 常用求不定积分方法\n",
    "1. 换元法  \n",
    "例1:求$\\int((sinx)^3\\times cosx)dx$:  \n",
    "设$u=sinx$,那么u的导函数$\\frac{du}{dx}=cosx$，原式就等于:\n",
    "$$\\int u^3 \\frac{du}{dx}dx=\\int u^3 du=\\frac{u^4}{4}+C=\\frac{sin^4x}{4}+C$$\n",
    "例2:求$\\int \\frac{sinx}{cos^2x}dx$:  \n",
    "设u=cosx，替换。$\\int \\frac{sinx}{cos^2x}dx=\\int \\frac{\\frac{du}{dx}}{u^2}dx=\\int \\frac{-1}{u^2}du=\\int-u^{-2}du=\\frac{1}{u}+C=\\frac{1}{cosx}+C$\n",
    "\n",
    "\n",
    "2. 分部积分法\n",
    "$$\\frac{d}{dx}[f(x)g(x)]=f'(x)g(x)+f(x)g'(x) \\text{两边求不定积分}$$\n",
    "$$f(x)g(x)=\\int f'(x)g(x)dx+\\int f(x)g'(x)dx \\text{那么}$$\n",
    "$$\\int f(x)g'(x)dx=f(x)g(x)-\\int f'(x)g(x)dx$$\n",
    "例：求$\\int xcosx dx$:  \n",
    "使用上述的分部积分法，将x看成f(x),cosx看成是g'(x)。得到：  \n",
    "$$\\int x cosx dx=xsinx-\\int 1sinxdx=xsinx+cosx+C$$  \n",
    "例2:求$\\int x^2e^x dx$:  \n",
    "$$\\begin{split}\n",
    "\\int x^2e^x dx &=x^2e^x-\\int 2xe^xdx\\\\\n",
    "               &=x^2e^x-(2xe^x-\\int2e^xdx) &  \\text{将$\\int2xe^xdx$ 进一步分部}\\\\\n",
    "               &=x^2e^x-2xe^x+2e^x+C\n",
    "   \\end{split}$$"
   ]
  },
  {
   "cell_type": "markdown",
   "metadata": {},
   "source": [
    "### 定积分"
   ]
  },
  {
   "cell_type": "markdown",
   "metadata": {},
   "source": [
    "#### 学术定义  \n",
    "<img src='https://cdn.jsdelivr.net/gh/caoliang12121/pic@master/uPic/uemK0V.png' alt='uemK0V' width='50%'/>\n",
    "<img src='https://cdn.jsdelivr.net/gh/caoliang12121/pic@master/uPic/YNWiya.png' alt='YNWiya' width='50%'/>\n",
    "<img src='https://cdn.jsdelivr.net/gh/caoliang12121/pic@master/uPic/kwzFz2.png' alt='kwzFz2' width='50%'/>\n",
    "\n",
    "#### 定积分的计算\n",
    "\n",
    "设$f(x)$是[a,b]上的连续函数，$F(x)$是$f(x)$的一个原函数，则：\n",
    "$$\\int_a^bf(x)dx=F(b)-F(a)$$  \n",
    "例：求$\\int_0^{\\frac{\\pi}{3}}cosxdx$:  \n",
    "$$\n",
    "\\int_0^{\\frac{\\pi}{3}}cosxdx=sin\\frac{\\pi}{3}-sin0=\\frac{\\sqrt{3}}{2}\n",
    "$$\n",
    "\n",
    "\n",
    "\n",
    "#### 定积分的几何意义\n",
    "\n",
    "定积分$\\int_a^bf(x)dx$表示的是介于x轴、函数f(x)在f(a),f(b)之间与x轴之间的各部分面积的代数和。在x轴上方的取正值，下方的取负值。  \n",
    "当计算实际面积时，取绝对值相加。\n",
    "\n",
    "1. 可积的必要条件：  \n",
    "若函数f(x)在[a,b]上可积，则f(x)在[a,b]上有届。  \n",
    "2. 可积的充分条件：  \n",
    "若函数f(x)在闭区间[a,b]上是连续函数，或者是单调函数，或者是只有有限个间断点的有界函数，在f(x)在[a,b]上可积。\n",
    "\n",
    "**可导必连续、连续必可积、可积必有界**\n",
    "\n",
    "#### 定积分的性质 \n",
    "\n",
    "1.若$f(x)$在[a,b]上可积,k为常数,则$kf(x)$在[a,b]上也可积且$\\int_a^b kf(x)dx=k\\int_a^b f(x)dx$。\n",
    "\n",
    "2.若$f(x)$在[a,b]上可积,则$f(x)+g(x)$在[a,b]上也可积,且$\\int_a^b(f(x)\\pm g(x))dx=\\int_a^b f(x)dx\\pm g(x)dx$ \n",
    "\n",
    "3.函数$f(x)$在[a,c],[c,b]上都可积，那么在[a,b]上也可积。即：$\\int_a^b f(x)dx=\\int_a^cf(x)dx+\\int_c^bf(x)dx$\n",
    "\n",
    "4.$\\int_a^b1\\cdot dx=\\int_a^bdx=b-a$\n",
    "\n",
    "5.$\\int_a^af(x)d(x)=0$  \n",
    "\n",
    "6.当a>b时，且$\\int_b^af(x)dx$存在，则$\\int_a^bf(x)dx=-\\int_b^af(x)dx$ \n",
    "\n",
    "7.$f(x)\\leq g(x),x\\in[a,b] 则\\int_a^bf(x)dx\\leq\\int_a^bg(x)dx \\text{---保序性}$\n",
    "\n",
    "8.$f(x)\\geq 0,x\\in [a,b] 则\\int_a^bf(x)dx\\geq0 \\text{---保号性}$\n",
    "\n",
    "9.m,M是函数$f(x)$在[a,b]上的最小值和最大值，若$f(x)$在[a,b]上可积，则：\n",
    "$$m(b-a)\\leq\\int_a^bf(x)dx\\leq M(b-a)\\text{---有界性}$$\n",
    "\n",
    "10.若函数$f(x)$在[a,b]上连续，则在[a,b]上至少存在一点$\\zeta$使：\n",
    "$$\\int_a^bf(x)dx=f(\\zeta)(b-a)$$"
   ]
  },
  {
   "cell_type": "markdown",
   "metadata": {},
   "source": [
    "#### 三角代换\n",
    "<img src='https://cdn.jsdelivr.net/gh/caoliang12121/pic@master/uPic/GOa31J.png' alt='GOa31J' width=\"50%\"/>"
   ]
  },
  {
   "attachments": {},
   "cell_type": "markdown",
   "metadata": {},
   "source": [
    "### 泰勒展开\n",
    "本段文章来自于：[知乎陈二喜的回答](https://www.zhihu.com/question/25627482/answer/313088784)  \n",
    "有函数$y=cosx$，我们无法很方便的计算x=2时候的值，如果有一种我们好计算并且又可以替换cos函数的函数就好了。  \n",
    "首先，这个替代函数的值必须要和原函数长的的一样，如何一样呢？  \n",
    "1.选择一个切入点，在这个切入点值一样。  \n",
    "2.未来变化趋势一样，函数的导数一样。   \n",
    "3.变化趋势的变化趋势一样，函数导数的导数一样  \n",
    "无限循环下去。  \n",
    "最后泰勒想出，多项式满足这个条件，能求几次导数视多项式的阶数而定。  \n",
    "说干就干设我们的替代函数为$g(x)$：  \n",
    "\n",
    "先算一阶的：\n",
    "<img src='https://cdn.jsdelivr.net/gh/caoliang12121/pic@master/uPic/of6EyM.png' alt='of6EyM' width=\"50%\"/>\n",
    "重合度很低。\n",
    "在算个二阶的：\n",
    "<img src='https://cdn.jsdelivr.net/gh/caoliang12121/pic@master/uPic/FBp2q5.png' alt='FBp2q5' width=\"50%\"/>\n",
    "可以看出在（0，1）这个范围内不错。再看看四阶的：\n",
    "<img src='https://cdn.jsdelivr.net/gh/caoliang12121/pic@master/uPic/DstjFv.png' alt='DstjFv' width=\"50%\"/>\n",
    "如果我们无限扩展下去。\n",
    "<img src='https://pic1.zhimg.com/50/v2-9dd69ab2c20ca721bc0979d7ebaa0253_hd.webp?source=1940ef5c' alt='DstjFv' width=\"50%\"/>\n",
    "总会越来越好的。  \n",
    "推广到n阶：  \n",
    "首先任取一点（0，f（0））。那么构造的函数$g(x)=a_0+a_1x+a_2x^2+\\cdots+a_nx^n$  \n",
    "1.首先得保证起始点相等：$g(0)=f(0)=a_0$  \n",
    "2.n阶导数相等：$g^nf(0)=f^n(0)=n!a_n$  \n",
    "最后得到：$a_n=\\frac{f^n(0)}{n!}$替换回原来的式子得到：\n",
    "<img src='https://cdn.jsdelivr.net/gh/caoliang12121/pic@master/uPic/xLQqHK.png' alt='xLQqHK'/>\n",
    "$$g(x)=\\sum_{n=0}^{\\infty}\\frac{f^n(0)x^n}{n!}$$\n",
    "我们如果从0开始，算到2可以想象得用到多少阶。所以我们不能从0处开始，只是一开始方便计算而已。所以我们假定从$x_0$处开始得到：\n",
    "<img src='https://cdn.jsdelivr.net/gh/caoliang12121/pic@master/uPic/abVAdS.png' alt='abVAdS' width=\"50%\"/>\n",
    "根据需要的精度，就可以确定n的值。但是如果要完全相等，那就得一直写到$\\infty$\n",
    "$$g(x)=\\sum_{n=x_0}^{\\infty}\\frac{f^n(x_0)(x-x_0)^n}{n!}$$\n",
    "\n",
    "#### 佩亚诺余项\n",
    "<img src='https://cdn.jsdelivr.net/gh/caoliang12121/pic@master/uPic/YxBVlh.png' alt='YxBVlh' width=\"50%\"/>\n",
    "可以看到如果后面的误差项=0，那么是不是就可以只写到n了。  \n",
    "在泰勒展开中，最小的一项是最后一项n阶，如果后面的误差和比最后一项还小，是不是就可以忽略了。\n",
    "将：  \n",
    "<img src='https://cdn.jsdelivr.net/gh/caoliang12121/pic@master/uPic/gBxy6e.png' alt='gBxy6e' width=\"50%\"/>\n",
    "可以看到当$x_0\\rightarrow x$时。就趋于0了。\n",
    "\n",
    "#### 拉格朗日中值定理、柯西中值定理\n",
    "在佩亚诺的基础上进一步发展了误差和的计算。\n",
    "<img src='https://cdn.jsdelivr.net/gh/caoliang12121/pic@master/uPic/A0dnaB.png' alt='A0dnaB' width=\"50%\"/>\n",
    "在日常生活中，如果汽车以v速度匀速前进，从s1->s2花费t2-t1的时间。但是如果汽车是变速的前进同样的时间，同样的距离，那么必有一段时间的速度是小于v的，同事也必有一段时间的速度是大于v的。那么必有一段时间的速度等于v。也就是：\n",
    "<img src='https://cdn.jsdelivr.net/gh/caoliang12121/pic@master/uPic/VVw03P.png' alt='VVw03P' width=\"50%\"/>\n",
    "左边为拉格朗日中值定理，右边为柯西中值定理  \n",
    "我们在回头看误差和。\n",
    "<img src='https://cdn.jsdelivr.net/gh/caoliang12121/pic@master/uPic/HQgCHi.png' alt='HQgCHi' width=\"50%\"/>\n",
    "类比柯西中值定理：\n",
    "<img src='https://cdn.jsdelivr.net/gh/caoliang12121/pic@master/uPic/Yah3RD.png' alt='Yah3RD' width=\"50%\"/>\n",
    "又是一个满足柯西中值定理的。我们一直推倒下去。最后得到：\n",
    "<img src='https://cdn.jsdelivr.net/gh/caoliang12121/pic@master/uPic/PwuqkV.jpg' alt='PwuqkV'/>\n",
    "至此，拉格朗日把后面无数多的误差项给整合成了一项，而且比配诺亚更加先进的地方在于，不一定非要让$x_0$趋近于$x$，可以在二者之间的任何一个位置 $\\zeta$处展开，及其好用。"
   ]
  },
  {
   "cell_type": "markdown",
   "metadata": {},
   "source": []
  },
  {
   "cell_type": "markdown",
   "metadata": {},
   "source": [
    "#### 等比级数\n",
    "$$s=\\sum_{k=0}^{N}a^k=\\frac{a^{N+1}-1}{a-1}$$"
   ]
  },
  {
   "cell_type": "markdown",
   "metadata": {},
   "source": [
    "### 马克劳林公式\n",
    "在泰勒公式中，我们得到：\n",
    "<img src='https://cdn.jsdelivr.net/gh/caoliang12121/pic@master/uPic/abVAdS.png' alt='abVAdS' width=\"50%\"/>\n",
    "当$x_0=0$时，就变成了马克劳林公式：\n",
    "<img src='https://cdn.jsdelivr.net/gh/caoliang12121/pic@master/uPic/99UKuX.png' alt='99UKuX' width=\"50%\"/>"
   ]
  },
  {
   "cell_type": "markdown",
   "metadata": {},
   "source": [
    "#### cos在0处的泰勒级数\n",
    "$$cos(x)=1-\\frac{x^2}{2!}+\\frac{x^4}{4!}-\\frac{x^6}{6!}+\\frac{x^8}{8!}-\\cdots$$\n",
    "#### sin在0处的泰勒级数\n",
    "$$sin(x)=x-\\frac{x^3}{3!}+\\frac{x^5}{5!}-\\frac{x^7}{7!}+\\frac{x^9}{9!}-\\cdots$$\n",
    "#### $e^x$在0处的泰勒级数\n",
    "$$e^x=1+x+\\frac{x^2}{2!}+\\frac{x^3}{3!}+\\frac{x^7}{7!}+\\frac{x^9}{9!}+\\cdots$$\n",
    "\n",
    "$$\\lim_{n\\rightarrow \\infty}(1+\\frac{1}{n})^n=e$$"
   ]
  },
  {
   "cell_type": "markdown",
   "metadata": {},
   "source": [
    "### 欧拉公式和欧拉恒等式\n",
    "#### 虚数\n",
    "<img src='https://cdn.jsdelivr.net/gh/caoliang12121/pic@master/uPic/MfHYY2.jpg' alt='MfHYY2'/>\n",
    "假设有一根数轴，上面有两个点+1和-1，\n",
    "<img src='https://cdn.jsdelivr.net/gh/caoliang12121/pic@master/uPic/mnlUEV.jpg' alt='mnlUEV'/>\n",
    "在0处将1逆时针旋转180度就会得到-1\n",
    "<img src='https://cdn.jsdelivr.net/gh/caoliang12121/pic@master/uPic/vu0haZ.jpg' alt='vu0haZ'/>\n",
    "相当于旋转了两个90度。那么我们可以得到关系式：\n",
    "$$(+1)*(逆时针旋转90度)*(逆时针旋转90度)=(-1)$$\n",
    "$$(逆时针旋转90度)^2=-1\\rightarrow i^2=-1$$\n",
    "**i不是一个数，而是一个旋转量**\n",
    "\n",
    "#### 复数\n",
    "i表示了旋转量，那么就可以用i来表示任何实数的旋转状态。\n",
    "<img src='https://cdn.jsdelivr.net/gh/caoliang12121/pic@master/uPic/EhIOHe.jpg' alt='EhIOHe'/>\n",
    "将实数轴看成是横轴，虚数轴看成是纵轴。比如（1，i）表示成1+i，这种表示方法叫做复数，1为实部，i为虚部。\n",
    "通用的表示为：\n",
    "$$Z=a+bi$$\n",
    "复数的模长为：\n",
    "$$|Z|=\\sqrt{a^2+b^2}$$\n",
    "比如，物理学需要计算\"力的合成\"。假定一个力是 3 + i ，另一个力是 1 + 3i ，请问它们的合成力是多少？\n",
    "根据\"平行四边形法则\"，你马上得到，合成力就是 ( 3 + i ) + ( 1 + 3i ) = ( 4 + 4i )。\n",
    "比如，一条船的航向是 3 + 4i 。如果该船的航向，逆时针增加45度，请问新航向是多少？\n",
    "( 3 + 4i ) * ( 1 + i ) = ( -1 + 7i )\n",
    "如果需要保持航速不变，上面的结果还需要除以$\\sqrt{2}$,为了改变方向所以乘了1＋i，这里主要是为了用到1＋i的45°相角，但是由于1＋i的模长不为1，如果只是乘以1＋i，原始向量-1+7i不仅方向沿逆时针旋转了，其大小也乘了1＋i的模长，为了保证原始向量-1＋7i仅沿逆时针旋转45°，而不发生大小变化，自然需要除以1＋i的模长了\n",
    "如果航向逆时针增加90度，就更简单了。因为90度的航向就是 i ，所以新航向等于：\n",
    "( 3 + 4i ) * i = ( -4 + 3i )\n"
   ]
  },
  {
   "cell_type": "markdown",
   "metadata": {},
   "source": [
    "#### 欧拉公式\n",
    "前面提到$e^x$在0处的马克劳林级数是\n",
    "$$p(x)=1+x+\\frac{x^2}{2!}+\\frac{x^3}{3!}+\\frac{x^4}{4!}+\\frac{x^5}{5!}+\\dots$$\n",
    "现在求$e^{ix}$的马克劳林级数：\n",
    "$$e^{ix}=1+ix+\\frac{(ix)^2}{2!}+\\frac{(ix)^3}{3!}+\\frac{(ix)^4}{4!}+\\frac{(ix)^5}{5!}+\\dots$$\n",
    "根据上面虚数的定义：\n",
    "$$i^2=-1\\text{带入上面}$$\n",
    "得到：\n",
    "$$e^{ix}=1+ix-\\frac{(x)^2}{2!}-i\\frac{(x)^3}{3!}+\\frac{(x)^4}{4!}+i\\frac{(x)^5}{5!}-\\frac{(x)^6}{6!}-i\\frac{(x)^7}{7!}+\\dots$$\n",
    "提取通用部分：\n",
    "$$e^{ix}=(1-\\frac{(x)^2}{2!}+\\frac{(x)^4}{4!}-\\frac{(x)^6}{6!}+\\cdots)+i(x-\\frac{(x)^3}{3!}+\\frac{(x)^5}{5!}-\\frac{(x)^7}{7!}+\\cdots)$$\n",
    "$$e^{ix}=cosx+i*sinx$$\n",
    "#### 欧拉恒等式\n",
    "当$x=\\pi$时：\n",
    "$$e^{i\\pi}+1=0$$"
   ]
  },
  {
   "cell_type": "markdown",
   "metadata": {},
   "source": []
  },
  {
   "cell_type": "markdown",
   "metadata": {},
   "source": [
    "$$  \\lim_{x \\to \\infty} x^2_{22} - \\int_{1}^{5}x\\mathrm{d}x + \\sum_{n=1}^{20} n^{2} = \\prod_{j=1}^{3} y_{j}  + \\lim_{x \\to -2} \\frac{x-2}{x} $$"
   ]
  },
  {
   "cell_type": "markdown",
   "metadata": {},
   "source": [
    "$$  \\lim_{x \\to \\infty} x^2_{22} - \\int_{1}^{5}x\\mathrm{d}x + \\sum_{n=1}^{20} n^{2} = \\prod_{j=1}^{3} y_{j}  + \\lim_{x \\to -2} \\frac{x-2}{x} $$"
   ]
  },
  {
   "cell_type": "markdown",
   "metadata": {},
   "source": [
    "### 夹逼定理\n",
    "$$g(x)\\leqslant f(x) \\leqslant h(x)$$\n",
    "\n",
    "$$\\lim_{x \\to a} g(x)=L,\\lim_{x \\to a} h(x)=L$$\n",
    "$$\\Downarrow$$\n",
    "$$\\lim_{x \\to a} f(x)=L$$"
   ]
  },
  {
   "cell_type": "markdown",
   "metadata": {},
   "source": [
    "证明:\n",
    "$$\\lim_{x \\to 0} \\frac{sin(x)}{x}=1$$\n",
    "<img src='https://cdn.jsdelivr.net/gh/caoliang12121/pic@master/uPic/wfVIAs.png' alt='wfVIAs'/>"
   ]
  },
  {
   "cell_type": "markdown",
   "metadata": {},
   "source": [
    "### 数列与级数\n",
    "$$\\sum_{k=0}^{n}a=\\frac{n(n+1)}{2}$$\n",
    "$$\\sum_{k=0}^{n} a^n=\\frac{a^{n+1}-1}{a-1}$$"
   ]
  },
  {
   "cell_type": "markdown",
   "metadata": {},
   "source": [
    "### 排列与组合\n",
    "排列：7个人和3把椅子，有多少种排序的方式呢？\n",
    "$$P_7^3=7*6*5=210$$\n",
    "\n",
    "组合：现在我们将坐下来的三个人一样，识做同一组。有多少种组合方式？\n",
    "例如：ABC，ACB，BCA视为同一组。\n",
    "$$C_7^3=35$$\n",
    "\n",
    "综述：\n",
    "（1）排列是关注顺序的，不同顺序视为不同组合\n",
    "（2）组合是不关注顺序的，不同顺序也视为同一组合\n",
    "$$P_n^r=\\frac{n!}{(n-r)!}$$\n",
    "$$C_n^r=\\frac{n!}{(n-r)!\\times r!}$$"
   ]
  },
  {
   "cell_type": "markdown",
   "metadata": {},
   "source": [
    "### 二项式定理\n",
    "$$(a+b)^n=\\sum_{k=0}^n C_n^k a^{n-k} b^k$$\n",
    "实质上就是运用计数原理，这个过程可以理解成从n个括号里挑选元素，如果b贡献了k次，那么a就要选中n-k次，保证每个括号里的元素都出现一遍，这种挑选的种数有$C_n^k$ 种，所以这一项为$C_n^k a^{n-k} b^k$，即通项公式。"
   ]
  },
  {
   "cell_type": "markdown",
   "metadata": {},
   "source": [
    "### 利息\n",
    "单利：$M=x(1+y*r)$\n",
    "复利：$M=x(1+r)^y$\n",
    "\n",
    "#### 复利与e\n",
    "设本金P元，年利率r，那么一年后还款$Pe^r$，n年后就是$Pe^{nr}$"
   ]
  },
  {
   "cell_type": "markdown",
   "metadata": {},
   "source": []
  },
  {
   "cell_type": "markdown",
   "metadata": {},
   "source": []
  },
  {
   "cell_type": "markdown",
   "metadata": {},
   "source": []
  },
  {
   "cell_type": "markdown",
   "metadata": {},
   "source": []
  }
 ],
 "metadata": {
  "kernelspec": {
   "display_name": "Python 3",
   "language": "python",
   "name": "python3"
  },
  "language_info": {
   "codemirror_mode": {
    "name": "ipython",
    "version": 3
   },
   "file_extension": ".py",
   "mimetype": "text/x-python",
   "name": "python",
   "nbconvert_exporter": "python",
   "pygments_lexer": "ipython3",
   "version": "3.8.3"
  }
 },
 "nbformat": 4,
 "nbformat_minor": 5
}
