{
 "cells": [
  {
   "cell_type": "markdown",
   "metadata": {},
   "source": [
    "### 三角函数\n",
    "<img src='https://cdn.jsdelivr.net/gh/caoliang12121/pic@master/uPic/yIMWHB.jpg' alt='yIMWHB'/>\n",
    "<img src='https://cdn.jsdelivr.net/gh/caoliang12121/pic@master/uPic/iNddAX.jpg' alt='iNddAX'/>\n",
    "<img src='https://cdn.jsdelivr.net/gh/caoliang12121/pic@master/uPic/bf43ts.jpg' alt='bf43ts'/>\n",
    "<img src='https://cdn.jsdelivr.net/gh/caoliang12121/pic@master/uPic/WqdjZD.jpg' alt='WqdjZD'/>\n",
    "<img src='https://cdn.jsdelivr.net/gh/caoliang12121/pic@master/uPic/xE0M4w.jpg' alt='xE0M4w'/>"
   ]
  },
  {
   "attachments": {},
   "cell_type": "markdown",
   "metadata": {},
   "source": [
    "### 函数的极限\n",
    "<img src='https://cdn.jsdelivr.net/gh/caoliang12121/pic@master/uPic/vkTX6u.png' alt='vkTX6u'/>\n",
    "<img src='https://cdn.jsdelivr.net/gh/caoliang12121/pic@master/uPic/WLQ6lU.png' alt='WLQ6lU'/>\n",
    "### 函数的连续性：\n",
    "函数 f(x) 在具体的取值点C点是否连续，我们针对性地来看下面三幅图中的具体情形：  \n",
    "A:<img src='https://cdn.jsdelivr.net/gh/caoliang12121/pic@master/uPic/o5ZZNz.jpg' alt='o5ZZNz'/>\n",
    "B:<img src='https://cdn.jsdelivr.net/gh/caoliang12121/pic@master/uPic/fSoCHy.jpg' alt='fSoCHy'/>\n",
    "C:<img src='https://cdn.jsdelivr.net/gh/caoliang12121/pic@master/uPic/doAx9j.jpg' alt='doAx9j'/>\n",
    "\n",
    "在A图中,c点的函数左极限和右极限不相等即：\n",
    "$$\\lim_{x\\rightarrow c}-f(x)\\neq \\lim_{x\\rightarrow c}+f(x)$$\n",
    "因此，$\\lim_{x\\rightarrow c}f(x)$不存在，c点的函数极限不存在，因此f(x)在c点不连续。\n",
    "\n",
    "在B图中，\n",
    "$$\\lim_{x\\rightarrow c}-f(x)\\neq \\lim_{x\\rightarrow c}+f(x)$$\n",
    "因此c点的极限是存在的，但是在c点极限值和c点处函数的实际取值不相等$\\lim_{x\\rightarrow c}f(x)\\neq f(c)$,所以依然不连续。\n",
    "\n",
    "在c图中，\n",
    "极限存在，极限值又和实际值相等，那么在c点处是连续的。\n",
    "\n",
    "**如果函数$f(x)$在开区间中的任意一点上连续，那么函数在整个开区间都是连续的。**\n",
    "\n",
    "如果谈到闭区间[a,b]上的连续性问题，那么就需要着重单独讨论区间的左右两个端点：我们首先从右侧逼近左侧端点a，如果$\\lim_{x\\rightarrow a}+f(x)=f(a)$成立，则称函数 f(x) 在端点 a 上右连续，我们再从左侧逼近右侧端点 b，即$\\lim_{x\\rightarrow b}-f(x)=f(b)$成立，则称函数 f(x) 在端点 b 上右连续。\n",
    "\n",
    "### 切线\n",
    "<img src='https://cdn.jsdelivr.net/gh/caoliang12121/pic@master/uPic/hDaZnG.jpg' alt='hDaZnG'/>\n",
    "已知的任意一条曲线 y=f(x) 在点 P(c,f(c)) 处的切线就是穿过该点 P 的一条直线，且这条直线的斜率为：\n",
    "$$ \\lim_{h\\rightarrow 0}\\frac{f(c+h)-f(c)}{h}$$\n",
    "当然，这里有个前提条件，那就是表示斜率的这个极限存在且不为$\\infty 或者-\\infty$\n",
    "\n",
    "### 导数\n",
    "函数 f 的导数我们将其记作 f'，其实它是另外一个函数，导数对定义域内任意自变量 x 的函数值为\n",
    "$$f'(x)=\\lim_{h\\rightarrow 0}\\frac{f(x+h)-f(x)}{h}$$\n",
    "如果这个极限存在，那么就是函数f在x点处可微，这个求导的过程就叫做微分。\n",
    "另一种表现形式是：\n",
    "$$f'(x)=\\lim_{x\\rightarrow c}\\frac{f(x)-f(c)}{x-c}$$\n",
    "\n",
    "特性：\n",
    "1. 可微一定连续，即函数的导数f'(c)存在，则函数在c点一定连续。\n",
    "2. 连续不一定可微。例如：y=|x|在0点处是连续的，根据导数的定义\n",
    "$$f'(0)=\\lim_{h\\rightarrow 0}\\frac{|0+h|-|0|}{h}=\\frac{|h|}{h}$$\n",
    "当从h右侧逼近0时，$\\lim_{h\\rightarrow 0}=\\frac{h}{h}=1$，从h左侧逼向0时，$\\lim_{h\\rightarrow 0}=\\frac{-h}{h}=-1$，左右两侧极限不相等，所以极限不存在。即在0处的导数f'(0)不存在。\n",
    "\n",
    "例2:函数$y=x^{1/3}$,<img src='https://cdn.jsdelivr.net/gh/caoliang12121/pic@master/uPic/iaZzqu.png' alt='iaZzqu'/>\n",
    "在0处是光滑且连续的。它的导函数根据法则：\n",
    "<img src='https://cdn.jsdelivr.net/gh/caoliang12121/pic@master/uPic/A3I0oU.jpg' alt='A3I0oU'/>\n",
    "$$y'(x)=\\frac{1}{3}x^{-2/3}=\\frac{1}{3x^{2/3}}$$\n",
    "当$x\\rightarrow 0$时，$y'(0)=\\infty$。所以在0处不可导。\n",
    "\n",
    "### 基本符号\n",
    "首先如果自变量 x 的值从$x_1$改变到$x_2$，那么$x_2-x_1=\\Delta x$就叫作 x 的增量，我们把它记作是 相应的，函数的取值 y 也从 \n",
    "f(x1) 变到了 f(x2)，那么相应 y 的增量为：Δy=y2−y1=f(x2)−f(x1)。  \n",
    "当$\\Delta x\\rightarrow 0$时，$\\frac{dy}{dx}=\\lim_{\\Delta x\\rightarrow 0}\\frac{\\Delta y}{\\Delta x}$\n",
    "\n",
    "#### python求微分。\n",
    "```\n",
    "def function(x):\n",
    "    return x*x\n",
    "\n",
    "def numerical_diff(f, x):\n",
    "    h = 1e-4\n",
    "    return (f(x+h) - f(x))/h\n",
    "\n",
    "def numerical_diff_1(f, x):\n",
    "    h = 1e-4\n",
    "    return (f(x+h/2) - f(x-h/2))/h\n",
    "\n",
    "print('theoretical value={}'.format(2*4))\n",
    "print('value={},error={}'.format(numerical_diff(function, 4),abs(numerical_diff(function, 4)-8)))\n",
    "print('value={},error={}'.format(numerical_diff_1(function, 4),abs(numerical_diff_1(function, 4)-8)))\n",
    "```\n",
    "\n",
    "#### 常见函数的导数\n",
    "<img src='https://cdn.jsdelivr.net/gh/caoliang12121/pic@master/uPic/Cg5KsM.png' alt='Cg5KsM' width =\"50%\" height=\"50%\"/>\n",
    "\n",
    "#### 导数的运算法则\n",
    "<img src='https://cdn.jsdelivr.net/gh/caoliang12121/pic@master/uPic/z2ptFT.png' alt='z2ptFT' width =\"50%\" height=\"50%\"/>"
   ]
  },
  {
   "cell_type": "markdown",
   "metadata": {},
   "source": [
    "### 极限的$\\epsilon-\\delta$定义\n",
    "<img src='https://cdn.jsdelivr.net/gh/caoliang12121/pic@master/uPic/GFXrbM.png' alt='GFXrbM' width=\"50%\" height=\"50%\"/>"
   ]
  },
  {
   "attachments": {},
   "cell_type": "markdown",
   "metadata": {},
   "source": [
    "### 链式法则\n",
    "$$\\begin{split}\n",
    "f(x) &= (x^3+2x^2-x^{-2})^{-7}\\\\\n",
    " f'(x) &= (3x^2+4x+2x^{-3})*-7*(x^3+2x^2-x^{-2})^{-8}\n",
    "\\end{split}\\tag{1.3} \n",
    "$$\n",
    "\n",
    "$$\\begin{split}\n",
    "f(x) &= (3x^{-2}+(5x^3-7x)^{5})^3\\\\\n",
    " f'(x) &=((15x^2-7)\\times(5(5x^3-7x)^4)+(-6x^{-3}))\\times 3(3x^{-2}+(5x^3-7x)^{5})^2\n",
    "\\end{split}\\tag{1.4} \n",
    "$$\n",
    "\n",
    "所以链式法则的通用表述：\n",
    "$$\\begin{split}\n",
    "f(x) &=h(g(x))\\\\\n",
    "f'(x) &= g'(x)\\times h'(g(x))\n",
    "\\end{split}\\tag{1.5}\\text{一步步的从内而外的求导出来相乘}$$"
   ]
  },
  {
   "cell_type": "markdown",
   "metadata": {},
   "source": [
    "#### 乘积法则\n",
    "$$f(x)\\times g(x) \\rightarrow f'(x)g(x)+g'(x)f(x)$$\n",
    "\n",
    "$$\n",
    "\\begin{split}\n",
    "f(x)\\times g(x) &=(5x^5-x^7)(20x^2+3x^{-7})\\\\\n",
    "f'(x)g(x)+g'(x)f(x)&=(25x^4-7x^6)(20x^2+3x^{-7})+(5x^5-x^7)(40x-21x^{-8})\n",
    "\\end{split}\\text{求导}$$"
   ]
  },
  {
   "cell_type": "markdown",
   "metadata": {},
   "source": [
    "### 商法则\n",
    "求导\n",
    "$$\\frac{f(x)}{g(x)}=f(x)\\times g(x)^{-1}$$\n",
    "或者\n",
    "$$\\frac{f(x)}{g(x)}=\\frac{f'(x)g(x)-g'(x)f(x)}{g(x)^2}$$"
   ]
  },
  {
   "cell_type": "markdown",
   "metadata": {},
   "source": [
    "<img src='https://cdn.jsdelivr.net/gh/caoliang12121/pic@master/uPic/Xnip2021-04-23_14-42-44.jpg' alt='Xnip2021-04-23_14-42-44'/>"
   ]
  },
  {
   "cell_type": "markdown",
   "metadata": {},
   "source": [
    "**几个特殊函数的导数：**\n",
    "$$\\frac{d}{dx}e^x=e^x$$\n",
    "\n",
    "$$\\frac{d}{dx}ln^x=\\frac{1}{x}$$\n",
    "\n",
    "$$\\frac{d}{dx}x^0=0$$\n",
    "\n",
    "$$y=e^xcos^5(x)$$\n",
    "$$\\frac{dy}{dx}=e^xcos^5(x)+(-sin(x))*5*cos^4(x)e^x$$"
   ]
  },
  {
   "cell_type": "markdown",
   "metadata": {},
   "source": [
    "<img src='https://cdn.jsdelivr.net/gh/caoliang12121/pic@master/uPic/MykUD8.png' alt='MykUD8' width=\"50%\"/>"
   ]
  },
  {
   "cell_type": "markdown",
   "metadata": {},
   "source": [
    "## 积分学"
   ]
  },
  {
   "cell_type": "markdown",
   "metadata": {},
   "source": [
    "### 不定积分\n",
    "定义：设函数F(x)与f(x)在区间I上有定义.若在I上\n",
    "$$F‘(x)\"f(x)$$\n",
    "则称函数F(x)为f(x)在区间I上的一个原函数.  \n",
    "例:  \n",
    "$$(x^3)'=3x^2$$\n",
    "那么$x^3$是原函数，$3x^2$就是导函数。\n",
    "<img src='https://cdn.jsdelivr.net/gh/caoliang12121/pic@master/uPic/EZF8je.png' alt='EZF8je' width=\"50%\"/>"
   ]
  },
  {
   "cell_type": "markdown",
   "metadata": {},
   "source": []
  },
  {
   "cell_type": "markdown",
   "metadata": {},
   "source": []
  },
  {
   "cell_type": "markdown",
   "metadata": {},
   "source": []
  },
  {
   "cell_type": "markdown",
   "metadata": {},
   "source": []
  },
  {
   "cell_type": "markdown",
   "metadata": {},
   "source": []
  },
  {
   "cell_type": "markdown",
   "metadata": {},
   "source": []
  },
  {
   "cell_type": "markdown",
   "metadata": {},
   "source": []
  },
  {
   "cell_type": "markdown",
   "metadata": {},
   "source": []
  },
  {
   "cell_type": "markdown",
   "metadata": {},
   "source": []
  },
  {
   "cell_type": "markdown",
   "metadata": {},
   "source": []
  },
  {
   "cell_type": "markdown",
   "metadata": {},
   "source": []
  },
  {
   "cell_type": "markdown",
   "metadata": {},
   "source": []
  },
  {
   "cell_type": "markdown",
   "metadata": {},
   "source": []
  },
  {
   "cell_type": "markdown",
   "metadata": {},
   "source": []
  },
  {
   "cell_type": "markdown",
   "metadata": {},
   "source": []
  },
  {
   "cell_type": "markdown",
   "metadata": {},
   "source": []
  },
  {
   "cell_type": "markdown",
   "metadata": {},
   "source": []
  },
  {
   "cell_type": "markdown",
   "metadata": {},
   "source": []
  },
  {
   "cell_type": "markdown",
   "metadata": {},
   "source": []
  },
  {
   "cell_type": "markdown",
   "metadata": {},
   "source": []
  },
  {
   "cell_type": "markdown",
   "metadata": {},
   "source": []
  },
  {
   "cell_type": "markdown",
   "metadata": {},
   "source": []
  },
  {
   "cell_type": "markdown",
   "metadata": {},
   "source": [
    "$$  \\lim_{x \\to \\infty} x^2_{22} - \\int_{1}^{5}x\\mathrm{d}x + \\sum_{n=1}^{20} n^{2} = \\prod_{j=1}^{3} y_{j}  + \\lim_{x \\to -2} \\frac{x-2}{x} $$"
   ]
  },
  {
   "cell_type": "markdown",
   "metadata": {},
   "source": [
    "$$  \\lim_{x \\to \\infty} x^2_{22} - \\int_{1}^{5}x\\mathrm{d}x + \\sum_{n=1}^{20} n^{2} = \\prod_{j=1}^{3} y_{j}  + \\lim_{x \\to -2} \\frac{x-2}{x} $$"
   ]
  },
  {
   "cell_type": "markdown",
   "metadata": {},
   "source": [
    "### 夹逼定理\n",
    "$$g(x)\\leqslant f(x) \\leqslant h(x)$$\n",
    "\n",
    "$$\\lim_{x \\to a} g(x)=L,\\lim_{x \\to a} h(x)=L$$\n",
    "$$\\Downarrow$$\n",
    "$$\\lim_{x \\to a} f(x)=L$$"
   ]
  },
  {
   "cell_type": "markdown",
   "metadata": {},
   "source": [
    "证明:\n",
    "$$\\lim_{x \\to 0} \\frac{sin(x)}{x}=1$$\n",
    "<img src='https://cdn.jsdelivr.net/gh/caoliang12121/pic@master/uPic/wfVIAs.png' alt='wfVIAs'/>"
   ]
  },
  {
   "cell_type": "markdown",
   "metadata": {},
   "source": [
    "### 数列与级数\n",
    "$$\\sum_{k=0}^{n}a=\\frac{n(n+1)}{2}$$\n",
    "$$\\sum_{k=0}^{n} a^n=\\frac{a^{n+1}-1}{a-1}$$"
   ]
  },
  {
   "cell_type": "markdown",
   "metadata": {},
   "source": [
    "### 排列与组合\n",
    "排列：7个人和3把椅子，有多少种排序的方式呢？\n",
    "$$P_7^3=7*6*5=210$$\n",
    "\n",
    "组合：现在我们将坐下来的三个人一样，识做同一组。有多少种组合方式？\n",
    "例如：ABC，ACB，BCA视为同一组。\n",
    "$$C_7^3=35$$\n",
    "\n",
    "综述：\n",
    "（1）排列是关注顺序的，不同顺序视为不同组合\n",
    "（2）组合是不关注顺序的，不同顺序也视为同一组合\n",
    "$$P_n^r=\\frac{n!}{(n-r)!}$$\n",
    "$$C_n^r=\\frac{n!}{(n-r)!\\times r!}$$"
   ]
  },
  {
   "cell_type": "markdown",
   "metadata": {},
   "source": [
    "### 二项式定理\n",
    "$$(a+b)^n=\\sum_{k=0}^n C_n^k a^{n-k} b^k$$\n",
    "实质上就是运用计数原理，这个过程可以理解成从n个括号里挑选元素，如果b贡献了k次，那么a就要选中n-k次，保证每个括号里的元素都出现一遍，这种挑选的种数有$C_n^k$ 种，所以这一项为$C_n^k a^{n-k} b^k$，即通项公式。"
   ]
  },
  {
   "cell_type": "markdown",
   "metadata": {},
   "source": [
    "### 利息\n",
    "单利：$M=x(1+y*r)$\n",
    "复利：$M=x(1+r)^y$\n",
    "\n",
    "#### 复利与e\n",
    "设本金P元，年利率r，那么一年后还款$Pe^r$，n年后就是$Pe^{nr}$"
   ]
  },
  {
   "cell_type": "markdown",
   "metadata": {},
   "source": []
  },
  {
   "cell_type": "markdown",
   "metadata": {},
   "source": []
  },
  {
   "cell_type": "markdown",
   "metadata": {},
   "source": []
  },
  {
   "cell_type": "markdown",
   "metadata": {},
   "source": []
  }
 ],
 "metadata": {
  "kernelspec": {
   "display_name": "Python 3",
   "language": "python",
   "name": "python3"
  },
  "language_info": {
   "codemirror_mode": {
    "name": "ipython",
    "version": 3
   },
   "file_extension": ".py",
   "mimetype": "text/x-python",
   "name": "python",
   "nbconvert_exporter": "python",
   "pygments_lexer": "ipython3",
   "version": "3.7.4"
  }
 },
 "nbformat": 4,
 "nbformat_minor": 5
}
