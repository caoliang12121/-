{
 "cells": [
  {
   "cell_type": "markdown",
   "id": "electric-pharmacology",
   "metadata": {},
   "source": [
    "### 三角函数\n",
    "<img src='https://cdn.jsdelivr.net/gh/caoliang12121/pic@master/uPic/yIMWHB.jpg' alt='yIMWHB'/>\n",
    "<img src='https://cdn.jsdelivr.net/gh/caoliang12121/pic@master/uPic/iNddAX.jpg' alt='iNddAX'/>\n",
    "<img src='https://cdn.jsdelivr.net/gh/caoliang12121/pic@master/uPic/bf43ts.jpg' alt='bf43ts'/>\n",
    "<img src='https://cdn.jsdelivr.net/gh/caoliang12121/pic@master/uPic/WqdjZD.jpg' alt='WqdjZD'/>\n",
    "<img src='https://cdn.jsdelivr.net/gh/caoliang12121/pic@master/uPic/xE0M4w.jpg' alt='xE0M4w'/>"
   ]
  },
  {
   "cell_type": "markdown",
   "id": "palestinian-circumstances",
   "metadata": {},
   "source": [
    "$$  \\lim_{x \\to \\infty} x^2_{22} - \\int_{1}^{5}x\\mathrm{d}x + \\sum_{n=1}^{20} n^{2} = \\prod_{j=1}^{3} y_{j}  + \\lim_{x \\to -2} \\frac{x-2}{x} $$"
   ]
  },
  {
   "cell_type": "markdown",
   "id": "premium-karaoke",
   "metadata": {},
   "source": [
    "$$  \\lim_{x \\to \\infty} x^2_{22} - \\int_{1}^{5}x\\mathrm{d}x + \\sum_{n=1}^{20} n^{2} = \\prod_{j=1}^{3} y_{j}  + \\lim_{x \\to -2} \\frac{x-2}{x} $$"
   ]
  },
  {
   "cell_type": "markdown",
   "id": "brown-thumb",
   "metadata": {},
   "source": [
    "### 夹逼定理\n",
    "$$g(x)\\leqslant f(x) \\leqslant h(x)$$\n",
    "\n",
    "$$\\lim_{x \\to a} g(x)=L,\\lim_{x \\to a} h(x)=L$$\n",
    "$$\\Downarrow$$\n",
    "$$\\lim_{x \\to a} f(x)=L$$"
   ]
  },
  {
   "cell_type": "markdown",
   "id": "improved-brick",
   "metadata": {},
   "source": [
    "证明:\n",
    "$$\\lim_{x \\to 0} \\frac{sin(x)}{x}=1$$\n",
    "<img src='https://cdn.jsdelivr.net/gh/caoliang12121/pic@master/uPic/wfVIAs.png' alt='wfVIAs'/>"
   ]
  },
  {
   "cell_type": "markdown",
   "id": "great-implement",
   "metadata": {},
   "source": [
    "### 数列与级数\n",
    "$$\\sum_{k=0}^{n}a=\\frac{n(n+1)}{2}$$\n",
    "$$\\sum_{k=0}^{n} a^n=\\frac{a^{n+1}-1}{a-1}$$"
   ]
  },
  {
   "cell_type": "markdown",
   "id": "alone-michigan",
   "metadata": {},
   "source": [
    "### 排列与组合\n",
    "排列：7个人和3把椅子，有多少种排序的方式呢？\n",
    "$$P_7^3=7*6*5=210$$\n",
    "\n",
    "组合：现在我们将坐下来的三个人一样，识做同一组。有多少种组合方式？\n",
    "例如：ABC，ACB，BCA视为同一组。\n",
    "$$C_7^3=35$$\n",
    "\n",
    "综述：\n",
    "（1）排列是关注顺序的，不同顺序视为不同组合\n",
    "（2）组合是不关注顺序的，不同顺序也视为同一组合\n",
    "$$P_n^r=\\frac{n!}{(n-r)!}$$\n",
    "$$C_n^r=\\frac{n!}{(n-r)!\\times r!}$$"
   ]
  },
  {
   "cell_type": "markdown",
   "id": "early-pitch",
   "metadata": {},
   "source": [
    "### 二项式定理\n",
    "$$(a+b)^n=\\sum_{k=0}^n C_n^k a^{n-k} b^k$$\n",
    "实质上就是运用计数原理，这个过程可以理解成从n个括号里挑选元素，如果b贡献了k次，那么a就要选中n-k次，保证每个括号里的元素都出现一遍，这种挑选的种数有$C_n^k$ 种，所以这一项为$C_n^k a^{n-k} b^k$，即通项公式。"
   ]
  },
  {
   "cell_type": "markdown",
   "id": "norwegian-anthony",
   "metadata": {},
   "source": [
    "### 利息\n",
    "单利：$M=x(1+y*r)$\n",
    "复利：$M=x(1+r)^y$\n",
    "\n",
    "#### 复利与e\n",
    "设本金P元，年利率r，那么一年后还款$Pe^r$，n年后就是$Pe^{nr}$"
   ]
  },
  {
   "cell_type": "markdown",
   "id": "scenic-background",
   "metadata": {},
   "source": []
  },
  {
   "cell_type": "markdown",
   "id": "knowing-kinase",
   "metadata": {},
   "source": []
  },
  {
   "cell_type": "markdown",
   "id": "moved-banking",
   "metadata": {},
   "source": []
  },
  {
   "cell_type": "markdown",
   "id": "durable-burton",
   "metadata": {},
   "source": []
  }
 ],
 "metadata": {
  "kernelspec": {
   "display_name": "Python 3",
   "language": "python",
   "name": "python3"
  },
  "language_info": {
   "codemirror_mode": {
    "name": "ipython",
    "version": 3
   },
   "file_extension": ".py",
   "mimetype": "text/x-python",
   "name": "python",
   "nbconvert_exporter": "python",
   "pygments_lexer": "ipython3",
   "version": "3.6.2"
  }
 },
 "nbformat": 4,
 "nbformat_minor": 5
}
