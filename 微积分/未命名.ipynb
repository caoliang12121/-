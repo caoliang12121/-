{
 "cells": [
  {
   "cell_type": "code",
   "execution_count": 1,
   "metadata": {},
   "outputs": [],
   "source": [
    "import requests"
   ]
  },
  {
   "cell_type": "code",
   "execution_count": 3,
   "metadata": {},
   "outputs": [
    {
     "name": "stdout",
     "output_type": "stream",
     "text": [
      "1 0 404\n",
      "1 1 200\n",
      "1 2 200\n",
      "1 3 404\n",
      "1 4 404\n",
      "1 5 404\n",
      "1 6 404\n",
      "1 7 404\n",
      "1 8 404\n",
      "1 9 404\n",
      "1 10 404\n",
      "2 0 404\n",
      "2 1 200\n",
      "2 2 200\n",
      "2 3 200\n",
      "2 4 404\n",
      "2 5 404\n",
      "2 6 404\n",
      "2 7 404\n",
      "2 8 404\n",
      "2 9 404\n",
      "2 10 404\n",
      "3 0 404\n",
      "3 1 200\n",
      "3 2 200\n",
      "3 3 200\n",
      "3 4 404\n",
      "3 5 404\n",
      "3 6 404\n",
      "3 7 404\n",
      "3 8 404\n",
      "3 9 404\n",
      "3 10 404\n",
      "4 0 404\n",
      "4 1 200\n",
      "4 2 200\n",
      "4 3 200\n",
      "4 4 404\n",
      "4 5 404\n",
      "4 6 404\n",
      "4 7 404\n",
      "4 8 404\n",
      "4 9 404\n",
      "4 10 404\n",
      "5 0 404\n",
      "5 1 200\n",
      "5 2 200\n",
      "5 3 404\n",
      "5 4 404\n",
      "5 5 404\n",
      "5 6 404\n",
      "5 7 404\n",
      "5 8 404\n",
      "5 9 404\n",
      "5 10 404\n",
      "6 0 404\n",
      "6 1 200\n",
      "6 2 200\n",
      "6 3 200\n",
      "6 4 200\n",
      "6 5 404\n",
      "6 6 404\n",
      "6 7 404\n",
      "6 8 404\n",
      "6 9 404\n",
      "6 10 404\n",
      "7 0 404\n",
      "7 1 404\n",
      "7 2 404\n",
      "7 3 404\n",
      "7 4 404\n",
      "7 5 404\n",
      "7 6 404\n",
      "7 7 404\n",
      "7 8 404\n",
      "7 9 404\n",
      "7 10 404\n",
      "8 0 404\n",
      "8 1 404\n",
      "8 2 404\n",
      "8 3 404\n",
      "8 4 404\n",
      "8 5 404\n",
      "8 6 404\n",
      "8 7 404\n",
      "8 8 404\n",
      "8 9 404\n",
      "8 10 404\n",
      "9 0 404\n",
      "9 1 404\n",
      "9 2 404\n",
      "9 3 404\n",
      "9 4 404\n",
      "9 5 404\n",
      "9 6 404\n",
      "9 7 404\n",
      "9 8 404\n",
      "9 9 404\n",
      "9 10 404\n",
      "10 0 404\n",
      "10 1 404\n",
      "10 2 404\n",
      "10 3 404\n",
      "10 4 404\n",
      "10 5 404\n",
      "10 6 404\n",
      "10 7 404\n",
      "10 8 404\n",
      "10 9 404\n",
      "10 10 404\n"
     ]
    }
   ],
   "source": [
    "for i in range(1,11):\n",
    "    for j in range(0,11):\n",
    "        url='https://www.math.miami.edu/~dzgao/%s-%s-slides.pdf'%(i,j)\n",
    "        resopnse=requests.get(url)\n",
    "        if resopnse.status_code==200:\n",
    "            with open('%s-%s.pdf'%(i,j),'wb') as f:\n",
    "                f.write(resopnse.content)\n",
    "            print(i,j,resopnse.status_code)\n",
    "        else:\n",
    "            print(i,j,resopnse.status_code)\n"
   ]
  },
  {
   "cell_type": "code",
   "execution_count": 11,
   "metadata": {},
   "outputs": [],
   "source": [
    "import requests\n",
    "\n",
    "cookies = {\n",
    "    '_ga': 'GA1.2.766971736.1619333639',\n",
    "    '_gid': 'GA1.2.175228542.1619333639',\n",
    "}\n",
    "\n",
    "headers = {\n",
    "    'Connection': 'keep-alive',\n",
    "    'sec-ch-ua': '\"Google Chrome\";v=\"89\", \"Chromium\";v=\"89\", \";Not A Brand\";v=\"99\"',\n",
    "    'sec-ch-ua-mobile': '?0',\n",
    "    'DNT': '1',\n",
    "    'Upgrade-Insecure-Requests': '1',\n",
    "    'User-Agent': 'Mozilla/5.0 (Macintosh; Intel Mac OS X 10_13_5) AppleWebKit/537.36 (KHTML, like Gecko) Chrome/89.0.4389.114 Safari/537.36',\n",
    "    'Accept': 'text/html,application/xhtml+xml,application/xml;q=0.9,image/avif,image/webp,image/apng,*/*;q=0.8,application/signed-exchange;v=b3;q=0.9',\n",
    "    'Sec-Fetch-Site': 'none',\n",
    "    'Sec-Fetch-Mode': 'navigate',\n",
    "    'Sec-Fetch-User': '?1',\n",
    "    'Sec-Fetch-Dest': 'document',\n",
    "    'Accept-Language': 'zh-CN,zh;q=0.9,en-US;q=0.8,en;q=0.7',\n",
    "}\n",
    "\n",
    "response = requests.get('https://www.math.miami.edu/~dzgao/6-2-slides.pdf', headers=headers, cookies=cookies)\n"
   ]
  },
  {
   "cell_type": "code",
   "execution_count": 20,
   "metadata": {},
   "outputs": [],
   "source": [
    "with open('66.pdf','wb') as f:\n",
    "    f.write(response.content)"
   ]
  },
  {
   "cell_type": "code",
   "execution_count": 22,
   "metadata": {},
   "outputs": [],
   "source": [
    "response = requests.get('https://www.math.miami.edu/~dzgao/6-2-slides.pdf')\n"
   ]
  },
  {
   "cell_type": "code",
   "execution_count": 24,
   "metadata": {
    "scrolled": true
   },
   "outputs": [
    {
     "data": {
      "text/plain": [
       "False"
      ]
     },
     "execution_count": 24,
     "metadata": {},
     "output_type": "execute_result"
    }
   ],
   "source": [
    "response.status_code==\"200\""
   ]
  },
  {
   "cell_type": "code",
   "execution_count": null,
   "metadata": {},
   "outputs": [],
   "source": []
  }
 ],
 "metadata": {
  "kernelspec": {
   "display_name": "Python 3",
   "language": "python",
   "name": "python3"
  },
  "language_info": {
   "codemirror_mode": {
    "name": "ipython",
    "version": 3
   },
   "file_extension": ".py",
   "mimetype": "text/x-python",
   "name": "python",
   "nbconvert_exporter": "python",
   "pygments_lexer": "ipython3",
   "version": "3.7.4"
  }
 },
 "nbformat": 4,
 "nbformat_minor": 2
}
