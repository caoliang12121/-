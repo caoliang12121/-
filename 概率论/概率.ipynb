{
 "cells": [
  {
   "cell_type": "markdown",
   "metadata": {
    "collapsed": true
   },
   "source": [
    "### 贝叶斯定理\n",
    "\n",
    "$$P(a\\cap b)=p(a|b)\\times p(b)$$\n",
    "$$\\downarrow$$\n",
    "$$p(a\\cap b)=p(b\\cap a)=p(b|a)\\times p(a)$$\n",
    "$$\\downarrow$$\n",
    "$$P(b|a)=\\frac{P(a|b)\\times P(b)}{P(a)}$$"
   ]
  },
  {
   "cell_type": "markdown",
   "metadata": {},
   "source": [
    "一个袋子中有5枚均匀硬币，10枚不均匀硬币。不均匀硬币有80%的概率是花朝上。再随机取一枚硬币，掷6次，4次花朝上。\n",
    "问，这枚硬币是均匀硬币的概率是多少：\n",
    "根据贝叶斯定理：\n",
    "\n",
    "$$P(均匀|4上)=\\frac{P(4上|均匀)\\times P(均匀)}{P(4上)}$$\n",
    "首先：\n",
    "$$P(4上|均匀)=C_6^4\\times 0.5^6,P(均匀)=1/3$$\n",
    "$$P(4上)=1/3\\times C_6^4\\times 0.5^6+2/3\\times C_6^4\\times 0.8^4\\times 0.2^2$$\n",
    "$$P(均匀|4上)=32.3\\%$$"
   ]
  },
  {
   "cell_type": "markdown",
   "metadata": {
    "collapsed": true
   },
   "source": [
    "### 排列与组合\n",
    "排列：7个人和3把椅子，有多少种排序的方式呢？\n",
    "$$P_7^3=7*6*5=210$$\n",
    "\n",
    "组合：现在我们将坐下来的三个人一样，识做同一组。有多少种组合方式？\n",
    "例如：ABC，ACB，BCA视为同一组。\n",
    "$$C_7^3=35$$\n",
    "\n",
    "综述：\n",
    "（1）排列是关注顺序的，不同顺序视为不同组合\n",
    "（2）组合是不关注顺序的，不同顺序也视为同一组合\n",
    "$$P_n^r=\\frac{n!}{(n-r)!}$$\n",
    "$$C_n^r=\\frac{n!}{(n-r)!\\times r!}$$"
   ]
  },
  {
   "cell_type": "markdown",
   "metadata": {
    "collapsed": true
   },
   "source": [
    "罚球命中率80%，投篮5次，命中3次及以上的概率P是：\n",
    "$$P=p(3|5)+p(4|5)+p(5|5)$$\n",
    "\n",
    "$$p(3|5)=C_5^3\\times 0.8^3\\times 0.2^2$$\n",
    "$$p(4|5)=C_5^4\\times 0.8^4\\times 0.2$$\n",
    "$$p(5|5)=C_5^5\\times 0.8^5$$"
   ]
  },
  {
   "cell_type": "markdown",
   "metadata": {
    "collapsed": true
   },
   "source": [
    "题目2: 随机选择30个人，至少有两人是同一天生日的概率是多少？\n",
    "p(2上）=1-p(none)，$p(none)=\\frac{365\\times 364\\times 363\\times 362\\cdots 336}{365^30}=29.37\\%$，所以$p(2上)=1-29.37\\%=70.63\\%$"
   ]
  },
  {
   "cell_type": "markdown",
   "metadata": {
    "collapsed": true
   },
   "source": [
    "### 随机变量与概率密度函数\n",
    "随机变量有两种，**离散型和连续型**。离散型例如，扔骰子，只会出现1～6的数字。连续型例如，树叶的长度，可以从1cm到10cm乃至更长的之间的任意数字。\n",
    "扔骰子时得到任一数字的概率$P(x| x\\in (1,6))=\\frac{1}{6}$\n",
    "连续型即概率密度分布曲线下的面积即为概率"
   ]
  },
  {
   "cell_type": "markdown",
   "metadata": {
    "collapsed": true
   },
   "source": [
    "### 二项分布\n",
    "首先顾名思义二项分布，表明结果只有两种。又叫伯努利分布。在一次试验中，事件A出现的概率为p，不出现的概率为q=1-p。若以β记事件A出现的次数，则β仅取0，1两值。\n",
    "$$b(x,n,p)=C_n^x p^x q^{n-x}$$\n",
    "其中b表示二项分布的概率，n表示试验次数，x表示出现某个结果的次数。\n",
    "以投篮为例，投中和不中只有这两种结果，共投6次。投中和投不中的概率都是50%\n",
    "<img src='https://cdn.jsdelivr.net/gh/caoliang12121/pic@master/uPic/5jvUsZ.png' alt='5jvUsZ'/>\n",
    "<img src='https://cdn.jsdelivr.net/gh/caoliang12121/pic@master/uPic/1PCYm1.png' alt='1PCYm1' width=\"50%\"/>"
   ]
  },
  {
   "cell_type": "markdown",
   "metadata": {
    "collapsed": true
   },
   "source": [
    "上图中，K表示投中了几球，p_make表示投中几球的概率。p_make_cnt表示类型数。p(X=K)表示总概率。可以看出每种命中数的概率分布图，呈现出正态分布的样子。\n",
    "那我们稍微改变一下命中的概率。\n",
    "<img src='https://cdn.jsdelivr.net/gh/caoliang12121/pic@master/uPic/gu0uyR.png' alt='gu0uyR' width=\"50%\"/>\n",
    "<img src='https://cdn.jsdelivr.net/gh/caoliang12121/pic@master/uPic/2cgbo2.png' alt='2cgbo2' width=\"50%\"/>"
   ]
  },
  {
   "cell_type": "markdown",
   "metadata": {
    "collapsed": true
   },
   "source": [
    "### 期望值\n",
    "期望值与数据的均值为同一件事，也可以表示为每个数据乘以数据出现的概率，得到的也是期望值\n",
    "\n",
    "在二项分布中期望值计算公式：\n",
    "$$E(x)=\\sum_{k=0}^{n}K \\binom{n}{k} p^k (1-p)^{n-k}=np$$\n",
    "**E(x)=np只对二项分布有效**\n",
    "\n",
    "二项分布的标准差：  \n",
    "$\\sigma=\\sqrt{p*(1-p)}$"
   ]
  },
  {
   "cell_type": "markdown",
   "metadata": {
    "collapsed": true
   },
   "source": [
    "### 泊松分布"
   ]
  },
  {
   "cell_type": "markdown",
   "metadata": {},
   "source": [
    "转载自：[这里](https://www.zhihu.com/question/26441147/answer/429569625)\n",
    "你有一个馒头店，每日的销量如下，生意确实不咋地，你想确定每天要做多少个，这样才不会浪费，又能劲量的赚钱。\n",
    "<img src='https://cdn.jsdelivr.net/gh/caoliang12121/pic@master/uPic/2l77nh.jpg' alt='2l77nh'/>"
   ]
  },
  {
   "cell_type": "markdown",
   "metadata": {},
   "source": [
    "平均下来一天卖5个，如果一天只做5个，有两天就不够卖了。那么我们把一天销售的时间分成10份，以周二为例，就相当于在这10份的时间里卖出了7份。\n",
    "<img src='https://cdn.jsdelivr.net/gh/caoliang12121/pic@master/uPic/M4isW0.jpg' alt='M4isW0'/>\n",
    "这就把每一份时间段变成了二项分布，卖出和没卖出。那么卖出7份的概率就变成了：\n",
    "$$\\binom{10}{7}P^7(1-p)3$$\n",
    "那么通用化，在T时刻内卖出k份馒头的概率为：\n",
    "$$P(X=k)=\\lim_{n\\to \\infty}\\binom{n}{k}p^k(1-p)^{n-k}$$\n",
    "好了，我们现在就要求出概率p了。\n",
    "\n",
    "上面说过，二项分布的期望为：\n",
    "    $$E(X)=np=\\lambda \\rightarrow p=\\frac{\\lambda}{n}$$\n",
    "带入概率公式：\n",
    "    $$P(X=k)=\\lim_{n\\to \\infty}\\binom{n}{k}(\\frac{\\lambda}{n})^k(1-\\frac{\\lambda}{n})^{n-k}$$\n",
    "$$=\\lim_{n\\to \\infty} \\frac{n!}{(n-k)!k!}\\frac{\\lambda^k}{n^k}(1-\\frac{\\lambda}{n})^{n}(1-\\frac{\\lambda}{n})^{-k}$$\n",
    "$$=\\lim_{n\\to \\infty} \\frac{n\\times (n-1)\\cdots (n-k+1)}{n^k}\\frac{\\lambda^k}{k!}(1-\\frac{\\lambda}{n})^{n}(1-\\frac{\\lambda}{n})^{-k}$$\n",
    "\n",
    "这里有一个定义：\n",
    "$$\\lim_{n\\to a}g(x)f(x)=\\lim_{n\\to a}f(x)\\lim_{n\\to a}g(x)$$\n",
    "所以我们只要分别求出上面的极限值然后相乘就可以了。\n",
    "$$\\lim_{n\\to \\infty} \\frac{n\\times (n-1)\\cdots (n-k+1)}{n^k}\\frac{\\lambda^k}{k!}=1\\times \\frac{\\lambda^k}{k!}$$\n",
    "$$\\lim_{n\\to \\infty}(1-\\frac{\\lambda}{n})^{n}(1-\\frac{\\lambda}{n})^{-k}=e^{-\\lambda}\\times 1$$\n",
    "\n",
    "最后得到概率密度函数：\n",
    "$$P(X=k)=\\frac{\\lambda^k}{k!}e^{-\\lambda}$$\n",
    "把平均值5带入公式，分别计算从1个馒头到11个馒头足够卖的概率是：\n",
    "<img src='https://cdn.jsdelivr.net/gh/caoliang12121/pic@master/uPic/njaOkd.png' alt='njaOkd' width=\"50%\"/>\n",
    "可以看到，当准备8个馒头，覆盖的几率已经达到了93%。\n",
    "\n",
    "#### 总结\n",
    "\n",
    "泊松分布是二项分布n很大而p很小时的一种极限形式。\n",
    "\n",
    "（1）二项分布是说，已知某件事情发生的概率是p，那么做n次试验，事情发生的次数就服从于二项分布。\n",
    "\n",
    "（2）泊松分布是指某段连续的时间内某件事情发生的次数，而且“某件事情”发生所用的时间是可以忽略的。\n",
    "\n",
    "例如，在五分钟内，电子元件遭受脉冲的次数，就服从于泊松分布。假如你把“连续的时间”分割成无数小份，那么每个小份之间都是相互独立的。在每个很小的时间区间内，电子元件都有可能“遭受到脉冲”或者“没有遭受到脉冲”，这就可以被认为是一个p很小的二项分布。而因为“连续的时间”被分割成无穷多份，因此n(试验次数)很大。\n",
    "\n",
    "所以，泊松分布可以认为是二项分布的一种极限形式。因为二项分布其实就是一个最最简单的“发生”与“不发生”的分布，它可以描述非常多的随机的自然界现象，因此其极限形式泊松分布自然也是非常有用的。"
   ]
  },
  {
   "cell_type": "markdown",
   "metadata": {},
   "source": []
  },
  {
   "cell_type": "markdown",
   "metadata": {},
   "source": []
  },
  {
   "cell_type": "markdown",
   "metadata": {},
   "source": []
  },
  {
   "cell_type": "markdown",
   "metadata": {},
   "source": []
  },
  {
   "cell_type": "markdown",
   "metadata": {},
   "source": []
  },
  {
   "cell_type": "code",
   "execution_count": null,
   "metadata": {
    "collapsed": true
   },
   "outputs": [],
   "source": []
  }
 ],
 "metadata": {
  "kernelspec": {
   "display_name": "Python 3",
   "language": "python",
   "name": "python3"
  },
  "language_info": {
   "codemirror_mode": {
    "name": "ipython",
    "version": 3
   },
   "file_extension": ".py",
   "mimetype": "text/x-python",
   "name": "python",
   "nbconvert_exporter": "python",
   "pygments_lexer": "ipython3",
   "version": "3.7.4"
  }
 },
 "nbformat": 4,
 "nbformat_minor": 5
}
