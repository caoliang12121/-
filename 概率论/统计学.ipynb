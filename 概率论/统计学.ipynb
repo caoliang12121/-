{
 "cells": [
  {
   "cell_type": "markdown",
   "metadata": {},
   "source": [
    "### 样本和总体\n",
    "100个人里抽10个人，100就是总体，10就是样本\n",
    "#### 总体均值\n",
    "$$\\mu=\\sum_{i=1}^{N}x_i=\\frac{x_1+x_2+\\cdots +x_N}{N}$$\n",
    "#### 样本均值\n",
    "$$\\vec{x}=\\sum_{i=1}^{n}x_i=\\frac{x_1+x_2+\\cdots +x_n}{n}$$\n",
    "#### 总体方差\n",
    "$$\\sigma^2=\\frac{\\sum_{i=1}^{n}(x_i-\\mu)^2}{n}=\\frac{\\sum_{i=1}^{n}x_i^2}{n}-\\frac{(\\sum_{i=1}^{n}\n",
    "x_i)^2}{n^2}$$\n",
    "#### 样本方差\n",
    "$$S^2=\\frac{\\sum_{i=1}^{n}(x_i-\\vec{x})^2}{n-1}$$\n",
    "#### 总体标准差\n",
    "$$\\sigma=\\sqrt{\\sigma^2}$$\n",
    "#### 样本标准差\n",
    "$$S=\\sqrt{S^2}$$"
   ]
  },
  {
   "cell_type": "markdown",
   "metadata": {},
   "source": [
    "\n"
   ]
  },
  {
   "cell_type": "markdown",
   "metadata": {},
   "source": [
    "随机变量(Random Variable)X是一个映射，把随机试验的结果与实数建立起了一一对应的关系。而期望与方差是随机变量的两个重要的数字特这。\n",
    "\n",
    "（1）期望(Expectation, or expected value)是度量一个随机变量取值的集中位置或平均水平的最基本的数字特征，平均数是一个统计学概念，期望是一个概率论概念；\n",
    "\n",
    "（2）方差(Variance)是表示随机变量取值的分散性的一个数字特征。 方差越大，说明随机变量的取值分布越不均匀，变化性越强；方差越小，说明随机变量的取值越趋近于均值，即期望值。\n",
    "\n",
    "**离散型随机变量：**\n",
    "\n",
    "期望：$E(x)=\\sum_{i=1}^{n}x_ip_i$\n",
    "\n",
    "方差：$D(x)=\\sum_{i=1}^{n}[x_i-E(x)]^2p_i$\n",
    "\n",
    "**连续型随机变量：**\n",
    "\n",
    "期望：$E(x)=\\int_{-\\infty}^{\\infty}xf(x)dx$\n",
    "\n",
    "方差：$D(x)=\\int_{-\\infty}^{\\infty}[x-E(x)]^2f(x)dx$\n",
    "\n",
    "#### 期望的运算性质\n",
    "(1) $E(c)=c c是常数$\n",
    "\n",
    "(2) $E(cX)=cE(X)$\n",
    "\n",
    "(3) $E(X+Y)=E(X)+E(Y)$\n",
    "\n",
    "(4) $E(X-Y)=E(X)-E(Y)$\n",
    "\n",
    "(5) $X,Y是相互独立的随机事件，则E(XY)=E(X)E(Y)$\n",
    "\n",
    "#### 方差的运算性质\n",
    "\n",
    "(1) $D(c)=0$\n",
    "\n",
    "(2) $D(cX)=C^2D(X)$\n",
    "\n",
    "(3) $D(X+c)=D(X)$\n",
    "\n",
    "(4) $D(cX+a)=c^2D(X)$\n",
    "\n",
    "(5) $X,Y是相互独立的随机事件，则D(X\\pm Y)=D(X)+D(Y)$\n",
    "\n",
    "#### 期望与方差的联系\n",
    "$D(X)=E(X^2)-[E(X)]^2$\n",
    "\n",
    "证明：$$\n",
    "\\begin{equation*}%加*表示不对公式编号\n",
    "\\begin{split}\n",
    "D(X)&=E[X-E(X)]^2\\\\\n",
    "           &=E[X^2+[E(X)]^2-2XE(X)]\\\\\n",
    "           &=E(X^2)+[E(X)]^2-2E(X)\\cdot E(X)\\\\\n",
    "           &=E(X^2)-[E(X)]^2\n",
    "\\end{split}\n",
    "\\end{equation*}           \n",
    "$$"
   ]
  },
  {
   "cell_type": "markdown",
   "metadata": {},
   "source": []
  },
  {
   "cell_type": "markdown",
   "metadata": {},
   "source": []
  },
  {
   "cell_type": "markdown",
   "metadata": {},
   "source": []
  },
  {
   "cell_type": "markdown",
   "metadata": {},
   "source": []
  },
  {
   "cell_type": "markdown",
   "metadata": {},
   "source": []
  },
  {
   "cell_type": "markdown",
   "metadata": {},
   "source": []
  },
  {
   "cell_type": "markdown",
   "metadata": {},
   "source": []
  },
  {
   "cell_type": "markdown",
   "metadata": {},
   "source": [
    "### 正态分布"
   ]
  },
  {
   "attachments": {},
   "cell_type": "markdown",
   "metadata": {},
   "source": [
    "引用一个很好的解释：\n",
    "[正态分布的理解](https://zhuanlan.zhihu.com/p/128809461)\n",
    "\n",
    "#### 连续型随机变量研究区间概率\n",
    "\n",
    "了解了正态分布的基本思想，我们来看看实际应用中我们需要掌握的要点。首先，正态分布属于“连续型随机变量分布”的一类。我们知道，对于连续型随机变量，我们不关注“点概率”，只关注“区间概率”，这是什么意思？\n",
    "\n",
    "我们看这个例子，假定随机变量X指是“北京市成年男子的身高”，理论上它可以取任意正数，所以我们把它当做一个连续型随机变量（连续型变量，就是指可以取某一区间或整个实数轴上的任意一个值的变量）来看待。这里，我们先想一想如何计算P(X =1.87)? 即身高恰好完全exactly等于1.87的概率是多少，这就是所谓的“点概率”。更极端一点，让随机变量Y是[0,1]这个区间上的任意一点，那么Y的取值有多少个呢？无数多个，我们数不清楚，所以Y 取某一个具体的值的概率是1除以无数，即可以看做是0。于是，这里透露一个很重要的结论：连续型随机变量取任意某个确定的值的概率均为0。因此，对于连续型随机变量，我们通常不研究它取某个特定值的概率，而研究它在某一段区间上的取值，比如身高在1.70～1.80的概率。\n",
    "\n",
    "#### 概率密度函数\n",
    "\n",
    "对于初学者来讲，“概率密度”可能是最不友好的一个概念，直接谈概率不行吗，好好的为什么要生出一个“密度”？的确，没有太多数理基础，这个概念着实不太好理解。虽然文字和数学公式上你可能感觉很陌生，但我们特别熟知的那条中间高、两边低的“钟形曲线”恰恰就是正态分布的概率密度曲线。前面我们讲了区间概率，这里你就可以通过区间的角度来理解概率密度曲线：曲线越高，也就代表着这个区别的概率越密集，简单理解成在同样大小的房子里，这个房间的人数更多、更挤。除此之外，另一个关于概率密度函数的重要知识点是，积分（面积）等于概率。随机变量X在某个区间比如（a，b）即a<X<b的概率，就是概率密度曲线在这个区间下的面积，数学上的表达就是密度函数在区间（a，b）上的积分。所以，概率的大小就是“概率密度函数曲线下的面积”的大小，这个不太起眼的概念实际上就决定了你日后是否能理解假设假设中所谓的“拒绝域”。\n",
    "\n",
    "#### 均数和标准差\n",
    "\n",
    "前面说对于正态分布的概率密度函数以及积分不用特别关注，那真正需要关注的是什么呢？就是均数和标准差。这里需要明确的是，一旦谈及正态分布，我们首先要想到它的两个参数：均数是多少和标准差是几。每次一遇到正态分布就迅速找这两个概念，最好形成条件反射，因为这两个数才是我们日后运用正态分布解决实际问题的“利器”。\n",
    "\n",
    "关于正态分布均数和标准差的性质，我们这里简单总结一下：\n",
    "\n",
    "1）概率密度曲线在均值处达到最大，并且对称；\n",
    "\n",
    "2）一旦均值和标准差确定，正态分布曲线也就确定；\n",
    "\n",
    "3）当X的取值向横轴左右两个方向无限延伸时，曲线的两个尾端也无限渐近横轴，理论上永远不会与之相交；\n",
    "\n",
    "4）正态随机变量在特定区间上的取值概率由正态曲线下的面积给出，而且其曲线下的总面积等于1\n",
    "\n",
    "5）**均值可取实数轴上的任意数值，决定正态曲线的具体位置；标准差决定曲线的“陡峭”或“扁平”程度：标准差越大，正态曲线越扁平；标准差越小**，正态曲线越陡峭。这是因为，标准差越小，意味着大多数变量值离均数的距离越短，因此大多数值都紧密地聚集在均数周围，图形所能覆盖的变量值就少些（比如1±0.1涵盖[0.9，1.1]），于是都挤在一块，图形上呈现瘦高型。相反，标准差越大，数据跨度就比较大，分散程度大，所覆盖的变量值就越多（比如1±0.5涵盖[0.5，1.5]），图形呈现“矮胖型”。我们可以对照下图直观地看一下，图中黄色曲线为A，蓝色曲线为B，紫红色曲线为C。如图，我们可以看到均数的大小决定了曲线的位置，标准差的大小决定了曲线的胖瘦。A和B的均值一样，但标准差不同，所以形状不同，根据我们的描述，图形越瘦高，标准差越小，图形越扁平，标准差越大。确实如此，图中B的标准差是1/2，小于A的标准差1。\n",
    "<img src='https://cdn.jsdelivr.net/gh/caoliang12121/pic@master/uPic/HLWnhs.jpg' alt='HLWnhs'/>\n",
    "\n",
    "#### 举例：\n",
    "过去20天的通勤时间（单位：分钟）：26、33、65、28、34、55、25、44、50、36、26、37、43、62、35、38、45、32、28、34。现在我们想知道他上学花30~45分钟的概率。\n",
    "\n",
    "首先，我们将问题转化为数学表达式，要算他上学花30~45分钟的概率，就是求P（30 < X < 45）。之前我们一直强调，一个变量服从正态分布，就要立马考虑到它的均数和标准差是多少。这里我们简化一下用他过去20天的样本数据来代替。所以，我们首先计算这20天通勤时间的样本均数及标准差，分别为38.8（分钟）和11.4（分钟）。\n",
    "\n",
    "然后，我们进行标准化，这一步很重要，**也称z变换**。通过标准化，所有服从一般正态分布的随机变量都变成了服从均数为0，标准差为1的标准正态分布。对于服从标准正态分布的随机变量，专门用z表示。因此，求P（30 < X < 45），就转换成了求P（-0.77 < Z < 0.54），标准化的具体计算为：\n",
    "\n",
    "30 → （30-38.8）/ 11.4 = - 0.77(Z分数）\n",
    "\n",
    "45 → （45-38.8）/ 11.4 = 0.54(Z分数）\n",
    "\n",
    "X → Z\n",
    "\n",
    "P（30 ≤ X ≤ 45）= P(-0.77 ≤ Z ≤ 0.54)\n",
    "查Z值表：\n",
    "<img src='https://cdn.jsdelivr.net/gh/caoliang12121/pic@master/uPic/VQL9jz.png' alt='VQL9jz' width=\"50%\" height=\"50%\"/>\n",
    "<img src='https://cdn.jsdelivr.net/gh/caoliang12121/pic@master/uPic/wwHJ0m.png' alt='wwHJ0m' width=\"50%\" height=\"50%\"/>\n",
    "\n",
    "**P(-0.77)=0.2206,P(0.54)=0.7054**\n",
    "**P(-0.77 ≤ Z ≤ 0.54)=0.7054-0.2206=0.4848**\n",
    "\n",
    "### 三个百分数：68%，95%，99.7%\n",
    "\n",
    "熟悉了Z变换、查表求概率，我们来看看正态分布运用十分广泛的三个百分数：68%，95%，99.7%。先看标准正态分布，我们知道一个变量服从标准正态分布，它的均数是0，标准差是1，那除了这两个数字之外，我们还能获得更多的信息吗？可以，这三个百分数告诉了我们答案。看下面这3个图：\n",
    "<img src='https://cdn.jsdelivr.net/gh/caoliang12121/pic@master/uPic/vo8Hwi.jpg' alt='vo8Hwi' width=\"50%\" height=\"50%\"/>\n",
    "<img src='https://cdn.jsdelivr.net/gh/caoliang12121/pic@master/uPic/24XPRz.jpg' alt='24XPRz' width=\"50%\" height=\"50%\"/>\n",
    "<img src='https://cdn.jsdelivr.net/gh/caoliang12121/pic@master/uPic/g0zp6u.jpg' alt='g0zp6u' width=\"50%\" height=\"50%\"/>\n",
    "#### 举例：\n",
    "<img src='https://cdn.jsdelivr.net/gh/caoliang12121/pic@master/uPic/Ep0B8N.jpg' alt='Ep0B8N' width=\"50%\"/>\n",
    "某小学学生身高的平均值和标准差分别为1.4（米）和0.15（米），我们知道身高一般是服从正态分布的，由此我们可以知道这个学校有68%的学生的身高在1.25到1.55，这里的1.25和1.55就是1.4加减0.15得到的（均数加减一个标准差），有95%的学生身高在1.1到1.7之间（均数加减两个标准差），由此便极大地提升了我们对数据的掌握程度。讲完这些你会发现一种巧妙的求解均数和标准差的方法：如果我们知道了某个变量的95%区间的取值（关于均值对称），我们就可以算出对应的均数和标准差，进而几乎知道了一切。\n",
    "\n",
    "**那计算正态分布的某一个点的概率公式是：**\n",
    "$$p(X)=\\frac{1}{\\sigma \\sqrt{2\\pi}}e^{-\\frac{1}{2}(\\frac{x-\\mu}{\\sigma})^2}$$"
   ]
  },
  {
   "cell_type": "markdown",
   "metadata": {},
   "source": [
    "### 累计分布函数（CDF）\n",
    "CDF函数是关于x的函数，求的是在概率密度曲线下，$-\\infty ~x$的面积，或者说结果在$-\\infty ~x$的概率。\n",
    "$$CDF(x)=\\int_{-\\infty}^{x}p(x)\\mathrm{d}x$$"
   ]
  },
  {
   "cell_type": "markdown",
   "metadata": {},
   "source": [
    "### 大数定理\n",
    "大数定律其实就是证明了样本均值依概率收敛于总体期望。"
   ]
  },
  {
   "cell_type": "markdown",
   "metadata": {},
   "source": [
    "### 中心极限定理\n",
    "中心极限定理（CLT）指出，如果样本量足够大，则变量均值的采样分布将近似于正态分布，而与该变量在总体中的分布无关。"
   ]
  },
  {
   "cell_type": "markdown",
   "metadata": {},
   "source": [
    "#### 马尔科夫不等式。\n",
    "\n",
    "用简洁直白的语言描述他就是：对于一个非负的随机变量X，如果他的均值很小的话，那么这个随机变量取到一个大值的概率是非常小的。想想确实很直观，因为随机变量的分布大部分都集中在均值附近，越远离均值，概率就越小。\n",
    "\n",
    "#### 切比雪夫不等式。\n",
    "\n",
    "我们同样简单的描述一下这个不等式的内涵：\n",
    "\n",
    "如果一个随机变量的方差非常小的话，那么这个随机变量取到远离均值$\\mu$的概率也是非常小的，这个说实话也非常直观，同样有一个专门的不等式来描述他，叫切比雪夫不等式："
   ]
  },
  {
   "cell_type": "markdown",
   "metadata": {},
   "source": [
    "### 均值标准误差\n",
    "假设你有一个非常奇怪的分布$X$，你想估计它的均值。非常简单地，抽取一个大小为$N$的样本，记为$x_1,x_2,…,x_N$。这$N$个样本的均值就是其均值的一个估计，但是你不知道这个估计有多准确，因为估计的样本均值会和抽样有关。\n",
    "\n",
    "于是，我们分批次抽样，每批抽$N$个，都可以计算出一个样本均值$\\mu$，并且这些样本均值会形成一个正态分布，此正态分布的均值为$x_1,x_2,…,x_N$的均值。 每次抽样的样本均值都会偏离这个样本均值正态分布的均值（也就是分布$X$的均值），也就是说用某一个样本均值来估计总体均值是有误差的。 自然地，我们想估计这个误差有多大。刚好样本均值正态分布的标准差可以代表误差的范围。\n",
    "\n",
    "可以证明，样本均值正态分布的标准差$D_{\\bar{x}}=\\frac{\\sigma}{\\sqrt{N}}$，其中$\\sigma$原始分布$X$的标准差，$N$为每次抽样的样本大小。\n",
    "\n",
    "然而，$\\sigma$我们也是不知道的，只有用某一次抽样的样本标准差来代替了。于是就得到了均值标准误差$SEM_{\\bar{x}}=\\frac{s}{\\sqrt{N}}$。注意样本方差是$s^2=\\frac{\\sum{(x-\\bar{x})^2}}{N-1}$。\n",
    "\n",
    "所以，计算SEM很简单，做一次抽样，样本数量为$N$，计算此样本的均值和标准差，可以代表这个均值的估计准确程度的SEM就是样本标准差除以$\\sqrt{N}$。\n",
    "\n",
    "显然，如果本来原始分布的标准差很大，对其均值的估计就不那么准，但是可以提高样本数量来提高估计的精确度。\n",
    "\n"
   ]
  },
  {
   "cell_type": "markdown",
   "metadata": {},
   "source": [
    "### 几个概念：\n",
    "#### 1.总体方差：\n",
    "$$\\sigma^2=\\frac{\\sum_{i=1}^{n}(x_i-\\mu)^2}{n}=\\frac{\\sum_{i=1}^{n}x_i^2}{n}-\\frac{(\\sum_{i=1}^{n}\n",
    "x_i)^2}{n^2}$$\n",
    "\n",
    "   其中$\\mu$表示这个总体里面所有数据的平均值，即“总体均值（population mean）”。总体均值也叫数学期望，后者记作E(Y)。N表示总体里数据的个数。N可以为正无穷，表示这个总体是无穷的。但对于一个具体的样本，它的样本方差  该怎么算，取决于它的用途。因为总体方差在现实中很难获得，所以人们经常用样本方差来估计总体方差，比如在构建某些统计量的时候。这时候为了保证估计的无偏性。\n",
    "\n",
    "#### 2.样本方差\n",
    "$$S^2=\\frac{\\sum_{i=1}^{n}(x_i-\\vec{x})^2}{n-1}$$\n",
    "\n",
    "   n表示样本容量，也就是这个样本里数据的个数。注意分母并不是n而是n-1。但是如果仅仅希望用它来展示这个样本内数据的离散程度，那么样本方差在这里就没必要除以n-1了，除以n就好了。\n",
    "\n",
    "#### 3.总体标准差：\n",
    "\n",
    "   方差的算术平方根叫做“标准差（standard deviation）”，“deviation”有“偏离”的意思，指的是对平均值的偏离。当然，标准差同样分为“总体标准差（population standard deviation）”  和“样本标准差（sample standard deviation）”。\n",
    "\n",
    "#### 4.样本标准差：\n",
    "\n",
    "#### 5.样本均值：\n",
    "\n",
    "   其中$\\bar{Y}$表示这个样本里所有数据的平均值的集合，即“样本均值（sample mean）”。\n",
    "\n",
    "#### 6.抽样方差和标准误：\n",
    "\n",
    "   样本均值$\\bar{Y}$的总体方差称为“抽样方差”，$\\bar{Y}$的标准差称为标准误，记作SE($\\bar{Y}$)\n",
    "\n",
    "#### 7.抽样方差和总体方差的关系:\n",
    "$$\\sigma^2_{\\bar{Y}}=\\frac{\\sigma^2_Y}{n}$$\n",
    "\n",
    "#### 8.标准误和总体标准差的关系：\n",
    "$$SE(\\bar{Y})=\\frac{\\sigma_Y}{\\sqrt{n}}$$\n",
    "    总体标准差$\\sigma_Y$在现实中很难获得，于是我们会用样本标准差$s_Y$来替代上式中的$\\sigma_Y$，即：$$SE(\\bar{Y})=\\frac{s_Y}{\\sqrt{n}}$$\n",
    "\n",
    "<img src='https://cdn.jsdelivr.net/gh/caoliang12121/pic@master/uPic/HKGge0.png' alt='HKGge0'/>"
   ]
  },
  {
   "cell_type": "markdown",
   "metadata": {},
   "source": [
    "#### 例题：\n",
    "每个人平均外出需要喝水2L，标准差0.7L，50个人外出，准备110L的水，不够的概率是多少？\n",
    "\n",
    "解：\n",
    "(1)首先知道全样本的均值$\\mu=2,\\sigma=0.7$,抽样50个，根据中心极限定理，他们喝水的均值也是呈正态分布的，110L的水，平均每个人2.2L的水。所以就是求出$\\mu_n>2.2$的概率。\n",
    "\n",
    "(2)样本均值正态分布的标准差$D_{\\bar{x}}=\\frac{\\sigma}{\\sqrt{N}}$，其中$\\sigma$原始分布$X$的标准差，$N$为每次抽样的样本大小。所以抽样的标准差就是$\\sigma_n=0.7/\\sqrt{50}$\n",
    "\n",
    "(3)那么就求出样本均值与总体均值之间有多少个标准差即Z值：$(2.2-2)/0.099$\n",
    "\n",
    "(4)最后查Z值表得到0.9783，应为1-0.9873=0.0217"
   ]
  },
  {
   "cell_type": "markdown",
   "metadata": {},
   "source": [
    "#### 例题2:\n",
    "从20W个苹果中取36个作为样本，样本重量均值在112g，标准差40g，请问这20W个苹果中重量处于100～124g的概率是多少？\n",
    "\n",
    "解：\n",
    "\n",
    "(1)首先我们要找出抽样标准差，根据上述第七条，$SE(\\bar{Y})=\\frac{40}{\\sqrt{36}}=6.67$  \n",
    "(2)计算Z值，(124-112)/6.67=1.8  \n",
    "(3)查Z值表，得0.9641  \n",
    "(4)(0.9641-0.5)*2=0.9282  "
   ]
  },
  {
   "cell_type": "markdown",
   "metadata": {},
   "source": [
    "### 伯努利分布的方差和均值\n",
    "\n",
    "均值：$\\mu=p$  \n",
    "方差：$\\sigma^2=p(1-p)$"
   ]
  },
  {
   "cell_type": "markdown",
   "metadata": {},
   "source": [
    "### 置信区间\n",
    "从6250名老师中抽取250名询问，是否需要配备计算机，142名回答yes，108名回答no。  \n",
    "（1）计算在99%置信水平下认为需要配备计算机置信区间范围。  \n",
    "（2）保持99%的置信水平的前提下，如何缩小置信区间。\n",
    "\n",
    "解1：  \n",
    " (1)计算样本均值（期望）：$\\frac{142*1+108*0}{250}=0.568$，这也代表这抽样均值。 \n",
    "    样本方差：0.25，样本标准差：0.5  \n",
    " (2)计算抽样标准差，$\\sigma_{\\bar{x}}=\\frac{0.5}{\\sqrt{250}}=0.031$  \n",
    " (3)查Z表，得到99%的置信水平对应的z值是2.58。  \n",
    " (4)2.58*0.031=0.08,所以99%置信水平下的置信区间是0.488～0.648  \n",
    " \n",
    "解2:  \n",
    "抽取更大的样本，这样在计算抽样标准差时会更加小。也会缩小置信区间"
   ]
  },
  {
   "cell_type": "markdown",
   "metadata": {},
   "source": [
    "### 假设检验和P值\n",
    "假设检验：\n",
    "\n",
    "步骤：  \n",
    "1.陈述假设，确定$\\alpha$的水平，建立零假设，和备择假设。零假设即变化过程对样本无影响。反之，备择假设是有影响。  \n",
    "2.确定在$\\alpha$水平下的临界区域位置。  \n",
    "3.计算z分数\n",
    "4.比较z分数与临界位置，如果z分数在临界区域内，说明零假设极不可能发生，那么选择备择假设。\n",
    "<img src='https://cdn.jsdelivr.net/gh/caoliang12121/pic@master/uPic/kmUzLq.jpg' alt='kmUzLq'/>\n",
    "\n",
    "例题：\n",
    "\n",
    "老鼠的平均反应时间时1.2s，100个注射了药的老鼠平均反应时间是1.05秒，标准差是0.5s，$\\alpha=0.05$请问药有效嘛？  \n",
    "解：  \n",
    "（1）设定两个假设：$H_0：药无效，所以\\mu=1.2s，H_1:药有效，所以\\mu \\neq 1.2s$  \n",
    "（2）假定$H_0$成立，则样本的均值也应该还是1.2s。  \n",
    "（3）抽样分布标准差（标准误）：$\\frac{0.5}{\\sqrt{100}}=0.05$  \n",
    "（4）计算Z值。即样本均值$\\bar{x}$=1.05s与总体均值$\\mu$=1.2s的z值：$\\frac{1.2-1.05}{0.05}=3$  \n",
    "**这里写下我的理解：**  \n",
    "我们知道3个标准差内的面积是99.7%。也是说在三个标准差以外的范围的是0.3%，但现在均值是1.05也是说在正态分布下，有50%的是小于1.05的，也就是有100个里有50个是在0.3%的概率下出现的。所以这是很小很小很小概率。那么就是$H_0$不成立，反过来$H_1$成立。  \n",
    "\n",
    "得到零假设甚至更极端情况出现的概率是0.3%，记作P值。"
   ]
  },
  {
   "cell_type": "markdown",
   "metadata": {},
   "source": [
    "### 第一类误差\n",
    "学术定义：当拒绝零假设，但是是在正确的情况下。即抽取的样本本身即偏离总样本较远，导致研究误以为变换过程有效。因此显著水品$\\alpha$定义了第一类误差发生的概率和风险，因为小概率事件也可能发生。\n",
    "\n",
    "### 第二类误差：\n",
    "学术定义：是指研究者没有拒绝一个错误的零假设，即处理确实产生了影响，但是在数据中没有体现出来，不能分不到拒绝域上。"
   ]
  },
  {
   "cell_type": "markdown",
   "metadata": {},
   "source": []
  },
  {
   "cell_type": "markdown",
   "metadata": {},
   "source": []
  },
  {
   "cell_type": "markdown",
   "metadata": {},
   "source": [
    "### T分布\n",
    "对前述案例，抽样数都在30个以上，当抽样数少于30时，就不太适用正态分布了。就可以使用适合小样本的分布：T分布。\n",
    "\n",
    "<img src='https://cdn.jsdelivr.net/gh/caoliang12121/pic@master/uPic/gZ6tVQ.jpg' alt='gZ6tVQ' width=\"50%\"/>  \n",
    "前述计算均与正态分布和中心极限定理类似，在查t表时，需注意：\n",
    "\n",
    "自由度(df)=抽样数(n)-1，分为单侧和双侧\n"
   ]
  },
  {
   "cell_type": "markdown",
   "metadata": {},
   "source": [
    "### t检验\n",
    "对于小样本数据(n<30)，总体方差无法得到的时候,使用t检验。具体步骤类似于正态分布的假设检验，不同的是在查表时需要注意**自由度**=n-1\n",
    "\n",
    "步骤：  \n",
    "\n",
    "1.陈述假设，确定$\\alpha$的水平，建立零假设，和备择假设。零假设即变化过程对样本无影响。反之，备择假设是有影响。  \n",
    "2.确定df(自由度)在$\\alpha$水平下的临界区域位置。\n",
    "3.计算z分数\n",
    "4.比较z分数与临界位置，如果z分数在临界区域内，说明零假设极不可能发生，那么选择备择假设。\n",
    "\n",
    "例题：  \n",
    "想要评估一款感冒药对反应时间的效应，总体数据的$\\mu=200$，取n=4个样本，吃药后测试反应时间，获得$\\mu_\\bar{x}=215,SS(误差平方和)=300$在0.05的显著水平下，这种感冒药是否有影响反应时间？\n",
    "1.陈述假设，2.确定临界区域，3.计算t分数，4.做出结论\n",
    "\n",
    "解：  \n",
    "1.$H_0:药无效，即\\mu=200，H_1:药有效，即\\mu \\neq200$\n",
    "\n",
    "2.df=4-1=3，$\\alpha=0.05$,双尾检验，得到$\\pm3.182$\n",
    "\n",
    "3.$\\sigma^2=300/(4-1)=100,SE(x)=\\sqrt{300/(4-1)/4}=5,t=\\frac{215-200}{5}=3$\n",
    "\n",
    "4.-3.182<3<3.182,不在拒绝域内，所以选择零假设。\n"
   ]
  },
  {
   "attachments": {},
   "cell_type": "markdown",
   "metadata": {},
   "source": [
    "### 均值之差的置信区间与假设\n",
    "两组各100人，一组采用低脂节食，一组非低脂节食。4个月之后，低脂节食组平均减重9.31kg，标准差4.67，另一组平均减重7.4kg，标准差4.04。  \n",
    "1.求减肥效果之差的95%置信区间。  \n",
    "2.在显著水平0.05的情况下，低脂减肥有效嘛？\n",
    "\n",
    "解1：  \n",
    "0.首先，把两组数据的差值看成新的正态分布数据，那么新的数据均值是$\\mu_{1-2},方差是\\sigma^2_{1-2}$\n",
    "\n",
    "2.在95%置信区间下，两侧拒绝域范围各为2.5%，带到概率密度函数图里，得到$P(z<z_a)$=2.5%,那么可以得到的z的概率是97.5%，查询Z表得到z=1.96  \n",
    "\n",
    "3.现在$\\mu_1-\\mu_2=9.31-7.4=1.91$。\n",
    "\n",
    "4.在$H_0$成立的情况下，那么其95%的置信水品下，计算出来的z分数应该<1.96，也就是说新数据的均值应该在$\\pm 1.96(\\sigma_1-\\sigma_2)$  \n",
    "\n",
    "5.若零假设成立，$\\sigma^2_{1-2}=\\sigma^2_1+\\sigma^2_2$，则$1.96(\\sigma_1-\\sigma_2)=1.96(\\sqrt{\\sigma^2_1+\\sigma^2_2})=1.96(\\sqrt{4.67^2/100 + 7.4^2/100})=1.96*0.617=1.21$ \n",
    "\n",
    "6.所以减肥效果之差的95%置信区间是$1.91\\pm1.21$\n",
    "\n",
    "<img src='https://cdn.jsdelivr.net/gh/caoliang12121/pic@master/uPic/iuVvF5.png' alt='iuVvF5' width=\"50%\"/>\n",
    "解2:  \n",
    "1.零假设：假设无效则$H_0:\\mu_1-\\mu_2=0$,备择假设：有效则$H_0:\\mu_1-\\mu_2>0$  \n",
    "\n",
    "2.根据显著水平0.05，得到可获得的概率面积是95%，查Z表得到1.65，也就是说是在1.65个标准差。\n",
    "\n",
    "3.所以极限值的范围是1.65*0.617=1.02。\n",
    "\n",
    "4.1.91>1.02所以，零假设不成立，选择备择假设，低脂减肥有效。"
   ]
  },
  {
   "cell_type": "markdown",
   "metadata": {},
   "source": []
  },
  {
   "cell_type": "markdown",
   "metadata": {},
   "source": []
  },
  {
   "cell_type": "markdown",
   "metadata": {},
   "source": []
  },
  {
   "cell_type": "markdown",
   "metadata": {},
   "source": []
  },
  {
   "cell_type": "markdown",
   "metadata": {},
   "source": []
  },
  {
   "cell_type": "markdown",
   "metadata": {},
   "source": []
  },
  {
   "cell_type": "markdown",
   "metadata": {},
   "source": []
  },
  {
   "cell_type": "markdown",
   "metadata": {},
   "source": []
  },
  {
   "cell_type": "markdown",
   "metadata": {},
   "source": []
  },
  {
   "cell_type": "markdown",
   "metadata": {},
   "source": []
  },
  {
   "cell_type": "markdown",
   "metadata": {},
   "source": []
  },
  {
   "cell_type": "markdown",
   "metadata": {},
   "source": []
  },
  {
   "cell_type": "markdown",
   "metadata": {},
   "source": []
  },
  {
   "cell_type": "markdown",
   "metadata": {},
   "source": []
  },
  {
   "cell_type": "markdown",
   "metadata": {},
   "source": []
  },
  {
   "cell_type": "markdown",
   "metadata": {},
   "source": []
  },
  {
   "cell_type": "markdown",
   "metadata": {},
   "source": []
  },
  {
   "cell_type": "markdown",
   "metadata": {},
   "source": []
  },
  {
   "cell_type": "markdown",
   "metadata": {},
   "source": []
  },
  {
   "cell_type": "markdown",
   "metadata": {},
   "source": []
  },
  {
   "cell_type": "code",
   "execution_count": 14,
   "metadata": {},
   "outputs": [
    {
     "data": {
      "image/png": "[encoded data removed]",
      "text/plain": [
       "<Figure size 432x288 with 1 Axes>"
      ]
     },
     "metadata": {},
     "output_type": "display_data"
    }
   ],
   "source": [
    "import numpy as np\n",
    "from scipy.stats import binom\n",
    "import matplotlib.pyplot as plt\n",
    "import seaborn\n",
    "seaborn.set()\n",
    "\n",
    "n = 10\n",
    "p = 0.4\n",
    "sample_size = 15000\n",
    "expected_value = n*p\n",
    "N_samples = range(1, sample_size, 10)\n",
    "\n",
    "for k in range(3):\n",
    "    binom_rv = binom(n=n, p=p)\n",
    "    X = binom_rv.rvs(size=sample_size)\n",
    "    sample_average = [X[:i].mean() for i in N_samples]\n",
    "    plt.plot(N_samples, sample_average,\n",
    "             label='average of sample {}'.format(k))\n",
    "\n",
    "plt.plot(N_samples, expected_value * np.ones_like(sample_average),\n",
    "         ls='--', label='true expected value:np={}'.format(n*p), c='k')\n",
    "plt.legend()\n",
    "plt.show()\n"
   ]
  },
  {
   "cell_type": "code",
   "execution_count": 9,
   "metadata": {},
   "outputs": [],
   "source": [
    "%matplotlib inline"
   ]
  },
  {
   "cell_type": "code",
   "execution_count": 11,
   "metadata": {},
   "outputs": [],
   "source": [
    "plt.show()"
   ]
  },
  {
   "cell_type": "code",
   "execution_count": null,
   "metadata": {},
   "outputs": [],
   "source": []
  }
 ],
 "metadata": {
  "kernelspec": {
   "display_name": "Python 3",
   "language": "python",
   "name": "python3"
  },
  "language_info": {
   "codemirror_mode": {
    "name": "ipython",
    "version": 3
   },
   "file_extension": ".py",
   "mimetype": "text/x-python",
   "name": "python",
   "nbconvert_exporter": "python",
   "pygments_lexer": "ipython3",
   "version": "3.7.4"
  }
 },
 "nbformat": 4,
 "nbformat_minor": 5
}
