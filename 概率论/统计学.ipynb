{
 "cells": [
  {
   "cell_type": "markdown",
   "id": "conventional-prefix",
   "metadata": {},
   "source": [
    "### 样本和总体\n",
    "100个人里抽10个人，100就是总体，10就是样本\n",
    "#### 总体均值\n",
    "$$\\mu=\\sum_{i=1}^{N}x_i=\\frac{x_1+x_2+\\cdots +x_N}{N}$$\n",
    "#### 样本均值\n",
    "$$\\vec{x}=\\sum_{i=1}^{n}x_i=\\frac{x_1+x_2+\\cdots +x_n}{n}$$\n",
    "#### 总体方差\n",
    "$$\\sigma^2=\\frac{\\sum_{i=1}^{n}(x_i-\\mu)^2}{n}=\\frac{\\sum_{i=1}^{n}x_i^2}{n}-\\frac{(\\sum_{i=1}^{n}x_i)^2}{n^2}$$\n",
    "#### 样本方差\n",
    "$$S^2=\\frac{\\sum_{i=1}^{n}(x_i-\\vec{x})^2}{n-1}$$\n",
    "#### 总体标准差\n",
    "$$\\sigma=\\sqrt{\\sigma^2}$$\n",
    "#### 样本标准差\n",
    "$$S=\\sqrt{S^2}$$"
   ]
  },
  {
   "cell_type": "markdown",
   "id": "sixth-flash",
   "metadata": {},
   "source": [
    "\n"
   ]
  },
  {
   "cell_type": "markdown",
   "id": "subject-carnival",
   "metadata": {},
   "source": []
  },
  {
   "cell_type": "markdown",
   "id": "atlantic-people",
   "metadata": {},
   "source": []
  },
  {
   "cell_type": "markdown",
   "id": "going-traveler",
   "metadata": {},
   "source": []
  },
  {
   "cell_type": "markdown",
   "id": "proof-finish",
   "metadata": {},
   "source": []
  },
  {
   "cell_type": "markdown",
   "id": "sealed-certificate",
   "metadata": {},
   "source": []
  },
  {
   "cell_type": "markdown",
   "id": "geological-electronics",
   "metadata": {},
   "source": []
  },
  {
   "cell_type": "markdown",
   "id": "distinct-print",
   "metadata": {},
   "source": []
  },
  {
   "cell_type": "markdown",
   "id": "thick-spanish",
   "metadata": {},
   "source": []
  },
  {
   "cell_type": "markdown",
   "id": "dying-benefit",
   "metadata": {},
   "source": []
  },
  {
   "cell_type": "markdown",
   "id": "accepted-punishment",
   "metadata": {},
   "source": []
  },
  {
   "cell_type": "markdown",
   "id": "brown-administration",
   "metadata": {},
   "source": []
  },
  {
   "cell_type": "markdown",
   "id": "sustainable-burst",
   "metadata": {},
   "source": []
  },
  {
   "cell_type": "markdown",
   "id": "promotional-seller",
   "metadata": {},
   "source": []
  },
  {
   "cell_type": "markdown",
   "id": "attached-perfume",
   "metadata": {},
   "source": []
  }
 ],
 "metadata": {
  "kernelspec": {
   "display_name": "Python 3",
   "language": "python",
   "name": "python3"
  },
  "language_info": {
   "codemirror_mode": {
    "name": "ipython",
    "version": 3
   },
   "file_extension": ".py",
   "mimetype": "text/x-python",
   "name": "python",
   "nbconvert_exporter": "python",
   "pygments_lexer": "ipython3",
   "version": "3.6.2"
  }
 },
 "nbformat": 4,
 "nbformat_minor": 5
}
