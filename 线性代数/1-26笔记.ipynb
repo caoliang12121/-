{
 "cells": [
  {
   "cell_type": "code",
   "execution_count": 20,
   "metadata": {},
   "outputs": [
    {
     "data": {
      "text/plain": [
       "matrix([[ 3, -1],\n",
       "        [ 1,  0]])"
      ]
     },
     "execution_count": 20,
     "metadata": {},
     "output_type": "execute_result"
    }
   ],
   "source": [
    "import numpy as np\n",
    "import matplotlib.pyplot as plt\n",
    "import handcalcs.render\n",
    "import seaborn as sns\n",
    "\n",
    "%matplotlib inline\n",
    "\n",
    "A=np.mat([[3,-1],\n",
    "            [1,0]])\n",
    "A"
   ]
  },
  {
   "cell_type": "code",
   "execution_count": 21,
   "metadata": {},
   "outputs": [
    {
     "data": {
      "text/plain": [
       "matrix([[-7,  2],\n",
       "        [ 3,  5]])"
      ]
     },
     "execution_count": 21,
     "metadata": {},
     "output_type": "execute_result"
    }
   ],
   "source": [
    "B=np.mat([[-7,2],\n",
    "            [3,5]])\n",
    "B"
   ]
  },
  {
   "cell_type": "markdown",
   "metadata": {},
   "source": [
    "# 矩阵的加和减"
   ]
  },
  {
   "cell_type": "code",
   "execution_count": 22,
   "metadata": {
    "scrolled": true
   },
   "outputs": [
    {
     "data": {
      "text/plain": [
       "matrix([[-4,  1],\n",
       "        [ 4,  5]])"
      ]
     },
     "execution_count": 22,
     "metadata": {},
     "output_type": "execute_result"
    }
   ],
   "source": [
    "A+B"
   ]
  },
  {
   "cell_type": "code",
   "execution_count": 23,
   "metadata": {},
   "outputs": [
    {
     "data": {
      "text/plain": [
       "array([[-4,  1],\n",
       "       [ 4,  5]])"
      ]
     },
     "execution_count": 23,
     "metadata": {},
     "output_type": "execute_result"
    }
   ],
   "source": [
    "np.mat([[3+-7,-1+2],\n",
    "          [1+3,0+5]])"
   ]
  },
  {
   "cell_type": "code",
   "execution_count": 24,
   "metadata": {},
   "outputs": [
    {
     "data": {
      "text/plain": [
       "matrix([[10, -3],\n",
       "        [-2, -5]])"
      ]
     },
     "execution_count": 24,
     "metadata": {},
     "output_type": "execute_result"
    }
   ],
   "source": [
    "A-B"
   ]
  },
  {
   "cell_type": "markdown",
   "metadata": {},
   "source": [
    "# 矩阵的乘和除"
   ]
  },
  {
   "cell_type": "code",
   "execution_count": 32,
   "metadata": {
    "collapsed": true
   },
   "outputs": [],
   "source": [
    "A=np.mat([[2,-3],\n",
    "           [7,5]])\n",
    "B=np.mat([[10,-8],\n",
    "           [12,-2]])"
   ]
  },
  {
   "cell_type": "code",
   "execution_count": 33,
   "metadata": {},
   "outputs": [
    {
     "data": {
      "text/plain": [
       "matrix([[-16, -10],\n",
       "        [130, -66]])"
      ]
     },
     "execution_count": 33,
     "metadata": {},
     "output_type": "execute_result"
    }
   ],
   "source": [
    "# A*B\n",
    "np.matrix([\n",
    "    [2*10+-3*12,2*-8+-3*-2],\n",
    "    [7*10+5*12,7*-8+5*-2]])"
   ]
  },
  {
   "cell_type": "code",
   "execution_count": 34,
   "metadata": {},
   "outputs": [
    {
     "data": {
      "text/plain": [
       "matrix([[-16, -10],\n",
       "        [130, -66]])"
      ]
     },
     "execution_count": 34,
     "metadata": {},
     "output_type": "execute_result"
    }
   ],
   "source": [
    "A*B"
   ]
  },
  {
   "cell_type": "code",
   "execution_count": 35,
   "metadata": {},
   "outputs": [
    {
     "data": {
      "text/plain": [
       "matrix([[-36, -70],\n",
       "        [ 10, -46]])"
      ]
     },
     "execution_count": 35,
     "metadata": {},
     "output_type": "execute_result"
    }
   ],
   "source": [
    "# B*A\n",
    "np.mat([[10*2+-8*7,10*-3+-8*5],\n",
    "          [12*2+-2*7,12*-3+-2*5]])"
   ]
  },
  {
   "cell_type": "code",
   "execution_count": 36,
   "metadata": {},
   "outputs": [
    {
     "data": {
      "text/plain": [
       "matrix([[-36, -70],\n",
       "        [ 10, -46]])"
      ]
     },
     "execution_count": 36,
     "metadata": {},
     "output_type": "execute_result"
    }
   ],
   "source": [
    "B*A"
   ]
  },
  {
   "cell_type": "code",
   "execution_count": 40,
   "metadata": {
    "collapsed": true
   },
   "outputs": [],
   "source": [
    "A=np.mat('3 1 2;-2 0 5')\n",
    "B=np.mat('-1 3;0 5;2 5')"
   ]
  },
  {
   "cell_type": "code",
   "execution_count": 44,
   "metadata": {},
   "outputs": [
    {
     "data": {
      "text/plain": [
       "matrix([[ 3,  1,  2],\n",
       "        [-2,  0,  5]])"
      ]
     },
     "execution_count": 44,
     "metadata": {},
     "output_type": "execute_result"
    }
   ],
   "source": [
    "A"
   ]
  },
  {
   "cell_type": "code",
   "execution_count": 45,
   "metadata": {},
   "outputs": [
    {
     "data": {
      "text/plain": [
       "matrix([[-1,  3],\n",
       "        [ 0,  5],\n",
       "        [ 2,  5]])"
      ]
     },
     "execution_count": 45,
     "metadata": {},
     "output_type": "execute_result"
    }
   ],
   "source": [
    "B"
   ]
  },
  {
   "cell_type": "code",
   "execution_count": 48,
   "metadata": {},
   "outputs": [
    {
     "data": {
      "text/plain": [
       "matrix([[ 1, 24],\n",
       "        [12, 19]])"
      ]
     },
     "execution_count": 48,
     "metadata": {},
     "output_type": "execute_result"
    }
   ],
   "source": [
    "# A*B\n",
    "np.mat([[3*-1+1*0+2*2,3*3+1*5+2*5],\n",
    "[-2*-1+0*0+5*2,-2*3+0*5+5*5]])"
   ]
  },
  {
   "cell_type": "code",
   "execution_count": 49,
   "metadata": {},
   "outputs": [
    {
     "data": {
      "text/plain": [
       "matrix([[ 1, 24],\n",
       "        [12, 19]])"
      ]
     },
     "execution_count": 49,
     "metadata": {},
     "output_type": "execute_result"
    }
   ],
   "source": [
    "A*B"
   ]
  },
  {
   "cell_type": "code",
   "execution_count": 51,
   "metadata": {},
   "outputs": [
    {
     "data": {
      "text/plain": [
       "matrix([[ -9,  -1,  13],\n",
       "        [-10,   0,  25],\n",
       "        [ -4,   2,  29]])"
      ]
     },
     "execution_count": 51,
     "metadata": {},
     "output_type": "execute_result"
    }
   ],
   "source": [
    "# B*A\n",
    "np.mat([[-1*3+3*-2,-1*1+3*0,-1*2+3*5],\n",
    "[0*3+5*-2,0*1+5*0,0*2+5*5],\n",
    "[2*3+5*-2,2*1+5*0,2*2+5*5]])"
   ]
  },
  {
   "cell_type": "code",
   "execution_count": 52,
   "metadata": {},
   "outputs": [
    {
     "data": {
      "text/plain": [
       "matrix([[ -9,  -1,  13],\n",
       "        [-10,   0,  25],\n",
       "        [ -4,   2,  29]])"
      ]
     },
     "execution_count": 52,
     "metadata": {},
     "output_type": "execute_result"
    }
   ],
   "source": [
    "B*A"
   ]
  },
  {
   "cell_type": "markdown",
   "metadata": {},
   "source": [
    "# 矩阵的逆"
   ]
  },
  {
   "cell_type": "code",
   "execution_count": 55,
   "metadata": {
    "collapsed": true
   },
   "outputs": [],
   "source": [
    "A=np.mat([['a','b'],\n",
    "         ['c','d']])"
   ]
  },
  {
   "cell_type": "code",
   "execution_count": 56,
   "metadata": {},
   "outputs": [
    {
     "data": {
      "text/plain": [
       "matrix([['a', 'b'],\n",
       "        ['c', 'd']], dtype='<U1')"
      ]
     },
     "execution_count": 56,
     "metadata": {},
     "output_type": "execute_result"
    }
   ],
   "source": [
    "A"
   ]
  },
  {
   "cell_type": "markdown",
   "metadata": {},
   "source": [
    "## A的逆矩阵计算："
   ]
  },
  {
   "cell_type": "markdown",
   "metadata": {},
   "source": [
    "$$A^{-1}=\\frac{1}{ad-bc}\\begin{bmatrix}d,-b\\\\-c,a\\\\\\end{bmatrix}$$"
   ]
  },
  {
   "cell_type": "markdown",
   "metadata": {},
   "source": [
    "# A的行列式：\n",
    "$$|A|=ad-bc$$"
   ]
  },
  {
   "cell_type": "code",
   "execution_count": 62,
   "metadata": {},
   "outputs": [
    {
     "data": {
      "text/plain": [
       "matrix([[ 3, -4],\n",
       "        [ 2, -5]])"
      ]
     },
     "execution_count": 62,
     "metadata": {},
     "output_type": "execute_result"
    }
   ],
   "source": [
    "B=np.mat([[3,-4],[2,-5]])\n",
    "B"
   ]
  },
  {
   "cell_type": "code",
   "execution_count": 67,
   "metadata": {},
   "outputs": [
    {
     "data": {
      "text/plain": [
       "matrix([[ 0.71428571, -0.57142857],\n",
       "        [ 0.28571429, -0.42857143]])"
      ]
     },
     "execution_count": 67,
     "metadata": {},
     "output_type": "execute_result"
    }
   ],
   "source": [
    "BB=(1/((3*-5)-(2*-4)))*np.mat([[-5,4],[-2,3]])\n",
    "BB"
   ]
  },
  {
   "cell_type": "code",
   "execution_count": 65,
   "metadata": {},
   "outputs": [
    {
     "data": {
      "text/plain": [
       "matrix([[1.00000000e+00, 2.22044605e-16],\n",
       "        [0.00000000e+00, 1.00000000e+00]])"
      ]
     },
     "execution_count": 65,
     "metadata": {},
     "output_type": "execute_result"
    }
   ],
   "source": [
    "BB*B"
   ]
  },
  {
   "cell_type": "code",
   "execution_count": 66,
   "metadata": {},
   "outputs": [
    {
     "data": {
      "text/plain": [
       "matrix([[ 0.71428571, -0.57142857],\n",
       "        [ 0.28571429, -0.42857143]])"
      ]
     },
     "execution_count": 66,
     "metadata": {},
     "output_type": "execute_result"
    }
   ],
   "source": [
    "np.linalg.inv(B)"
   ]
  },
  {
   "cell_type": "markdown",
   "metadata": {},
   "source": [
    "# 高斯消去法"
   ]
  },
  {
   "cell_type": "markdown",
   "metadata": {},
   "source": [
    "原始矩阵\n",
    "$$\\begin{bmatrix}1,0,1\\\\0,2,1\\\\1,1,1\\\\\\end{bmatrix}$$"
   ]
  },
  {
   "cell_type": "markdown",
   "metadata": {},
   "source": [
    "画出单位矩阵：\n",
    "$$\\begin{bmatrix}1,0,1\\\\0,2,1\\\\1,1,1\\\\\\end{bmatrix}|\\begin{bmatrix}1,0,0\\\\0,1,0\\\\0,0,1\\\\\\end{bmatrix}$$"
   ]
  },
  {
   "cell_type": "markdown",
   "metadata": {},
   "source": [
    "对同行进行加减，或者替换、交换、以及两行之间相加减得到的结果替换某一行。"
   ]
  },
  {
   "cell_type": "markdown",
   "metadata": {},
   "source": [
    "1.第三行减去第一行：\n",
    "$$\\begin{bmatrix}1,0,1\\\\0,2,1\\\\0,1,0\\\\\\end{bmatrix}|\\begin{bmatrix}1,0,0\\\\0,1,0\\\\-1,0,1\\\\\\end{bmatrix}$$"
   ]
  },
  {
   "cell_type": "markdown",
   "metadata": {},
   "source": [
    "2.第三行和第二行交换位置\n",
    "$$\\begin{bmatrix}1,0,1\\\\0,1,0\\\\0,2,1\\\\\\end{bmatrix}|\\begin{bmatrix}1,0,0\\\\-1,0,1\\\\0,1,0\\\\\\end{bmatrix}$$"
   ]
  },
  {
   "cell_type": "markdown",
   "metadata": {},
   "source": [
    "3.第三行减去第二行得到的结果替换第三行：\n",
    "$$\\begin{bmatrix}1,0,1\\\\0,1,0\\\\0,0,1\\\\\\end{bmatrix}|\\begin{bmatrix}1,0,0\\\\-1,0,1\\\\2,1,-2\\\\\\end{bmatrix}$$"
   ]
  },
  {
   "cell_type": "markdown",
   "metadata": {},
   "source": [
    "4.第一行减去第三行得到的结果替换第一行：\n",
    "$$\\begin{bmatrix}1,0,0\\\\0,1,0\\\\0,0,1\\\\\\end{bmatrix}|\\begin{bmatrix}-1,-1,2\\\\-1,0,1\\\\2,1,-2\\\\\\end{bmatrix}$$"
   ]
  },
  {
   "cell_type": "markdown",
   "metadata": {},
   "source": [
    "### 最终得到的右边的矩阵即为原始矩阵的逆"
   ]
  },
  {
   "cell_type": "markdown",
   "metadata": {},
   "source": [
    " "
   ]
  },
  {
   "cell_type": "markdown",
   "metadata": {},
   "source": [
    "## 矩阵法求解方程组"
   ]
  },
  {
   "cell_type": "markdown",
   "metadata": {},
   "source": [
    "$$3x+2y=7$$\n",
    "$$-6x+6y=6$$"
   ]
  },
  {
   "cell_type": "markdown",
   "metadata": {},
   "source": [
    "转换成矩阵就是：\n",
    "$$\\underbrace{\\begin{bmatrix}3,2\\\\-6,6\\\\\\end{bmatrix}}_{A}\\underbrace{\\begin{bmatrix}x\\\\y\\\\\\end{bmatrix}}_{B}=\\underbrace{\\begin{bmatrix}7\\\\6\\\\\\end{bmatrix}}_{C}$$"
   ]
  },
  {
   "cell_type": "markdown",
   "metadata": {},
   "source": [
    "两边同时乘以矩阵A的逆：\n",
    "$$A^{-1}AB=A^{-1}C$$\n",
    "$$\\Downarrow$$\n",
    "$$IB=A^{-1}C$$\n",
    "$$\\Downarrow$$\n",
    "$$B=A^{-1}C$$"
   ]
  },
  {
   "cell_type": "code",
   "execution_count": 69,
   "metadata": {
    "collapsed": true
   },
   "outputs": [],
   "source": [
    "B=np.linalg.inv(np.mat([[3,2],[-6,6]]))*np.mat(\"7;6\")"
   ]
  },
  {
   "cell_type": "code",
   "execution_count": 70,
   "metadata": {},
   "outputs": [
    {
     "data": {
      "text/plain": [
       "matrix([[1.],\n",
       "        [2.]])"
      ]
     },
     "execution_count": 70,
     "metadata": {},
     "output_type": "execute_result"
    }
   ],
   "source": [
    "B"
   ]
  },
  {
   "cell_type": "markdown",
   "metadata": {},
   "source": [
    "## 奇异矩阵"
   ]
  },
  {
   "cell_type": "markdown",
   "metadata": {},
   "source": [
    "首先，如果一个矩阵A存在另外一个矩阵B使得：\n",
    "$$AB=BA=I$$\n",
    "那么矩阵A是可逆的，称为非奇异矩阵。\n",
    "\n",
    "那么找不到上述的矩阵B，则A称为奇异矩阵。也就是A不可逆"
   ]
  },
  {
   "cell_type": "markdown",
   "metadata": {},
   "source": [
    "依据上述求逆方法，当矩阵A的项列式：\n",
    "$$|A|=ad-bc=0$$\n",
    "则矩阵A不可逆"
   ]
  },
  {
   "cell_type": "markdown",
   "metadata": {},
   "source": [
    "# 三元线性方程"
   ]
  },
  {
   "cell_type": "markdown",
   "metadata": {},
   "source": [
    "求解方法，初中数学即可。"
   ]
  },
  {
   "cell_type": "markdown",
   "metadata": {},
   "source": [
    "## 向量"
   ]
  },
  {
   "attachments": {},
   "cell_type": "markdown",
   "metadata": {},
   "source": [
    "<img src='https://cdn.jsdelivr.net/gh/caoliang12121/pic@master/uPic/vqRAf2.jpg' alt='vqRAf2'/>"
   ]
  },
  {
   "cell_type": "markdown",
   "metadata": {},
   "source": [
    "所有可以表示为\n",
    "给定向量线性组合的向量集合被称为\n",
    "### 给定向量张成的空间。\n",
    "对于大部分的二维向量，它们张成的空间是所有二维向量的集合，当它们 \n",
    "### 共线时，张成的空间就是终点落在一条直线上的向量的集合。\n",
    "那么怎么判断向量之间是否具有线性相关呢？"
   ]
  },
  {
   "cell_type": "markdown",
   "metadata": {},
   "source": [
    "假设有向量：\n",
    "$$A=\\begin{bmatrix}2\\\\1\\\\\\end{bmatrix},B=\\begin{bmatrix}4\\\\2\\\\\\end{bmatrix}$$\n",
    "\n",
    "$$\\Downarrow$$\n",
    "$$B=2*A$$"
   ]
  },
  {
   "cell_type": "code",
   "execution_count": 54,
   "metadata": {},
   "outputs": [
    {
     "data": {
      "text/plain": [
       "<matplotlib.lines.Line2D at 0x7ff0abc52080>"
      ]
     },
     "execution_count": 54,
     "metadata": {},
     "output_type": "execute_result"
    },
    {
     "data": {
      "image/png": "[encoded data removed]",
      "text/plain": [
       "<matplotlib.figure.Figure at 0x7ff0ab1e0d68>"
      ]
     },
     "metadata": {},
     "output_type": "display_data"
    }
   ],
   "source": [
    "fig,ax = plt.subplots(figsize=(5, 5))\n",
    "\n",
    "ax.arrow(0,0,4,2,fc='r',\n",
    "             ec='r',\n",
    "         length_includes_head=True, # 增加的长度包含箭头部分\n",
    "              head_width=0.2,\n",
    "              head_length=0.1,)\n",
    "ax.arrow(0,0,2,1,fc='b',\n",
    "             ec='b',\n",
    "         length_includes_head=True, # 增加的长度包含箭头部分\n",
    "              head_width=0.2,\n",
    "              head_length=0.1,)\n",
    "ax.set_xlim(0, 5)\n",
    "ax.set_ylim(0, 5)\n",
    "ax.axhline(y=1,ls=\":\",c=\"r\")\n",
    "ax.axvline(x=2,ls=\":\",c=\"r\")\n",
    "ax.axhline(y=2,ls=\":\",c=\"r\")\n",
    "ax.axvline(x=4,ls=\":\",c=\"r\")"
   ]
  },
  {
   "cell_type": "markdown",
   "metadata": {},
   "source": [
    "由上图也可以发现，两个向量存在与一条直线上，所以他们两个组成的张量空间只能表示一条直线，无法表示为一个空间。"
   ]
  },
  {
   "cell_type": "markdown",
   "metadata": {},
   "source": [
    "## 向量线性相关定义\n",
    "\n",
    "$$现有向量集合：\\{v_1,v_2,v_3....v_n\\}，若存在常数集合c_i=\\{c_1,c_2...c_n\\}，并且\\{c_1,c_2...c_n\\}不同时为0时，使得：\\\\c_1*v_1+c_2*v_2+...c_n*v_n=0$$\n",
    "\n",
    "$$则表示向量线性相关，反之只有当c_i同时为0时，才能使等式成立，则表示线性无关$$\n"
   ]
  },
  {
   "cell_type": "markdown",
   "metadata": {},
   "source": [
    "### 例子：\n",
    "$$设：S=\\left\\lbrace\\begin{bmatrix}1\\\\-1\\\\2\\\\\\end{bmatrix}\\begin{bmatrix}2\\\\1\\\\3\\\\\\end{bmatrix}\\begin{bmatrix}-1\\\\0\\\\2\\\\\\end{bmatrix}\\right\\rbrace$$\n",
    "\n",
    "$$是否有c_1*\\begin{bmatrix}1\\\\-1\\\\2\\\\\\end{bmatrix}+c_2*\\begin{bmatrix}2\\\\1\\\\3\\\\\\end{bmatrix}+c_3*\\begin{bmatrix}-1\\\\0\\\\2\\\\\\end{bmatrix}=\\begin{bmatrix}0\\\\0\\\\0\\\\\\end{bmatrix}$$"
   ]
  },
  {
   "cell_type": "markdown",
   "metadata": {},
   "source": [
    "解三元一次方程得到：$$c_1=c_2=c_3=0$$\n",
    "所以向量集合S为线性无关"
   ]
  },
  {
   "cell_type": "markdown",
   "metadata": {},
   "source": [
    "## 线性子空间（迷糊）"
   ]
  },
  {
   "cell_type": "markdown",
   "metadata": {},
   "source": [
    "学术定义：\n",
    "$$1.设W是线性空间V的非空子集，则W是V的子空间的充要条件是：（1）若\\alpha,\\beta \\in W，则\\alpha+\\beta\\in W；（2）若\\alpha\\in W,K\\in R，则K\\alpha\\in W。$$"
   ]
  },
  {
   "attachments": {},
   "cell_type": "markdown",
   "metadata": {},
   "source": [
    "我觉得一个很好的解释,来源知乎：[破魔之箭](https://www.zhihu.com/question/48849797/answer/115314179)\n",
    "\n",
    "1.子空间之所以这样定义，其实和定义线性空间的思维模式是一样的，对于一个空间，我们希望空间内的元素经过线性组合之后仍然在该空间内**（封闭性）**，那么这样的空间就是一个线性（子）空间。如何能够实现线性组合仍在空间内呢？那么只要元素满足两条性质，就是你列的那两条。一个简单的推理：\n",
    "\n",
    " （1）假设$x_1$,$x_2$都在空间内，那么$K_1x_1$由性质2就知道也在空间内，相应的$K_2x_2$也在空间内，再有性质1就知道$K_1x_1+K_2x_2$在空间内，这样就证明了线性组合仍在空间内，而证明的基石就是列出的那两条性质。\n",
    " \n",
    "  (2)体现出“子”的性质，其实就在于封闭性，这就是“子”的性质，那么你肯定会问这与原空间的定义有什么区别，其实没啥区别，原空间也是原空间的一个子空间，只不过这个子空间是最大的子空间，而最小的子空间是0空间，在这之间有一系列子空间，如直线，平面等等，唯一一点就是这些子空间的标志性特征在于它们都是封闭的线性空间，而类似两条直线或者两个平面构成的元素集就不可以称为一个子空间，其实稍微说得深一些，任何有限个子空间的并集都不可能构成原空间，这是外话。在学习线性代数的过程中，一定要牢牢把握线性组合这一概念，这是核心概念，也是标志着线性空间的核心性质。\n",
    "  \n",
    "2.子空间有很多的应用，但我觉得最广泛的应用还是来自于奇异值分解(SVD)，初学线性代数可能不会接触到这一方法，但是我可以直观地和你说明什么是奇异值分解以及其与子空间的关系。假如我们在三维空间内有一些离散分布的数据点，但是这些数据点近似分布在一个二维子平面内，可能有一些偏差，那么奇异值分解所做的就是寻找这个最佳的二维子平面，从而拟合三维空间的数据点分布，这种用子空间去拟合数据的方式实际上就是一般说的线性拟合方法，这里就涉及到了子空间，下面的图直观感受一下svd。\n",
    "<img src='https://cdn.jsdelivr.net/gh/caoliang12121/pic@master/uPic/j9TUOz.jpg' alt='j9TUOz'/>"
   ]
  },
  {
   "cell_type": "markdown",
   "metadata": {},
   "source": [
    "## 子空间的基"
   ]
  },
  {
   "cell_type": "markdown",
   "metadata": {},
   "source": [
    "### 线性空间中基的概念很重要,比如一个子空间中的任意一个向量都可用一组基唯一的表示.有些问题可以通过寻找一组合适的基而大大化简；\n",
    "\n",
    "空间的基\n",
    "直接给出定义：\n",
    "\n",
    "### 如果线性空间X中的有限个向量张成X并且本身线性无关,则称他们为X的一组基(basis).\n",
    "\n",
    "下边对基的定义和性质做一些说明:\n",
    "\n",
    "假设：由有限个向量x1,...,xn张成线性空间X有基.\n",
    "\n",
    "证明：假设x1,...,xn线性相关。则存在一个xi可以表示成其他向量的线性组合.把这个向量从向量组中剔除.则剩余的向量仍然可以张成线性空间X\n",
    "\n",
    "重复这一步骤直到剩下的向量线性无关.显然他们仍然可以张成线性空间X. 所以他们是线性空间X的一组基"
   ]
  },
  {
   "cell_type": "markdown",
   "metadata": {},
   "source": [
    "## 向量的点积与长度"
   ]
  },
  {
   "cell_type": "markdown",
   "metadata": {},
   "source": [
    "点积：\n",
    "$$\\begin{bmatrix}a_1\\\\a_2\\\\...\\\\a_n\\end{bmatrix}\\ \\cdot \\  \\begin{bmatrix}b_1\\\\b_2\\\\...\\\\b_n\\end{bmatrix}=a_1*b_1+...+a_n*b_n$$\n",
    "长度：\n",
    "$$ 向量 V=\\begin{bmatrix}a_1\\\\a_2\\\\...\\\\a_n\\end{bmatrix}$$，长度计算公式：\n",
    "$$\\|V\\|=\\sqrt{a_1^2+...+a_n^2}$$\n",
    "$$\\Downarrow$$\n",
    "$$\\|V\\|^2=V\\cdot V$$\n",
    "同时:\n",
    "$${V\\cdot W}=W\\cdot V\\\\\n",
    "(v+W)\\cdot X=V\\cdot X+W\\cdot X\\\\\n",
    "(c*V)\\cdot W=c*(V \\cdot W)$$"
   ]
  },
  {
   "cell_type": "markdown",
   "metadata": {},
   "source": [
    "## 柯西不等式"
   ]
  },
  {
   "cell_type": "markdown",
   "metadata": {},
   "source": [
    "$$|\\overrightarrow{x}\\cdot \\overrightarrow{y}|\\le \\|\\overrightarrow{x}\\|* \\|\\overrightarrow{y}\\|$$"
   ]
  },
  {
   "cell_type": "markdown",
   "metadata": {},
   "source": [
    "证明：x,y均为非0向量，假设有函数p(t)表示某个向量的长度\n",
    "$$p(t)=\\|ty-x\\|^2$$\n",
    "有上面定义可知，向量长度>=0,所以：\n",
    "$$p(t)=(ty-x)\\cdot (ty-x)\\ge0$$\n",
    "$$\\Downarrow$$\n",
    "$$p(t)=t^2y\\cdot y-2t(x\\cdot y)+x\\cdot x\\ge0$$\n",
    "简化：\n",
    "$$p(t)=t^2a-2bt+c\\ge0$$\n",
    "根据抛物线方程，a>0,则开口向上，则函数在b/2a时取值最小，所以令：t=b/2a\n",
    "$$p(\\frac{b}{2a})=c-\\frac{b^2}{4a}\\ge0$$\n",
    "$$\\Downarrow$$\n",
    "$$4ac\\ge b^2$$\n",
    "$$\\Downarrow$$\n",
    "$$x^2y^2\\ge (x\\cdot y)^2$$ \n",
    "$$\\Downarrow$$\n",
    "$$xy\\ge x\\cdot y$$\n",
    "所以当x=c*y时，其中c为常数，则：\n",
    "$$xy=x\\cdot y$$"
   ]
  },
  {
   "cell_type": "markdown",
   "metadata": {},
   "source": [
    "## 三角不等式\n",
    "$$ \\|\\overrightarrow{x}+\\overrightarrow{y}\\|\\le \\|\\overrightarrow{x}\\|+\\|\\overrightarrow{y}\\|$$\n",
    "同上，当x=c*y且c>0时，上式相等"
   ]
  },
  {
   "attachments": {},
   "cell_type": "markdown",
   "metadata": {},
   "source": [
    "##  向量的夹角\n",
    "<img src='https://cdn.jsdelivr.net/gh/caoliang12121/pic@master/uPic/dVk9SL.jpg' alt='dVk9SL'/>\n",
    "$$cos(\\theta)=\\frac{\\overrightarrow{a}\\cdot \\overrightarrow{b}}{\\|\\overrightarrow{a}\\|\\|\\overrightarrow{b}\\|}$$\n",
    "当a和b垂直的时候，则可以得到：\n",
    "$$\\overrightarrow{a}\\cdot \\overrightarrow{b}=0$$\n",
    "则称a与b是正交"
   ]
  },
  {
   "cell_type": "markdown",
   "metadata": {},
   "source": [
    "## R3中的法向量与定义的平面"
   ]
  },
  {
   "cell_type": "markdown",
   "metadata": {},
   "source": [
    "法向量是空间解析几何的一个概念，垂直于平面的直线所表示的向量为该平面的法向量。由于空间内有无数个直线垂直于已知平面，因此一个平面都存在无数个法向量（包括两个单位法向量）。\n",
    "两个由0点出发的向量形成的平面，想象成三角形的一个边，那么法向量则垂直与这条边，同时由向量的减法可知：\n",
    "$$\\overrightarrow{c}=\\overrightarrow{a}-\\overrightarrow{b}$$\n",
    "所以，法向量N垂直与c，则：\n",
    "$$\\overrightarrow{c}\\cdot \\overrightarrow{N}=0$$\n",
    "则平面的方程就可以计算出，设：\n",
    "$$A=\\begin{bmatrix}1\\\\2\\\\3\\\\\\end{bmatrix},B=\\begin{bmatrix}x\\\\y\\\\z\\\\\\end{bmatrix},N=\\begin{bmatrix}1\\\\3\\\\-2\\\\\\end{bmatrix}$$\n",
    "则：\n",
    "$$(A-B)\\cdot N=0$$"
   ]
  },
  {
   "cell_type": "markdown",
   "metadata": {
    "collapsed": true
   },
   "source": [
    "## 外积\n",
    "在R3中向量A，B的外积\n",
    "$$AxB=C\\\\\n",
    "得到的C向量与A和B正交$$"
   ]
  },
  {
   "cell_type": "markdown",
   "metadata": {},
   "source": [
    "在前面介绍了：\n",
    "a与b的点积\n",
    "$$a\\cdot b=\\|a\\|\\|b\\|cos(\\theta)$$\n",
    "那么在R3中a与b的外积：\n",
    "$$a*b=\\|a\\|\\|b\\|sin(\\theta)$$"
   ]
  }
 ],
 "metadata": {
  "kernelspec": {
   "display_name": "Python 3",
   "language": "python",
   "name": "python3"
  },
  "language_info": {
   "codemirror_mode": {
    "name": "ipython",
    "version": 3
   },
   "file_extension": ".py",
   "mimetype": "text/x-python",
   "name": "python",
   "nbconvert_exporter": "python",
   "pygments_lexer": "ipython3",
   "version": "3.6.2"
  }
 },
 "nbformat": 4,
 "nbformat_minor": 2
}
