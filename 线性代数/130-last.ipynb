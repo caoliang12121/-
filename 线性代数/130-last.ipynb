{
 "cells": [
  {
   "cell_type": "markdown",
   "id": "grave-daniel",
   "metadata": {},
   "source": [
    "## 施密特过程"
   ]
  },
  {
   "cell_type": "markdown",
   "id": "injured-finder",
   "metadata": {},
   "source": [
    "在一个平面，或者三维空间中，任意一点都可以被坐标系表示出来。而我们更喜欢的是单位直角坐标系，因为在一个单位直角坐标系中，任意一个向量的坐标分量，通过简单的投影就可以搞定。施密特过程就是将任意坐标系变成直角坐标系的过程\n",
    "<img src='https://cdn.jsdelivr.net/gh/caoliang12121/pic@master/uPic/uk3ycK.png' alt='uk3ycK' width=\"30%\"/>\n",
    "\n",
    "$\\begin{Bmatrix}\n",
    " v_1& v_2 & \\cdots & v_k\n",
    "\\end{Bmatrix}$是V的一组基。\n",
    "\n",
    "$V_1=span(\\vec{v_1}),\\vec{v_1}$的标准基$\\vec{u_1}=\\frac{\\vec{v_1}}{\\|\\vec{v_1}\\|}$\n",
    "\n",
    "$V_2=span(\\vec{v_1},\\vec{v_2})=span(\\vec{u_1},\\vec{v_2})，并且\\vec{v_1},\\vec{v_2}是线性无关的，所以\\vec{v_2}可以用c\\vec{u_1}+d\\vec{v_1^\\perp}来表示，c\\vec{u_1}其实就是前面所说的\\vec{v_2}在\\vec{v_1}上的投影Proj_{v_1}^{v_2}。$\n",
    "\n",
    "$在已知\\vec{v_1}的标准基\\vec{u_1}时，Proj_{v_1}^{v_2}=(\\vec{v_2}\\cdot \\vec{u_1})\\vec{u_1}$\n",
    "\n",
    "$那么令\\vec{y_2}=\\vec{v_2}-(\\vec{v_2}\\cdot \\vec{u_1})\\vec{u_1},\\vec{v_2}的标准基\\vec{u_2}=\\frac{\\vec{y_2}}{\\|\\vec{y_2}\\|}$\n",
    "\n",
    "$所以最后形成的张成空间可以表示成两个标准正交向量形成的空间span(\\vec{u_1},\\vec{u_2})$\n",
    "\n",
    "$当扩展至三维后Proj_{v_2}^{v_3}=(\\vec{v_3}\\cdot \\vec{u_1})\\vec{u_1}+(\\vec{v_3}\\cdot \\vec{u_2})\\vec{u_2}=\\vec{y_3},然后再标准化\\vec{u_3}=\\frac{\\vec{y_3}}{\\|\\vec{y_3}\\|}，形成span(\\vec{u_1},\\vec{u_2},\\vec{u_3})的张成空间。$\n",
    "依次扩展至N维。"
   ]
  },
  {
   "cell_type": "markdown",
   "id": "amazing-enough",
   "metadata": {},
   "source": [
    "<iframe height=300 width=300 frameborder=0 allowfullscreen src=\"https://cdn.jsdelivr.net/gh/caoliang12121/pic@master/uPic/eOwKeR.mp4\">\n",
    "来源见水印"
   ]
  },
  {
   "cell_type": "markdown",
   "id": "willing-marijuana",
   "metadata": {},
   "source": [
    "## 特征向量、特征值、特征空间"
   ]
  },
  {
   "cell_type": "markdown",
   "id": "subject-conclusion",
   "metadata": {},
   "source": [
    "假设有一个转换使得：$T(\\vec{x})=\\lambda \\vec{x}，那么  \\lambda \\in R 被称为特征值，\\vec{x}被称为特征向量$，在前面我们直到转换是一种线性变换，$T(\\vec{x})=A\\vec{x}$。\n",
    "\n",
    "$$T(\\vec{x})=\\lambda \\vec{x}=A\\vec{x}，A是一个变换矩阵，\\lambda 是一个常数，\\vec{x}是非0向量$$\n",
    "\n",
    "$$\\lambda \\vec{x}-A\\vec{x}=\\vec{0} \\rightarrow (\\lambda-A)\\vec{x}=\\vec{0}$$\n",
    "\n",
    "$A是一个矩阵，\\lambda 是一个常数,所以将\\lambda 乘以A的单位矩阵I_n,得到(\\lambda I_n-A)\\vec{x}=\\vec{0}，\\vec{x}是非0向量所以\\lambda I_n-A=\\vec{0},最终得到\\lambda I_n-A的行列式为0，即：$\n",
    "\n",
    "$$det(\\lambda I_n-A)=0$$\n",
    "\n",
    "再根据$\\lambda \\vec{x}=A\\vec{x}$即可求出特征向量\n",
    "\n",
    "$\\lambda I_n-A所形成的空间被称为特征空间E_{\\lambda}=N(\\lambda I_n-A)，对于不同的\\lambda 有对应的不同的特征空间,$"
   ]
  },
  {
   "cell_type": "markdown",
   "id": "scenic-gross",
   "metadata": {},
   "source": [
    "## 向量的三重积展开"
   ]
  },
  {
   "cell_type": "markdown",
   "id": "acceptable-ballet",
   "metadata": {},
   "source": [
    "$$\\vec{a}\\times (\\vec{b}\\times\\vec{c})=\\vec{b}(\\vec{a}\\cdot \\vec{c})-\\vec{c}(\\vec{a}\\cdot \\vec{b}$$"
   ]
  },
  {
   "cell_type": "markdown",
   "id": "dimensional-israel",
   "metadata": {},
   "source": [
    "## 点到平面的距离"
   ]
  },
  {
   "cell_type": "markdown",
   "id": "inclusive-signature",
   "metadata": {},
   "source": [
    "$$d=\\frac{Ax_0+By_0+Cz_0-D}{\\sqrt{A^2+B^2+c^2}}$$\n",
    "已知平面方程为Ax+By+Cz=D和点坐标$P(x_0,y_0,z_0)$,则点到平面的距离可以通过上式算出。\n",
    "\n",
    "顺带一句，点到直线的距离为：\n",
    "$$d=\\frac{Ax_0+By_0+C}{\\sqrt{A^2+B^2}}$$"
   ]
  },
  {
   "cell_type": "markdown",
   "id": "difficult-compact",
   "metadata": {},
   "source": []
  },
  {
   "cell_type": "markdown",
   "id": "behind-corruption",
   "metadata": {},
   "source": []
  },
  {
   "cell_type": "markdown",
   "id": "above-dutch",
   "metadata": {},
   "source": []
  },
  {
   "cell_type": "markdown",
   "id": "metallic-uruguay",
   "metadata": {},
   "source": []
  }
 ],
 "metadata": {
  "kernelspec": {
   "display_name": "Python 3",
   "language": "python",
   "name": "python3"
  },
  "language_info": {
   "codemirror_mode": {
    "name": "ipython",
    "version": 3
   },
   "file_extension": ".py",
   "mimetype": "text/x-python",
   "name": "python",
   "nbconvert_exporter": "python",
   "pygments_lexer": "ipython3",
   "version": "3.6.2"
  }
 },
 "nbformat": 4,
 "nbformat_minor": 5
}
