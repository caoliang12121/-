{
 "cells": [
  {
   "cell_type": "code",
   "execution_count": 1,
   "id": "gentle-minimum",
   "metadata": {
    "collapsed": true
   },
   "outputs": [],
   "source": [
    "import pandas as pd\n",
    "import numpy as np\n",
    "import matplotlib.pyplot as plt\n",
    "%matplotlib inline"
   ]
  },
  {
   "cell_type": "code",
   "execution_count": null,
   "id": "unavailable-underground",
   "metadata": {
    "collapsed": true
   },
   "outputs": [],
   "source": []
  },
  {
   "cell_type": "markdown",
   "id": "professional-machine",
   "metadata": {},
   "source": [
    "## 矩阵的转置"
   ]
  },
  {
   "cell_type": "code",
   "execution_count": 6,
   "id": "loose-twins",
   "metadata": {
    "collapsed": true
   },
   "outputs": [],
   "source": [
    "a=np.mat([[1,2],[4,3]])"
   ]
  },
  {
   "cell_type": "code",
   "execution_count": 12,
   "id": "scientific-contributor",
   "metadata": {},
   "outputs": [
    {
     "name": "stdout",
     "output_type": "stream",
     "text": [
      "[[1 2]\n",
      " [4 3]]\n",
      "-----\n",
      "[[1 4]\n",
      " [2 3]]\n"
     ]
    }
   ],
   "source": [
    "print(a)\n",
    "print('-----')\n",
    "print(a.T)"
   ]
  },
  {
   "cell_type": "code",
   "execution_count": 13,
   "id": "victorian-intro",
   "metadata": {
    "collapsed": true
   },
   "outputs": [],
   "source": [
    "a=np.mat([[1,2,3,4],[4,3,3,7]])"
   ]
  },
  {
   "cell_type": "code",
   "execution_count": 14,
   "id": "artificial-server",
   "metadata": {},
   "outputs": [
    {
     "name": "stdout",
     "output_type": "stream",
     "text": [
      "[[1 2 3 4]\n",
      " [4 3 3 7]]\n",
      "-----\n",
      "[[1 4]\n",
      " [2 3]\n",
      " [3 3]\n",
      " [4 7]]\n"
     ]
    }
   ],
   "source": [
    "print(a)\n",
    "print('-----')\n",
    "print(a.T)"
   ]
  },
  {
   "cell_type": "markdown",
   "id": "mobile-engine",
   "metadata": {},
   "source": [
    "### 矩阵转置之后的行列式\n",
    "设矩阵$A_{n*m}$的矩阵，那么$A^T$就是$A_{m*n}$，同时$det(A)=det(A^T)$"
   ]
  },
  {
   "cell_type": "markdown",
   "id": "romantic-reservoir",
   "metadata": {},
   "source": [
    "### 矩阵乘积的转置\n",
    "矩阵$A*B=B^T*A^T$，$(AB)^T=B^T*A^T$，\n",
    "### 转置矩阵的加法和求逆\n",
    "$$(A+B)^T=A^T+B^T,(A^T)^{-1}=(A^{-1})^T$$"
   ]
  },
  {
   "cell_type": "markdown",
   "id": "worthy-facility",
   "metadata": {},
   "source": [
    "### 向量的转置\n",
    "$$\\vec{v}\\cdot \\vec{w}=(\\vec{v})^{T}\\cdot \\vec{w}$$\n",
    "$$(A\\vec{x})\\cdot \\vec{y}=\\vec{x}\\cdot(A^T\\vec{y})$$"
   ]
  },
  {
   "cell_type": "markdown",
   "id": "laughing-bracket",
   "metadata": {},
   "source": [
    "## 四个基本子空间汇总"
   ]
  },
  {
   "cell_type": "markdown",
   "id": "convertible-cosmetic",
   "metadata": {},
   "source": [
    "\n",
    "对于一个$m*n$的矩阵A，其有四个基本空间：\n",
    "* 列空间$C(A)$：\n",
    "\n",
    "    定义：列空间是矩阵A的列向量线性组合构成的空间，对于矩阵A涞水，每个列向量有m个分量，即列空间是属于$R^m$的子空间\n",
    "    \n",
    "    基：矩阵A化简到最简矩阵时有主元r，则秩也为r，主元列就是列向量的一组基。\n",
    "   \n",
    "    维数：列空间的空间维数为r\n",
    "    \n",
    "   \n",
    "* 零空间$N(A)$:\n",
    "    \n",
    "    定义：即$Ax=0$的解构成的空间，Ax在本质上属于线性组合，A一共有n个列向量，所以零空间是$R^n$的子空间\n",
    "    \n",
    "    基：A的秩(主元数)为r，则自由列为n-r列，就构成了零空间的n-r个基向量\n",
    "    \n",
    "    维数：n-r\n",
    "    \n",
    "    \n",
    "* 行空间$C(A^T)$\n",
    "\n",
    "    定义：行空间是矩阵A的行向量线性组合构成的空间，也可以理解为A转置的列空间，即$C(A^T)$。对于$m*n$的矩阵A来说，每个行向量有n个分量，即行空间属于$R^n$的子空间。\n",
    "\n",
    "    基：A的行空间可以看成是$A^T$的列空间，也可以就是化简到最简矩阵的时候主元列就是行空间的基。\n",
    "\n",
    "    维数：行空间的维数也是秩r\n",
    "\n",
    "\n",
    "* 左零空间$N(A^T)$:\n",
    "\n",
    "    设$A=\\begin{bmatrix}2&-1&-3\\\\-4&2&6\\\\\\end{bmatrix}$，转换为行最简阶梯矩阵得到 $\\begin{bmatrix}1&-1/2&-3/2\\\\0&0&0\\\\\\end{bmatrix}$，可以看到只有第一列是主元，也就是主向量$C(A)=span(\\begin{bmatrix}2\\\\-4\\\\\\end{bmatrix})$\n",
    "\n",
    "    只有一列主元，也表示$Rank(A)=1$。矩阵的秩、列空间的基向量数、独立向量数、主元数，这些都是一个意思。\n",
    "\n",
    "    A的零空间：\n",
    "    $$\\begin{bmatrix}2&-1&-3\\\\-4&2&6\\\\\\end{bmatrix}\\begin{bmatrix}x_1\\\\x_2\\\\x_3\\\\\\end{bmatrix}=\\begin{bmatrix}0\\\\0\\\\0\\\\\\end{bmatrix}$$\n",
    "    $$\\Downarrow$$\n",
    "    $$x_1=\\frac{x_2}{2}+\\frac{3x_3}{2}$$\n",
    "    $$\\Downarrow$$\n",
    "    $$\\begin{bmatrix}x_1\\\\x_2\\\\x_3\\\\\\end{bmatrix}=\\begin{bmatrix}\\frac{1}{2}\\\\1\\\\0\\\\\\end{bmatrix}*x_2+\\begin{bmatrix}\\frac{3}{2}\\\\0\\\\1\\\\\\end{bmatrix}*x_2$$\n",
    "    $$\\Downarrow$$\n",
    "    $$N(A)=span\\left(\\begin{bmatrix}\\frac{1}{2}\\\\1\\\\0\\\\\\end{bmatrix},\\begin{bmatrix}\\frac{3}{2}\\\\0\\\\1\\\\\\end{bmatrix}\\right)$$\n",
    "\n",
    "    上面求解的零空间求的是$Ax=\\vec{0}$的解，那么转置之后的A呢也就是$A^Tx=\\vec{0}$的解。上述同样的操作过后得到：\n",
    "    $$\\begin{bmatrix}1&-2\\\\0&0\\\\0&0\\\\\\end{bmatrix}\\begin{bmatrix}x_1\\\\x_2\\\\\\end{bmatrix}=\\vec{0}$$\n",
    "    $$\\Downarrow$$\n",
    "    $$\\begin{bmatrix}x_1\\\\x_2\\\\\\end{bmatrix}=\\begin{bmatrix}2\\\\1\\\\\\end{bmatrix}x_2$$\n",
    "    所以：\n",
    "    $$N(A^T)=span(\\begin{bmatrix}2\\\\1\\\\\\end{bmatrix})$$\n",
    "\n",
    "    现在我们把两边同时转置：\n",
    "    $$(A^Tx)^T=\\vec{0} \\Rightarrow x^T(A^T)^T=x^TA=\\vec{0}$$\n",
    "    可以看到对比之前$Ax=\\vec{0}$，现在变换成了$x^TA=\\vec{0}$，由于$x^T$在A的左边，所以也叫做A的**左零空间**。"
   ]
  },
  {
   "cell_type": "markdown",
   "id": "normal-capitol",
   "metadata": {},
   "source": [
    "![四个子空间关系](https://cdn.jsdelivr.net/gh/caoliang12121/pic@master/uPic/l28p9z.jpg)"
   ]
  },
  {
   "cell_type": "markdown",
   "id": "artificial-bloom",
   "metadata": {},
   "source": [
    "## 正交以及正交补\n",
    "![gaCv7X](https://cdn.jsdelivr.net/gh/caoliang12121/pic@master/uPic/gaCv7X.png)\n",
    "![m7S39l](https://cdn.jsdelivr.net/gh/caoliang12121/pic@master/uPic/m7S39l.jpg)\n",
    "\n",
    "\n",
    "$V是A_{n\\times k}的子空间，那么dim(C(A))+dim(N(A^T))=n$"
   ]
  },
  {
   "cell_type": "markdown",
   "id": "backed-supplement",
   "metadata": {},
   "source": [
    "### **$R^n$中的任何向量可以用零空间N(A)中的向量与行空间$C(A^T)$中的向量的和$**"
   ]
  },
  {
   "cell_type": "markdown",
   "id": "postal-gambling",
   "metadata": {},
   "source": [
    "## Ax=b的行空间中的解"
   ]
  },
  {
   "cell_type": "markdown",
   "id": "short-collection",
   "metadata": {},
   "source": [
    "$A_{m\\times n}=\\begin{bmatrix}a_1&a_2&a_3\\dots a_n\\\\\\end{bmatrix}，\\vec{b}\\in C(A)$\n",
    "<img src='https://cdn.jsdelivr.net/gh/caoliang12121/pic@master/uPic/s8OeWM.jpg' alt='s8OeWM'/ width='50%'>\n",
    "根据上面的定义，可知将$\\vec{x}$拆解成$\\vec{x}=\\vec{r}+\\vec{n}$,得到$A(\\vec{r}+\\vec{n})=\\vec{b}$，由于$\\vec{n}$是零向量里的，所以$A\\vec{n}=0$，也就是$A\\vec{r}=\\vec{b}$,$\\vec{r}$也就是行向量里的子空间。\n",
    "\n",
    "结论：假设有一个向量$\\vec{b}\\in C(A)$，那么Ax=b的最小解是A的行空间中的唯一元素 $\\vec{r}|r\\in C(A^T)$"
   ]
  },
  {
   "cell_type": "markdown",
   "id": "worse-project",
   "metadata": {},
   "source": [
    "举例：$$A=\\begin{bmatrix}\n",
    " 3& -2&\\\\\n",
    " 6& -4& \n",
    "\\end{bmatrix},\n",
    "\\vec{b}=\n",
    "\\begin{bmatrix}\n",
    "9\\\\ \n",
    "18\n",
    "\\end{bmatrix}$$"
   ]
  },
  {
   "cell_type": "markdown",
   "id": "forbidden-premiere",
   "metadata": {},
   "source": [
    "首先求零空间N(A)=N(rref(A))\n",
    "$$\\begin{bmatrix}\n",
    " 3& -2\\\\\n",
    " 0& 0\n",
    "\\end{bmatrix}\n",
    "\\begin{bmatrix}\n",
    "x_1\\\\ \n",
    "x_2\n",
    "\\end{bmatrix}=\\begin{bmatrix}0\\\\0\\end{bmatrix}$$\n",
    "$$\\Downarrow$$\n",
    "$$N(A)=\\begin{bmatrix}2\\\\3\\end{bmatrix}$$\n",
    "\n",
    "求Ax=b的解，先建立增广矩阵\n",
    "$$\\left[\\begin{array}{cc|c}\n",
    " 3& -2&9\\\\\n",
    " 0& 0& 18\n",
    "\\end{array}\\right] \\Rightarrow \\begin{bmatrix}\n",
    " 3& -2\\\\\n",
    " 0& 0\n",
    "\\end{bmatrix}\n",
    "\\begin{bmatrix}\n",
    "x_1\\\\ \n",
    "x_2\n",
    "\\end{bmatrix}=\\begin{bmatrix}3\\\\0\\end{bmatrix}$$\n",
    "$$\\Downarrow$$\n",
    "所以Ax=b的解集就是\n",
    "$$\\begin{bmatrix}\n",
    "3\\\\ \n",
    "0\n",
    "\\end{bmatrix}+c\\begin{bmatrix}\n",
    "2\\\\ \n",
    "3\n",
    "\\end{bmatrix}\\mid c\\in R^n$$\n",
    "\n",
    "行空间：\n",
    "$$C(A^T)=span\\left(\\begin{bmatrix}\n",
    "3\\\\ \n",
    "-2\n",
    "\\end{bmatrix},\\begin{bmatrix}\n",
    "6\\\\ \n",
    "-4\n",
    "\\end{bmatrix}\\right)$$\n",
    "可以看到第二列是第一列的倍数，所以舍去。得到\n",
    "$$span\\left(\\begin{bmatrix}\n",
    "3\\\\ \n",
    "-2\n",
    "\\end{bmatrix}\\right)形成的张成空间就是行空间$$\n",
    "上述三个张成空间形成的图：\n",
    "<img src='https://cdn.jsdelivr.net/gh/caoliang12121/pic@master/uPic/0j2Kgc.jpg' alt='0j2Kgc'/>\n",
    "那么上面说的Ax=b的在行空间中的最小解就是行空间与解集的交点。"
   ]
  },
  {
   "cell_type": "markdown",
   "id": "olympic-circular",
   "metadata": {},
   "source": [
    "## 投影\n",
    "<img src='https://cdn.jsdelivr.net/gh/caoliang12121/pic@master/uPic/g8m6IG.png' alt='g8m6IG' width=\"50%\"/>"
   ]
  },
  {
   "cell_type": "markdown",
   "id": "involved-jordan",
   "metadata": {},
   "source": [
    "由上图可以看出向量$\\vec{x}$在平面L上投影$\\vec{v}$与L的正交$\\vec{w}=\\vec{x}-\\vec{v}$构成一个直角三角形，所以$\\vec{x}-\\vec{w}$得到$Proj_L^x$。$\\vec{w}$也可以看作是$\\vec{x}$在平面L的正交补$L^{\\perp}$上的投影，即$Proj_{L^{\\perp}}^x$"
   ]
  },
  {
   "cell_type": "markdown",
   "id": "aware-moldova",
   "metadata": {},
   "source": [
    "##  子空间上的投影的求解\n",
    "$$Proj_L^v=A(A^TA)^{-1}A^T\\vec{x}$$\n",
    "**投影是子空间中距离原向量最近的向量。**"
   ]
  },
  {
   "cell_type": "markdown",
   "id": "wanted-entity",
   "metadata": {},
   "source": []
  },
  {
   "cell_type": "markdown",
   "id": "textile-search",
   "metadata": {
    "collapsed": true
   },
   "source": [
    "## 最小二乘逼近"
   ]
  },
  {
   "cell_type": "markdown",
   "id": "healthy-tiger",
   "metadata": {},
   "source": [
    "当$Ax=\\vec{b}$有解的时候，我们可以说$\\vec{b}$在A的列空间上，但是当$Ax=\\vec{b}$无解的时候，如下图所示：\n",
    "<img src='https://cdn.jsdelivr.net/gh/caoliang12121/pic@master/uPic/CAWnS1.png' alt='CAWnS1' width=\"50%\"/>\n",
    "\n",
    "在上一节中我们直到，投影是空间中举例原向量最近的向量，那么$Ax=\\vec{b}$无解的时候，我们求$Ax=\\vec{b}$的最近解，就是*最小二乘解*。\n",
    "设我们最小二乘解是$x^{'}$:\n",
    "$$Ax^{'}=Proj_{C(A)}^b$$ $$\\Downarrow$$ $$Ax^{'}-\\vec{b}=Proj_{C(A)}^b-\\vec{b}$$\n",
    "$$Ax^{'}-\\vec{b}\\in C(A)^{\\perp} \\rightarrow Ax^{'}-\\vec{b}\\in N(A^T)$$\n",
    "$$\\Downarrow$$\n",
    "$$A^T(Ax^{'}-\\vec{b})=\\vec{0}$$\n",
    "$$\\Downarrow$$\n",
    "$$A^TAx^{'}=A^T\\vec{b}$$\n",
    "所以，当$Ax=\\vec{b}$无解的时候，$A^TAx^{'}=A^T\\vec{b}$求出的$x^{'}$就是使得$\\vec{b}和Ax$的距离最小。这就是最小二乘解"
   ]
  },
  {
   "cell_type": "markdown",
   "id": "multiple-emperor",
   "metadata": {},
   "source": [
    "举例：\n",
    "在坐标系中共有四个点：(-1,0),(0,1),(1,2),(2,1),现在无法拟合一条直线穿过四个点，那么是否能找到或者拟合一条线使得四个点到这条直线的距离*也就是向量的长度，$\\|x\\|^2$*的和最短，也就是我们所要的最优解，（在线性回归中经常看到）。\n",
    "<img src='https://cdn.jsdelivr.net/gh/caoliang12121/pic@master/uPic/ZQTV6l.png' alt='ZQTV6l' width=\"50%\"/>\n",
    "首先在2维中的直线方程，我们设方程为：$y=mx+b$,那么就有：\n",
    "$$f(0)=-m+b,f(1)=b,f(2)=m+b,f(1)=2m+b$$\n",
    "可以看到在上述方程组中，m和b并没有解。所以我们使用最小二乘法来拟合这个方程，转换成矩阵：\n",
    "$$\\begin{bmatrix}\n",
    "-1 &1 \\\\ \n",
    "0 &1 \\\\ \n",
    " 1&1 \\\\ \n",
    " 2& 1\n",
    "\\end{bmatrix}\\begin{bmatrix}\n",
    "m\\\\ \n",
    "b\n",
    "\\end{bmatrix}=\\begin{bmatrix}\n",
    "0\\\\ \n",
    "1\\\\ \n",
    "2\\\\ \n",
    "1\n",
    "\\end{bmatrix}$$\n",
    "根据我们的公式，$A^TAx^{'}=A^T\\vec{b}$\n",
    "$$\\begin{bmatrix}\n",
    "-1 &0&1&1\\\\ \n",
    "1&1&1&1& \n",
    "\\end{bmatrix}\\begin{bmatrix}\n",
    "-1 &1 \\\\ \n",
    "0 &1 \\\\ \n",
    " 1&1 \\\\ \n",
    " 2& 1\n",
    "\\end{bmatrix}x^{'}=\\begin{bmatrix}\n",
    "-1 &0&1&1\\\\ \n",
    "1&1&1&1& \n",
    "\\end{bmatrix}\\begin{bmatrix}\n",
    "0\\\\ \n",
    "1\\\\ \n",
    "2\\\\ \n",
    "1\n",
    "\\end{bmatrix}$$\n",
    "$$\\Downarrow$$\n",
    "$$x^{'}=\\begin{bmatrix}\n",
    "\\frac{2}{5}\\\\ \n",
    "\\frac{4}{5}\\\\ \n",
    "\\end{bmatrix}$$\n",
    "所以最后拟合出来的直线方程就是$y=\\frac{2}{5}x+\\frac{4}{5}$"
   ]
  },
  {
   "cell_type": "markdown",
   "id": "fiscal-starter",
   "metadata": {},
   "source": [
    "## 向量在不同基下的变换"
   ]
  },
  {
   "cell_type": "markdown",
   "id": "informed-quality",
   "metadata": {},
   "source": [
    "V是$R^n$的子空间，$B=\\begin{Bmatrix}\n",
    "\\vec{v_1} &\\vec{v_2}&\\cdots &\\vec{v_k}\n",
    "\\end{Bmatrix},\\vec{a}\\in V \\rightarrow \\vec{a}=c_1\\vec{v_1}+\\cdots +c_k\\vec{v_k}$,那么$c_1,c_2\\cdots c_k就是a在基地B下的坐标,记作[\\vec{a}]_B=\\begin{bmatrix}\n",
    "c_1\\\\ \n",
    "c_2\\\\ \n",
    "\\vdots\\\\ \n",
    "c_k\n",
    "\\end{bmatrix}$,像$\\begin{bmatrix}\n",
    "1\\\\ \n",
    "0\n",
    "\\end{bmatrix},\\begin{bmatrix}\n",
    "0\\\\ \n",
    "1\n",
    "\\end{bmatrix}这种就叫做标准基$"
   ]
  },
  {
   "cell_type": "markdown",
   "id": "northern-kelly",
   "metadata": {},
   "source": [
    "对于不同的基坐标，向量的变换遵循：\n",
    "$$C[\\vec{a}]_B=\\vec{a}$$\n",
    "举例：\n",
    "$张成空间V有一组基：\\vec{v_1}=\\begin{bmatrix}\n",
    "1\\\\ \n",
    "2\\\\\n",
    "3\n",
    "\\end{bmatrix},\\vec{v_2}=\\begin{bmatrix}\n",
    "1\\\\ \n",
    "0\\\\\n",
    "1\n",
    "\\end{bmatrix},[\\vec{a}]_B=\\begin{bmatrix}\n",
    "7\\\\ \n",
    "-4\n",
    "\\end{bmatrix}$\n",
    "\n",
    "$这样根据上面的公式就可以计算出B的标准坐标了。反之当我们已知a的标准坐标想要求得[x]_B的坐标$\n",
    "$$[x]_B=C^{-1}\\vec{x}$$"
   ]
  },
  {
   "cell_type": "markdown",
   "id": "functional-currency",
   "metadata": {},
   "source": [
    "## 标准正交基\n",
    "$B=\\{\\vec{v_1},\\vec{v_2}\\cdots \\vec{v_k}\\},B中的每一个向量长度为1，每个向量之间彼此正交，这就是B的标准正交基$\n",
    "\n",
    "$A是V上的一个标准正交基，那么\\vec{x}在V上投影矩阵公式：$\n",
    "$$Proj_v^\\vec{x}=AA^T\\vec{x}$$\n",
    "\n",
    "$B是V上的一个标准正交基，\\vec{x}\\in V，那么\\vec{x}=c_1v_1+c_2v_2+\\cdots c_kv_k，\\vec{v_i}与\\vec{x}的点乘$\n",
    "$\\vec{v_i}\\cdot \\vec{x}=c_1v_1v_i+c_2v_2v_i+\\cdots+ c_iv_iv_i+\\cdots c_kv_kv_i$\n",
    "由标准正交基的特性可知，互相之间正交，自身长度为1，所以最后得到$\\vec{v_i}\\cdot \\vec{x}=C_i$\n",
    "\n",
    "$前面说的当我们已知a的标准坐标想要求得[x]_B的坐标，根据公式[x]_B=C_i\\vec{x}$，在标准正交基下，可以简化成：\n",
    "\n",
    "$$[x]_B=\\begin{bmatrix}\n",
    "\\vec{v_1}\\cdot \\vec{x}\\\\ \n",
    "\\vec{v_2}\\cdot \\vec{x}\\\\ \n",
    "\\vdots \\\\ \n",
    "\\vec{v_k}\\cdot \\vec{x}\n",
    "\\end{bmatrix},v_1,v_2是B上的一组标准正交基$$"
   ]
  },
  {
   "cell_type": "code",
   "execution_count": 13,
   "id": "aerial-binary",
   "metadata": {},
   "outputs": [
    {
     "data": {
      "text/plain": [
       "5050"
      ]
     },
     "execution_count": 13,
     "metadata": {},
     "output_type": "execute_result"
    }
   ],
   "source": []
  },
  {
   "cell_type": "markdown",
   "id": "motivated-static",
   "metadata": {},
   "source": []
  },
  {
   "cell_type": "markdown",
   "id": "formal-expression",
   "metadata": {},
   "source": []
  },
  {
   "cell_type": "markdown",
   "id": "intimate-drinking",
   "metadata": {},
   "source": []
  },
  {
   "cell_type": "markdown",
   "id": "requested-amplifier",
   "metadata": {},
   "source": []
  },
  {
   "cell_type": "markdown",
   "id": "norman-clause",
   "metadata": {},
   "source": []
  },
  {
   "cell_type": "markdown",
   "id": "collectible-animation",
   "metadata": {},
   "source": []
  },
  {
   "cell_type": "markdown",
   "id": "paperback-shaft",
   "metadata": {},
   "source": []
  },
  {
   "cell_type": "markdown",
   "id": "ready-steps",
   "metadata": {},
   "source": []
  },
  {
   "cell_type": "markdown",
   "id": "english-berkeley",
   "metadata": {},
   "source": []
  },
  {
   "cell_type": "markdown",
   "id": "nuclear-spine",
   "metadata": {},
   "source": []
  },
  {
   "cell_type": "markdown",
   "id": "center-shelf",
   "metadata": {},
   "source": []
  },
  {
   "cell_type": "markdown",
   "id": "interpreted-penny",
   "metadata": {},
   "source": []
  },
  {
   "cell_type": "markdown",
   "id": "demonstrated-america",
   "metadata": {},
   "source": []
  },
  {
   "cell_type": "code",
   "execution_count": 24,
   "id": "historical-speaker",
   "metadata": {},
   "outputs": [
    {
     "data": {
      "text/plain": [
       "<matplotlib.legend.Legend at 0x7f5635f03278>"
      ]
     },
     "execution_count": 24,
     "metadata": {},
     "output_type": "execute_result"
    },
    {
     "data": {
      "image/png": "[encoded data removed]",
      "text/plain": [
       "<matplotlib.figure.Figure at 0x7f5635f22940>"
      ]
     },
     "metadata": {},
     "output_type": "display_data"
    }
   ],
   "source": [
    "plt.rcParams['font.family'] = ['Simhei']\n",
    "# plt.rcParams[\"axes.unicode_minus\"] = False\n",
    "fig = plt.figure(num=1, figsize=(8, 8),dpi=80) \n",
    "plt.plot(a,b,label='零空间')\n",
    "plt.plot(a2,b2,label='Ax=b的解集')\n",
    "plt.plot(a3,b3,label='行空间')\n",
    "plt.scatter(27/13,-18/13,c='r')\n",
    "plt.annotate('交点',(27/13,-18/13))\n",
    "plt.axhline(y=0,ls=\":\",c='k')\n",
    "plt.axvline(x=0,ls=\":\",c=\"k\")\n",
    "plt.xlim((-30, 30))\n",
    "plt.ylim((-30, 30))\n",
    "plt.legend(loc=\"best\")"
   ]
  },
  {
   "cell_type": "code",
   "execution_count": 10,
   "id": "cross-locator",
   "metadata": {
    "collapsed": true
   },
   "outputs": [
    {
     "name": "stdout",
     "output_type": "stream",
     "text": [
      "-10\n",
      "-9\n",
      "-8\n",
      "-7\n",
      "-6\n",
      "-5\n",
      "-4\n",
      "-3\n",
      "-2\n",
      "-1\n",
      "0\n",
      "1\n",
      "2\n",
      "3\n",
      "4\n",
      "5\n",
      "6\n",
      "7\n",
      "8\n",
      "9\n",
      "10\n"
     ]
    }
   ],
   "source": [
    "a=[]\n",
    "b=[]\n",
    "a2=[]\n",
    "b2=[]\n",
    "a3=[]\n",
    "b3=[]\n",
    "for i in range(-10,11):\n",
    "    print(i)\n",
    "    a.append(2*i)\n",
    "    b.append(3*i)\n",
    "    a2.append(2*i+3)\n",
    "    b2.append(3*i)\n",
    "    a3.append(3*i)\n",
    "    b3.append(-2*i)"
   ]
  },
  {
   "cell_type": "code",
   "execution_count": 2,
   "id": "signal-relation",
   "metadata": {
    "collapsed": true
   },
   "outputs": [],
   "source": [
    "a=[[-1,0],[0,1],[1,2],[2,1]]"
   ]
  },
  {
   "cell_type": "code",
   "execution_count": 10,
   "id": "chicken-enforcement",
   "metadata": {},
   "outputs": [
    {
     "data": {
      "text/plain": [
       "[<matplotlib.lines.Line2D at 0x7ff58aa39c50>]"
      ]
     },
     "execution_count": 10,
     "metadata": {},
     "output_type": "execute_result"
    },
    {
     "data": {
      "image/png": "[encoded data removed]",
      "text/plain": [
       "<matplotlib.figure.Figure at 0x7ff58aa13b00>"
      ]
     },
     "metadata": {},
     "output_type": "display_data"
    }
   ],
   "source": [
    "for i,j in a:\n",
    "    plt.scatter(i,j)\n",
    "plt.axhline(y=0,ls=\":\",c='k')\n",
    "plt.axvline(x=0,ls=\":\",c=\"k\")\n",
    "x_cor=[];y_cor=[]\n",
    "for x in range(-5,5):\n",
    "    x_cor.append(x)\n",
    "    y_cor.append(2/5*x+4/5)\n",
    "plt.plot(x_cor,y_cor)"
   ]
  },
  {
   "cell_type": "code",
   "execution_count": 8,
   "id": "geological-hotel",
   "metadata": {},
   "outputs": [
    {
     "data": {
      "text/plain": [
       "[[-5, -1.2],\n",
       " [-4, -0.8],\n",
       " [-3, -0.40000000000000013],\n",
       " [-2, 0.0],\n",
       " [-1, 0.4],\n",
       " [0, 0.8],\n",
       " [1, 1.2000000000000002],\n",
       " [2, 1.6],\n",
       " [3, 2.0],\n",
       " [4, 2.4000000000000004]]"
      ]
     },
     "execution_count": 8,
     "metadata": {},
     "output_type": "execute_result"
    }
   ],
   "source": [
    "b"
   ]
  },
  {
   "cell_type": "code",
   "execution_count": 9,
   "id": "northern-editing",
   "metadata": {},
   "outputs": [
    {
     "name": "stdout",
     "output_type": "stream",
     "text": [
      "Help on function plot in module matplotlib.pyplot:\n",
      "\n",
      "plot(*args, **kwargs)\n",
      "    Plot lines and/or markers to the\n",
      "    :class:`~matplotlib.axes.Axes`.  *args* is a variable length\n",
      "    argument, allowing for multiple *x*, *y* pairs with an\n",
      "    optional format string.  For example, each of the following is\n",
      "    legal::\n",
      "    \n",
      "        plot(x, y)        # plot x and y using default line style and color\n",
      "        plot(x, y, 'bo')  # plot x and y using blue circle markers\n",
      "        plot(y)           # plot y using x as index array 0..N-1\n",
      "        plot(y, 'r+')     # ditto, but with red plusses\n",
      "    \n",
      "    If *x* and/or *y* is 2-dimensional, then the corresponding columns\n",
      "    will be plotted.\n",
      "    \n",
      "    If used with labeled data, make sure that the color spec is not\n",
      "    included as an element in data, as otherwise the last case\n",
      "    ``plot(\"v\",\"r\", data={\"v\":..., \"r\":...)``\n",
      "    can be interpreted as the first case which would do ``plot(v, r)``\n",
      "    using the default line style and color.\n",
      "    \n",
      "    If not used with labeled data (i.e., without a data argument),\n",
      "    an arbitrary number of *x*, *y*, *fmt* groups can be specified, as in::\n",
      "    \n",
      "        a.plot(x1, y1, 'g^', x2, y2, 'g-')\n",
      "    \n",
      "    Return value is a list of lines that were added.\n",
      "    \n",
      "    By default, each line is assigned a different style specified by a\n",
      "    'style cycle'.  To change this behavior, you can edit the\n",
      "    axes.prop_cycle rcParam.\n",
      "    \n",
      "    The following format string characters are accepted to control\n",
      "    the line style or marker:\n",
      "    \n",
      "    ================    ===============================\n",
      "    character           description\n",
      "    ================    ===============================\n",
      "    ``'-'``             solid line style\n",
      "    ``'--'``            dashed line style\n",
      "    ``'-.'``            dash-dot line style\n",
      "    ``':'``             dotted line style\n",
      "    ``'.'``             point marker\n",
      "    ``','``             pixel marker\n",
      "    ``'o'``             circle marker\n",
      "    ``'v'``             triangle_down marker\n",
      "    ``'^'``             triangle_up marker\n",
      "    ``'<'``             triangle_left marker\n",
      "    ``'>'``             triangle_right marker\n",
      "    ``'1'``             tri_down marker\n",
      "    ``'2'``             tri_up marker\n",
      "    ``'3'``             tri_left marker\n",
      "    ``'4'``             tri_right marker\n",
      "    ``'s'``             square marker\n",
      "    ``'p'``             pentagon marker\n",
      "    ``'*'``             star marker\n",
      "    ``'h'``             hexagon1 marker\n",
      "    ``'H'``             hexagon2 marker\n",
      "    ``'+'``             plus marker\n",
      "    ``'x'``             x marker\n",
      "    ``'D'``             diamond marker\n",
      "    ``'d'``             thin_diamond marker\n",
      "    ``'|'``             vline marker\n",
      "    ``'_'``             hline marker\n",
      "    ================    ===============================\n",
      "    \n",
      "    \n",
      "    The following color abbreviations are supported:\n",
      "    \n",
      "    ==========  ========\n",
      "    character   color\n",
      "    ==========  ========\n",
      "    'b'         blue\n",
      "    'g'         green\n",
      "    'r'         red\n",
      "    'c'         cyan\n",
      "    'm'         magenta\n",
      "    'y'         yellow\n",
      "    'k'         black\n",
      "    'w'         white\n",
      "    ==========  ========\n",
      "    \n",
      "    In addition, you can specify colors in many weird and\n",
      "    wonderful ways, including full names (``'green'``), hex\n",
      "    strings (``'#008000'``), RGB or RGBA tuples (``(0,1,0,1)``) or\n",
      "    grayscale intensities as a string (``'0.8'``).  Of these, the\n",
      "    string specifications can be used in place of a ``fmt`` group,\n",
      "    but the tuple forms can be used only as ``kwargs``.\n",
      "    \n",
      "    Line styles and colors are combined in a single format string, as in\n",
      "    ``'bo'`` for blue circles.\n",
      "    \n",
      "    The *kwargs* can be used to set line properties (any property that has\n",
      "    a ``set_*`` method).  You can use this to set a line label (for auto\n",
      "    legends), linewidth, anitialising, marker face color, etc.  Here is an\n",
      "    example::\n",
      "    \n",
      "        plot([1,2,3], [1,2,3], 'go-', label='line 1', linewidth=2)\n",
      "        plot([1,2,3], [1,4,9], 'rs',  label='line 2')\n",
      "        axis([0, 4, 0, 10])\n",
      "        legend()\n",
      "    \n",
      "    If you make multiple lines with one plot command, the kwargs\n",
      "    apply to all those lines, e.g.::\n",
      "    \n",
      "        plot(x1, y1, x2, y2, antialiased=False)\n",
      "    \n",
      "    Neither line will be antialiased.\n",
      "    \n",
      "    You do not need to use format strings, which are just\n",
      "    abbreviations.  All of the line properties can be controlled\n",
      "    by keyword arguments.  For example, you can set the color,\n",
      "    marker, linestyle, and markercolor with::\n",
      "    \n",
      "        plot(x, y, color='green', linestyle='dashed', marker='o',\n",
      "             markerfacecolor='blue', markersize=12).\n",
      "    \n",
      "    See :class:`~matplotlib.lines.Line2D` for details.\n",
      "    \n",
      "    The kwargs are :class:`~matplotlib.lines.Line2D` properties:\n",
      "    \n",
      "      agg_filter: unknown\n",
      "      alpha: float (0.0 transparent through 1.0 opaque) \n",
      "      animated: [True | False] \n",
      "      antialiased or aa: [True | False] \n",
      "      axes: an :class:`~matplotlib.axes.Axes` instance \n",
      "      clip_box: a :class:`matplotlib.transforms.Bbox` instance \n",
      "      clip_on: [True | False] \n",
      "      clip_path: [ (:class:`~matplotlib.path.Path`, :class:`~matplotlib.transforms.Transform`) | :class:`~matplotlib.patches.Patch` | None ] \n",
      "      color or c: any matplotlib color \n",
      "      contains: a callable function \n",
      "      dash_capstyle: ['butt' | 'round' | 'projecting'] \n",
      "      dash_joinstyle: ['miter' | 'round' | 'bevel'] \n",
      "      dashes: sequence of on/off ink in points \n",
      "      drawstyle: ['default' | 'steps' | 'steps-pre' | 'steps-mid' | 'steps-post'] \n",
      "      figure: a :class:`matplotlib.figure.Figure` instance \n",
      "      fillstyle: ['full' | 'left' | 'right' | 'bottom' | 'top' | 'none'] \n",
      "      gid: an id string \n",
      "      label: string or anything printable with '%s' conversion. \n",
      "      linestyle or ls: ['solid' | 'dashed', 'dashdot', 'dotted' | (offset, on-off-dash-seq) | ``'-'`` | ``'--'`` | ``'-.'`` | ``':'`` | ``'None'`` | ``' '`` | ``''``]\n",
      "      linewidth or lw: float value in points \n",
      "      marker: :mod:`A valid marker style <matplotlib.markers>`\n",
      "      markeredgecolor or mec: any matplotlib color \n",
      "      markeredgewidth or mew: float value in points \n",
      "      markerfacecolor or mfc: any matplotlib color \n",
      "      markerfacecoloralt or mfcalt: any matplotlib color \n",
      "      markersize or ms: float \n",
      "      markevery: [None | int | length-2 tuple of int | slice | list/array of int | float | length-2 tuple of float]\n",
      "      path_effects: unknown\n",
      "      picker: float distance in points or callable pick function ``fn(artist, event)`` \n",
      "      pickradius: float distance in points \n",
      "      rasterized: [True | False | None] \n",
      "      sketch_params: unknown\n",
      "      snap: unknown\n",
      "      solid_capstyle: ['butt' | 'round' |  'projecting'] \n",
      "      solid_joinstyle: ['miter' | 'round' | 'bevel'] \n",
      "      transform: a :class:`matplotlib.transforms.Transform` instance \n",
      "      url: a url string \n",
      "      visible: [True | False] \n",
      "      xdata: 1D array \n",
      "      ydata: 1D array \n",
      "      zorder: any number \n",
      "    \n",
      "    kwargs *scalex* and *scaley*, if defined, are passed on to\n",
      "    :meth:`~matplotlib.axes.Axes.autoscale_view` to determine\n",
      "    whether the *x* and *y* axes are autoscaled; the default is\n",
      "    *True*.\n",
      "    \n",
      "    .. note::\n",
      "        In addition to the above described arguments, this function can take a\n",
      "        **data** keyword argument. If such a **data** argument is given, the\n",
      "        following arguments are replaced by **data[<arg>]**:\n",
      "    \n",
      "        * All arguments with the following names: 'x', 'y'.\n",
      "\n"
     ]
    }
   ],
   "source": [
    "help(plt.plot)"
   ]
  },
  {
   "cell_type": "code",
   "execution_count": null,
   "id": "emerging-mustang",
   "metadata": {
    "collapsed": true
   },
   "outputs": [],
   "source": []
  },
  {
   "cell_type": "code",
   "execution_count": null,
   "id": "flush-torture",
   "metadata": {
    "collapsed": true
   },
   "outputs": [],
   "source": []
  }
 ],
 "metadata": {
  "kernelspec": {
   "display_name": "Python 3",
   "language": "python",
   "name": "python3"
  },
  "language_info": {
   "codemirror_mode": {
    "name": "ipython",
    "version": 3
   },
   "file_extension": ".py",
   "mimetype": "text/x-python",
   "name": "python",
   "nbconvert_exporter": "python",
   "pygments_lexer": "ipython3",
   "version": "3.6.2"
  }
 },
 "nbformat": 4,
 "nbformat_minor": 5
}
